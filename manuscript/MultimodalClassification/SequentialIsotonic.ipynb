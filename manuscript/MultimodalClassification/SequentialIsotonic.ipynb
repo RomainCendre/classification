{
 "cells": [
  {
   "cell_type": "markdown",
   "metadata": {},
   "source": [
    "# Imports"
   ]
  },
  {
   "cell_type": "code",
   "execution_count": null,
   "metadata": {
    "run_control": {
     "marked": false
    }
   },
   "outputs": [],
   "source": [
    "import os\n",
    "import sys\n",
    "sys.path.append('/home/rcendre/classification')\n",
    "\n",
    "import itertools\n",
    "import pandas\n",
    "import webbrowser\n",
    "from pathlib import Path\n",
    "import matplotlib.pyplot as plt\n",
    "from misvm import SIL, MISVM, NSK\n",
    "from numpy import array, logspace\n",
    "from scipy.stats import randint,uniform\n",
    "from sklearn.decomposition import PCA\n",
    "from sklearn.ensemble import ExtraTreesClassifier\n",
    "from sklearn.manifold import TSNE\n",
    "from sklearn.pipeline import Pipeline\n",
    "from sklearn.preprocessing import LabelEncoder, MinMaxScaler, RobustScaler, StandardScaler\n",
    "from sklearn.ensemble import GradientBoostingClassifier\n",
    "from sklearn.svm import SVC\n",
    "from sklearn.tree import DecisionTreeClassifier\n",
    "from sklearn.neural_network import MLPClassifier\n",
    "from sklearn.metrics import davies_bouldin_score\n",
    "from toolbox.classification.common import Data, Folds, IO, Tools\n",
    "from toolbox.classification.parameters import Dermatology, Settings\n",
    "from toolbox.models.models import CustomMIL, MultimodalClassifier\n",
    "from toolbox.models.builtin import Applications\n",
    "from toolbox.IO import dermatology\n",
    "from sklearn.metrics import f1_score\n",
    "from toolbox.transforms.common import PredictorTransform\n",
    "from toolbox.transforms.labels import OrderedEncoder\n",
    "from toolbox.transforms.images import DistributionImageTransform, DWTImageTransform, FourierImageTransform, HaralickImageTransform, SpatialImageTransform\n",
    "from toolbox.views.common import Views, ViewsTools\n",
    "from toolbox.views.images import ImagesViews\n",
    "import warnings\n",
    "warnings.filterwarnings('ignore') "
   ]
  },
  {
   "cell_type": "markdown",
   "metadata": {},
   "source": [
    "# Parameters"
   ]
  },
  {
   "cell_type": "code",
   "execution_count": null,
   "metadata": {
    "run_control": {
     "marked": false
    }
   },
   "outputs": [],
   "source": [
    "# Advanced parameters\n",
    "data_type='Full'\n",
    "prefix = 'Sequential_Isotonic'\n",
    "validation = 10\n",
    "settings = Settings.get_default_dermatology()"
   ]
  },
  {
   "cell_type": "markdown",
   "metadata": {},
   "source": [
    "# Photography"
   ]
  },
  {
   "cell_type": "code",
   "execution_count": null,
   "metadata": {
    "run_control": {
     "marked": false
    }
   },
   "outputs": [],
   "source": [
    "p_inputs = IO.load('Photography.pickle')"
   ]
  },
  {
   "cell_type": "code",
   "execution_count": null,
   "metadata": {},
   "outputs": [],
   "source": [
    "extractor = 'ResNetAvg'\n",
    "\n",
    "# SVM Linear\n",
    "model = Pipeline([('scale', MinMaxScaler()), ('clf', SVC(kernel='linear', class_weight='balanced', probability=True))])\n",
    "model_params = {'clf__C': logspace(-2, 3, 6).tolist()}"
   ]
  },
  {
   "cell_type": "code",
   "execution_count": null,
   "metadata": {},
   "outputs": [],
   "source": [
    "low_folds = Tools.generate_folds(([1, 2, 3, 4, 5, 6, 7, 8], [9]), validation)\n",
    "Tools.evaluate(p_inputs, {'datum': extractor, 'label_encode': 'LesionEncode'}, model, 'Prediction', folds=low_folds, distribution=model_params, calibrate='isotonic') "
   ]
  },
  {
   "cell_type": "code",
   "execution_count": null,
   "metadata": {},
   "outputs": [],
   "source": [
    "from IPython.display import HTML\n",
    "from IPython.display import display\n",
    "\n",
    "diagnosis_encoder = OrderedEncoder().fit(['Benign', 'Malignant'])\n",
    "\n",
    "# ROC Curve\n",
    "ViewsTools.plot_size((8,8))     \n",
    "\n",
    "name = f'Prediction'\n",
    "# Label\n",
    "display(HTML(ViewsTools.dataframe_renderer([Views.report(p_inputs, {'label_encode': 'LesionEncode', 'eval': name}, diagnosis_encoder)],\n",
    "                                                                    title=[f'Photography'])))"
   ]
  },
  {
   "cell_type": "markdown",
   "metadata": {},
   "source": [
    "# Dermoscopy"
   ]
  },
  {
   "cell_type": "code",
   "execution_count": null,
   "metadata": {},
   "outputs": [],
   "source": [
    "d_inputs = IO.load('Dermoscopy.pickle')"
   ]
  },
  {
   "cell_type": "code",
   "execution_count": null,
   "metadata": {},
   "outputs": [],
   "source": [
    "extractor = 'ResNetAvg'\n",
    "\n",
    "# SVM Linear\n",
    "model = Pipeline([('scale', MinMaxScaler()), ('clf', SVC(kernel='linear', class_weight='balanced', probability=True))])\n",
    "model_params = {'clf__C': logspace(-2, 3, 6).tolist()}"
   ]
  },
  {
   "cell_type": "code",
   "execution_count": null,
   "metadata": {},
   "outputs": [],
   "source": [
    "low_folds = Tools.generate_folds(([1, 2, 3, 4, 5, 6, 7, 8], [9]), validation)\n",
    "Tools.evaluate(d_inputs, {'datum': extractor, 'label_encode': 'LesionEncode'}, model, 'Prediction', folds=low_folds, distribution=model_params, calibrate='isotonic') "
   ]
  },
  {
   "cell_type": "code",
   "execution_count": null,
   "metadata": {},
   "outputs": [],
   "source": [
    "from IPython.display import HTML\n",
    "from IPython.display import display\n",
    "\n",
    "diagnosis_encoder = OrderedEncoder().fit(['Benign', 'Malignant'])\n",
    "\n",
    "# ROC Curve\n",
    "ViewsTools.plot_size((8,8))     \n",
    "\n",
    "name = f'Prediction'\n",
    "# Label\n",
    "display(HTML(ViewsTools.dataframe_renderer([Views.report(d_inputs, {'label_encode': 'LesionEncode', 'eval': name}, diagnosis_encoder)],\n",
    "                                                                    title=[f'Dermoscopy'])))"
   ]
  },
  {
   "cell_type": "markdown",
   "metadata": {},
   "source": [
    "# Microscopy"
   ]
  },
  {
   "cell_type": "code",
   "execution_count": null,
   "metadata": {},
   "outputs": [],
   "source": [
    "m_inputs = IO.load('Microscopy.pickle')"
   ]
  },
  {
   "cell_type": "code",
   "execution_count": null,
   "metadata": {},
   "outputs": [],
   "source": [
    "extractor = 'ResNetAvg'\n",
    "all_image = [True] * len(m_inputs.index)\n",
    "single_image = m_inputs['ID_Image'] == '0M'\n",
    "Data.build_bags(m_inputs, single_image, 'ID_Lesion', all_image, 'ID_Lesion', extractor)\n",
    "m_inputs = m_inputs[single_image].reset_index()"
   ]
  },
  {
   "cell_type": "code",
   "execution_count": null,
   "metadata": {},
   "outputs": [],
   "source": [
    "low_folds = Tools.generate_folds(([1, 2, 3, 4, 5, 6, 7, 8], [9]), validation)\n",
    "model = CustomMIL(NSK(kernel='linear', C=1.0, verbose=False))\n",
    "model_params = {'estimator__C': logspace(-2, 3, 6).tolist()}\n",
    "Tools.evaluate(m_inputs, {'datum': extractor, 'label_encode': 'LesionEncode'}, model, 'Prediction', folds=low_folds, distribution=model_params)"
   ]
  },
  {
   "cell_type": "code",
   "execution_count": null,
   "metadata": {},
   "outputs": [],
   "source": [
    "from IPython.display import HTML\n",
    "from IPython.display import display\n",
    "\n",
    "diagnosis_encoder = OrderedEncoder().fit(['Benign', 'Malignant'])\n",
    "\n",
    "# ROC Curve\n",
    "ViewsTools.plot_size((8,8))     \n",
    "\n",
    "name = f'Prediction'\n",
    "# Label\n",
    "display(HTML(ViewsTools.dataframe_renderer([Views.report(m_inputs, {'label_encode': 'LesionEncode', 'eval': name}, diagnosis_encoder)],\n",
    "                                                                    title=[f'Microscopy'])))"
   ]
  },
  {
   "cell_type": "markdown",
   "metadata": {},
   "source": [
    "# Fusion"
   ]
  },
  {
   "cell_type": "code",
   "execution_count": null,
   "metadata": {},
   "outputs": [],
   "source": [
    "inputs = pandas.concat([p_inputs, d_inputs, m_inputs], axis=0)\n",
    "inputs = inputs.reset_index(drop=True)\n",
    " # Save\n",
    "IO.save(inputs, f'Low_{prefix}.pickle')"
   ]
  },
  {
   "cell_type": "markdown",
   "metadata": {},
   "source": [
    "# Sequential"
   ]
  },
  {
   "cell_type": "code",
   "execution_count": null,
   "metadata": {},
   "outputs": [],
   "source": [
    "inputs = IO.load(f'Low_{prefix}.pickle')"
   ]
  },
  {
   "cell_type": "code",
   "execution_count": null,
   "metadata": {},
   "outputs": [],
   "source": [
    "all_image = [True] * len(inputs.index)\n",
    "single_image = inputs['Modality'] == 'Photography'\n",
    "Data.build_bags(inputs, single_image, 'ID_Lesion', all_image, 'ID_Lesion', f'Prediction_{Tools.PROBABILITY}')\n",
    "inputs = inputs[single_image].reset_index()"
   ]
  },
  {
   "cell_type": "code",
   "execution_count": null,
   "metadata": {},
   "outputs": [],
   "source": [
    "high_folds = Tools.generate_folds(([1], [2]), validation)\n",
    "modality = MultimodalClassifier(method='modality', metric=f1_score)\n",
    "modality_rev = MultimodalClassifier(method='modality', metric=f1_score, ordered=False)\n",
    "classe = MultimodalClassifier(method='modality_class', metric=f1_score)\n",
    "classe_rev = MultimodalClassifier(method='modality_class', metric=f1_score, ordered=False)\n",
    "\n",
    "modality_ones = MultimodalClassifier(method='modality', metric=f1_score, from_zero=False)\n",
    "modality_rev_ones = MultimodalClassifier(method='modality', metric=f1_score, ordered=False, from_zero=False)\n",
    "classe_ones = MultimodalClassifier(method='modality_class', metric=f1_score, from_zero=False)\n",
    "classe_rev_ones = MultimodalClassifier(method='modality_class', metric=f1_score, ordered=False, from_zero=False)"
   ]
  },
  {
   "cell_type": "code",
   "execution_count": null,
   "metadata": {},
   "outputs": [],
   "source": [
    "Tools.evaluate(inputs, {'datum': f'Prediction_{Tools.PROBABILITY}', 'label_encode': 'LesionEncode'}, modality, 'modality')\n",
    "Tools.evaluate(inputs, {'datum': f'Prediction_{Tools.PROBABILITY}', 'label_encode': 'LesionEncode'}, modality_rev, 'modality_rev')\n",
    "Tools.evaluate(inputs, {'datum': f'Prediction_{Tools.PROBABILITY}', 'label_encode': 'LesionEncode'}, classe, 'modality_class') \n",
    "Tools.evaluate(inputs, {'datum': f'Prediction_{Tools.PROBABILITY}', 'label_encode': 'LesionEncode'}, classe_rev, 'modality_class_rev')\n",
    "\n",
    "Tools.evaluate(inputs, {'datum': f'Prediction_{Tools.PROBABILITY}', 'label_encode': 'LesionEncode'}, modality, 'modality_ones')\n",
    "Tools.evaluate(inputs, {'datum': f'Prediction_{Tools.PROBABILITY}', 'label_encode': 'LesionEncode'}, modality_rev, 'modality_rev_ones')\n",
    "Tools.evaluate(inputs, {'datum': f'Prediction_{Tools.PROBABILITY}', 'label_encode': 'LesionEncode'}, classe, 'modality_class_ones') \n",
    "Tools.evaluate(inputs, {'datum': f'Prediction_{Tools.PROBABILITY}', 'label_encode': 'LesionEncode'}, classe_rev, 'modality_class_rev_ones') \n",
    "IO.save(inputs, f'High_{prefix}.pickle')"
   ]
  },
  {
   "cell_type": "markdown",
   "metadata": {},
   "source": [
    "# Score"
   ]
  },
  {
   "cell_type": "code",
   "execution_count": null,
   "metadata": {},
   "outputs": [],
   "source": [
    "from IPython.display import HTML\n",
    "from IPython.display import display\n",
    "\n",
    "prefix = 'Sequential_Isotonic'\n",
    "diagnosis_encoder = OrderedEncoder().fit(['Benign', 'Malignant'])\n",
    "\n",
    "# ROC Curve\n",
    "ViewsTools.plot_size((8,8))     \n",
    "\n",
    "name = f'modality'\n",
    "display(HTML(ViewsTools.dataframe_renderer([Views.report(inputs, {'label_encode': 'LesionEncode', 'eval': name}, diagnosis_encoder)],\n",
    "                                                                    title=[f'Test - {name}'])))\n",
    "figure = Views.steps_visualization(inputs, {'label_encode': 'LesionEncode', 'eval': name})\n",
    "figure.savefig(f'{prefix}_{name}.svg')\n",
    "figure.show()\n",
    "\n",
    "name = f'modality_rev'\n",
    "display(HTML(ViewsTools.dataframe_renderer([Views.report(inputs, {'label_encode': 'LesionEncode', 'eval': name}, diagnosis_encoder)],\n",
    "                                                                    title=[f'Test - {name}'])))\n",
    "figure = Views.steps_visualization(inputs, {'label_encode': 'LesionEncode', 'eval': name})\n",
    "figure.savefig(f'{prefix}_{name}.svg')\n",
    "figure.show()\n",
    "\n",
    "name = f'modality_class'\n",
    "display(HTML(ViewsTools.dataframe_renderer([Views.report(inputs, {'label_encode': 'LesionEncode', 'eval': name}, diagnosis_encoder)],\n",
    "                                                                        title=[f'Test - {name}'])))\n",
    "figure = Views.steps_visualization(inputs, {'label_encode': 'LesionEncode', 'eval': name})\n",
    "figure.savefig(f'{prefix}_{name}.svg')\n",
    "figure.show()\n",
    "\n",
    "name = f'modality_class_rev'\n",
    "display(HTML(ViewsTools.dataframe_renderer([Views.report(inputs, {'label_encode': 'LesionEncode', 'eval': name}, diagnosis_encoder)],\n",
    "                                                                        title=[f'Test - {name}'])))\n",
    "figure = Views.steps_visualization(inputs, {'label_encode': 'LesionEncode', 'eval': name})\n",
    "figure.savefig(f'{prefix}_{name}.svg')\n",
    "figure.show()\n",
    "\n",
    "name = f'modality_ones'\n",
    "display(HTML(ViewsTools.dataframe_renderer([Views.report(inputs, {'label_encode': 'LesionEncode', 'eval': name}, diagnosis_encoder)],\n",
    "                                                                    title=[f'Test - {name}'])))\n",
    "figure = Views.steps_visualization(inputs, {'label_encode': 'LesionEncode', 'eval': name})\n",
    "figure.savefig(f'{prefix}_{name}.svg')\n",
    "figure.show()\n",
    "\n",
    "name = f'modality_rev_ones'\n",
    "display(HTML(ViewsTools.dataframe_renderer([Views.report(inputs, {'label_encode': 'LesionEncode', 'eval': name}, diagnosis_encoder)],\n",
    "                                                                    title=[f'Test - {name}'])))\n",
    "figure = Views.steps_visualization(inputs, {'label_encode': 'LesionEncode', 'eval': name})\n",
    "figure.savefig(f'{prefix}_{name}.svg')\n",
    "figure.show()\n",
    "\n",
    "name = f'modality_class_ones'\n",
    "display(HTML(ViewsTools.dataframe_renderer([Views.report(inputs, {'label_encode': 'LesionEncode', 'eval': name}, diagnosis_encoder)],\n",
    "                                                                        title=[f'Test - {name}'])))\n",
    "figure = Views.steps_visualization(inputs, {'label_encode': 'LesionEncode', 'eval': name})\n",
    "figure.savefig(f'{prefix}_{name}.svg')\n",
    "figure.show()\n",
    "\n",
    "name = f'modality_class_rev_ones'\n",
    "display(HTML(ViewsTools.dataframe_renderer([Views.report(inputs, {'label_encode': 'LesionEncode', 'eval': name}, diagnosis_encoder)],\n",
    "                                                                        title=[f'Test - {name}'])))\n",
    "figure = Views.steps_visualization(inputs, {'label_encode': 'LesionEncode', 'eval': name})\n",
    "figure.savefig(f'{prefix}_{name}.svg')\n",
    "figure.show()"
   ]
  },
  {
   "cell_type": "code",
   "execution_count": null,
   "metadata": {},
   "outputs": [],
   "source": []
  }
 ],
 "metadata": {
  "kernelspec": {
   "display_name": "Python 3",
   "language": "python",
   "name": "python3"
  },
  "language_info": {
   "codemirror_mode": {
    "name": "ipython",
    "version": 3
   },
   "file_extension": ".py",
   "mimetype": "text/x-python",
   "name": "python",
   "nbconvert_exporter": "python",
   "pygments_lexer": "ipython3",
   "version": "3.7.6"
  },
  "varInspector": {
   "cols": {
    "lenName": 16,
    "lenType": 16,
    "lenVar": 40
   },
   "kernels_config": {
    "python": {
     "delete_cmd_postfix": "",
     "delete_cmd_prefix": "del ",
     "library": "var_list.py",
     "varRefreshCmd": "print(var_dic_list())"
    },
    "r": {
     "delete_cmd_postfix": ") ",
     "delete_cmd_prefix": "rm(",
     "library": "var_list.r",
     "varRefreshCmd": "cat(var_dic_list()) "
    }
   },
   "position": {
    "height": "501.398px",
    "left": "1406px",
    "right": "20px",
    "top": "134px",
    "width": "350px"
   },
   "types_to_exclude": [
    "module",
    "function",
    "builtin_function_or_method",
    "instance",
    "_Feature"
   ],
   "window_display": false
  }
 },
 "nbformat": 4,
 "nbformat_minor": 2
}
