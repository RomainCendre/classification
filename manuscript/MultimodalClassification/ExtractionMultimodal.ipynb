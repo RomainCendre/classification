{
 "cells": [
  {
   "cell_type": "markdown",
   "metadata": {},
   "source": [
    "# Imports"
   ]
  },
  {
   "cell_type": "code",
   "execution_count": null,
   "metadata": {},
   "outputs": [],
   "source": [
    "import sys\n",
    "sys.path.append('/home/rcendre/classification')\n",
    "import os\n",
    "os.environ[\"CUDA_DEVICE_ORDER\"]=\"PCI_BUS_ID\";\n",
    "os.environ[\"CUDA_VISIBLE_DEVICES\"]=\"1\";  \n",
    "\n",
    "import itertools\n",
    "import webbrowser\n",
    "from pathlib import Path\n",
    "import matplotlib.pyplot as plt\n",
    "from numpy import array, logspace\n",
    "from scipy.stats import randint as randint\n",
    "from sklearn.decomposition import PCA\n",
    "from sklearn.ensemble import ExtraTreesClassifier\n",
    "from sklearn.manifold import TSNE\n",
    "from sklearn.pipeline import Pipeline\n",
    "from sklearn.preprocessing import LabelEncoder, StandardScaler\n",
    "from sklearn.svm import SVC\n",
    "from sklearn.tree import DecisionTreeClassifier\n",
    "from sklearn.metrics import davies_bouldin_score\n",
    "from toolbox.classification.common import Folds, IO, Tools\n",
    "from toolbox.classification.parameters import Dermatology, Settings\n",
    "from toolbox.models.builtin import Applications\n",
    "from toolbox.IO import dermatology\n",
    "from toolbox.transforms.common import PredictorTransform\n",
    "from toolbox.transforms.labels import OrderedEncoder\n",
    "from toolbox.transforms.images import DistributionImageTransform, DWTImageTransform, FourierImageTransform, HaralickImageTransform, SpatialImageTransform\n",
    "from toolbox.views.common import Views, ViewsTools\n",
    "from toolbox.views.images import ImagesViews\n",
    "from toolbox.classification.parameters import Dermatology, Settings, LocalParameters"
   ]
  },
  {
   "cell_type": "markdown",
   "metadata": {},
   "source": [
    "# Parameters"
   ]
  },
  {
   "cell_type": "code",
   "execution_count": null,
   "metadata": {},
   "outputs": [],
   "source": [
    "# Advanced parameters\n",
    "use_unknown = False \n",
    "validation = 4\n",
    "settings = Settings.get_default_dermatology()"
   ]
  },
  {
   "cell_type": "markdown",
   "metadata": {},
   "source": [
    "# Microscopy"
   ]
  },
  {
   "cell_type": "code",
   "execution_count": null,
   "metadata": {},
   "outputs": [],
   "source": [
    "inputs = Dermatology.images(modality='Microscopy', data_type='Full', use_unknown=True, location=Path().home()/'Data/Skin/Elisa.csv')"
   ]
  },
  {
   "cell_type": "code",
   "execution_count": null,
   "metadata": {},
   "outputs": [],
   "source": [
    "# Transform groups\n",
    "group_encoder = LabelEncoder().fit(array(inputs['ID_Patient'].tolist()))\n",
    "Tools.transform(inputs, {'datum': 'ID_Patient'}, group_encoder, 'GroupEncode')\n",
    "# Transform labels\n",
    "lesion_encoder = OrderedEncoder().fit(['Benign', 'Malignant'])\n",
    "Tools.transform(inputs, {'datum': 'Binary_Diagnosis'}, lesion_encoder, 'LesionEncode')\n",
    "\n",
    "label_encoder = OrderedEncoder().fit(['Normal', 'Benign', 'Malignant'])\n",
    "Tools.transform(inputs, {'datum': 'Label'}, label_encoder, 'LabelEncode')\n",
    "\n",
    "malignant_encoder = OrderedEncoder().fit(['Rest', 'Malignant'])\n",
    "Tools.transform(inputs, {'datum': 'Malignant'}, malignant_encoder, 'MalignantEncode')\n",
    "# Make folds\n",
    "Folds.build_group_folds(inputs, {'datum': 'Datum', 'label_encode': 'LabelEncode', 'group': 'GroupEncode'}, validation)\n",
    "\n",
    "folds = Folds.export_group_folds(inputs, {'group': 'ID_Patient'})"
   ]
  },
  {
   "cell_type": "code",
   "execution_count": null,
   "metadata": {},
   "outputs": [],
   "source": [
    "architectures = [('VGG16', {}), ('InceptionV3', {}), ('InceptionResNetV2', {}), ('ResNet', {})]\n",
    "for architecture in architectures:\n",
    "    architecture_name = architecture[0]\n",
    "    architecture_additional = architecture[1]\n",
    "    # Extracting\n",
    "    method = Applications.get_transfer_learning(architecture=architecture_name, pooling='avg', batch_size=1, additional=architecture_additional)\n",
    "    method.transform = method.predict_proba\n",
    "    Tools.transform(inputs, {'datum': 'Datum'}, method, f'{architecture_name}Avg')\n",
    "\n",
    "    # Extracting\n",
    "    method = Applications.get_transfer_learning(architecture=architecture_name, pooling='max', batch_size=1, additional=architecture_additional)\n",
    "    method.transform = method.predict_proba\n",
    "    Tools.transform(inputs, {'datum': 'Datum'}, method, f'{architecture_name}Max')\n",
    "    \n",
    "    # Save    \n",
    "    IO.save(inputs, 'Microscopy.pickle')"
   ]
  },
  {
   "cell_type": "markdown",
   "metadata": {},
   "source": [
    "# Photography"
   ]
  },
  {
   "cell_type": "code",
   "execution_count": null,
   "metadata": {},
   "outputs": [],
   "source": [
    "inputs = Dermatology.images(modality='Photography', data_type='Crop')"
   ]
  },
  {
   "cell_type": "code",
   "execution_count": null,
   "metadata": {},
   "outputs": [],
   "source": [
    "# Transform groups\n",
    "group_encoder = LabelEncoder().fit(array(inputs['ID_Patient'].tolist()))\n",
    "Tools.transform(inputs, {'datum': 'ID_Patient'}, group_encoder, 'GroupEncode')\n",
    "# Transform labels\n",
    "lesion_encoder = OrderedEncoder().fit(['Benign', 'Malignant'])\n",
    "Tools.transform(inputs, {'datum': 'Binary_Diagnosis'}, lesion_encoder, 'LesionEncode')\n",
    "# Make folds\n",
    "Folds.restore_group_folds(inputs, folds, {'group': 'ID_Patient'})"
   ]
  },
  {
   "cell_type": "code",
   "execution_count": null,
   "metadata": {},
   "outputs": [],
   "source": [
    "architectures = [('VGG16', {}), ('InceptionV3', {}), ('InceptionResNetV2', {}), ('ResNet', {})]\n",
    "for architecture in architectures:\n",
    "    architecture_name = architecture[0]\n",
    "    architecture_additional = architecture[1]\n",
    "    # Extracting\n",
    "    method = Applications.get_transfer_learning(architecture=architecture_name, pooling='avg', batch_size=1, additional=architecture_additional)\n",
    "    method.transform = method.predict_proba\n",
    "    Tools.transform(inputs, {'datum': 'Datum'}, method, f'{architecture_name}Avg')\n",
    "\n",
    "    # Extracting\n",
    "    method = Applications.get_transfer_learning(architecture=architecture_name, pooling='max', batch_size=1, additional=architecture_additional)\n",
    "    method.transform = method.predict_proba\n",
    "    Tools.transform(inputs, {'datum': 'Datum'}, method, f'{architecture_name}Max')\n",
    "    \n",
    "    # Save    \n",
    "    IO.save(inputs, 'Photography.pickle')"
   ]
  },
  {
   "cell_type": "markdown",
   "metadata": {},
   "source": [
    "# Dermoscopy"
   ]
  },
  {
   "cell_type": "code",
   "execution_count": null,
   "metadata": {},
   "outputs": [],
   "source": [
    "inputs = Dermatology.images(modality='Dermoscopy')"
   ]
  },
  {
   "cell_type": "code",
   "execution_count": null,
   "metadata": {},
   "outputs": [],
   "source": [
    "# Transform groups\n",
    "group_encoder = LabelEncoder().fit(array(inputs['ID_Patient'].tolist()))\n",
    "Tools.transform(inputs, {'datum': 'ID_Patient'}, group_encoder, 'GroupEncode')\n",
    "# Transform labels\n",
    "lesion_encoder = OrderedEncoder().fit(['Benign', 'Malignant'])\n",
    "Tools.transform(inputs, {'datum': 'Binary_Diagnosis'}, lesion_encoder, 'LesionEncode')\n",
    "# Make folds\n",
    "Folds.restore_group_folds(inputs, folds, {'group': 'ID_Patient'})"
   ]
  },
  {
   "cell_type": "code",
   "execution_count": null,
   "metadata": {},
   "outputs": [],
   "source": [
    "architectures = [('VGG16', {}), ('InceptionV3', {}), ('InceptionResNetV2', {}), ('ResNet', {})]\n",
    "for architecture in architectures:\n",
    "    architecture_name = architecture[0]\n",
    "    architecture_additional = architecture[1]\n",
    "    # Extracting\n",
    "    method = Applications.get_transfer_learning(architecture=architecture_name, pooling='avg', batch_size=1, additional=architecture_additional)\n",
    "    method.transform = method.predict_proba\n",
    "    Tools.transform(inputs, {'datum': 'Datum'}, method, f'{architecture_name}Avg')\n",
    "\n",
    "    # Extracting\n",
    "    method = Applications.get_transfer_learning(architecture=architecture_name, pooling='max', batch_size=1, additional=architecture_additional)\n",
    "    method.transform = method.predict_proba\n",
    "    Tools.transform(inputs, {'datum': 'Datum'}, method, f'{architecture_name}Max')\n",
    "    \n",
    "    # Save    \n",
    "    IO.save(inputs, 'Dermoscopy.pickle')"
   ]
  }
 ],
 "metadata": {
  "kernelspec": {
   "display_name": "Python 3",
   "language": "python",
   "name": "python3"
  },
  "language_info": {
   "codemirror_mode": {
    "name": "ipython",
    "version": 3
   },
   "file_extension": ".py",
   "mimetype": "text/x-python",
   "name": "python",
   "nbconvert_exporter": "python",
   "pygments_lexer": "ipython3",
   "version": "3.7.6"
  },
  "varInspector": {
   "cols": {
    "lenName": 16,
    "lenType": 16,
    "lenVar": 40
   },
   "kernels_config": {
    "python": {
     "delete_cmd_postfix": "",
     "delete_cmd_prefix": "del ",
     "library": "var_list.py",
     "varRefreshCmd": "print(var_dic_list())"
    },
    "r": {
     "delete_cmd_postfix": ") ",
     "delete_cmd_prefix": "rm(",
     "library": "var_list.r",
     "varRefreshCmd": "cat(var_dic_list()) "
    }
   },
   "types_to_exclude": [
    "module",
    "function",
    "builtin_function_or_method",
    "instance",
    "_Feature"
   ],
   "window_display": false
  }
 },
 "nbformat": 4,
 "nbformat_minor": 2
}
