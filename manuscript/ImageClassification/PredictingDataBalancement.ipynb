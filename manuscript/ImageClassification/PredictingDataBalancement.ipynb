{
 "cells": [
  {
   "cell_type": "markdown",
   "metadata": {},
   "source": [
    "# Sheet properties"
   ]
  },
  {
   "cell_type": "code",
   "execution_count": null,
   "outputs": [],
   "source": [
    "%%javascript\n",
    "IPython.OutputArea.prototype._should_scroll = function(lines) {\n",
    "    return false;\n",
    "}\n"
   ],
   "metadata": {
    "collapsed": false,
    "pycharm": {
     "name": "#%%\n"
    }
   }
  },
  {
   "cell_type": "markdown",
   "metadata": {},
   "source": [
    "# Imports"
   ]
  },
  {
   "cell_type": "code",
   "execution_count": null,
   "metadata": {
    "run_control": {
     "marked": false
    }
   },
   "outputs": [],
   "source": [
    "import sys\n",
    "sys.path.append('/home/rcendre/classification')\n",
    "from numpy import array, logspace\n",
    "from imblearn import combine as combine\n",
    "from imblearn import over_sampling as overs\n",
    "from imblearn import under_sampling as unders\n",
    "from imblearn.pipeline import Pipeline\n",
    "from sklearn.preprocessing import LabelEncoder, MinMaxScaler, StandardScaler\n",
    "from sklearn.svm import SVC\n",
    "from toolbox.classification.common import Folds, IO, Tools\n",
    "from toolbox.classification.parameters import Dermatology, Settings\n",
    "from toolbox.transforms.labels import OrderedEncoder\n",
    "from toolbox.views.common import Views, ViewsTools\n",
    "from toolbox.transforms.at_most import LDAAtRatio"
   ]
  },
  {
   "cell_type": "markdown",
   "metadata": {},
   "source": [
    "# Parameters"
   ]
  },
  {
   "cell_type": "code",
   "execution_count": null,
   "metadata": {
    "run_control": {
     "marked": false
    }
   },
   "outputs": [],
   "source": [
    "# Advanced parameters\n",
    "validation = 4\n",
    "settings = Settings.get_default_dermatology()"
   ]
  },
  {
   "cell_type": "markdown",
   "metadata": {},
   "source": [
    "# Inputs"
   ]
  },
  {
   "cell_type": "code",
   "execution_count": null,
   "metadata": {},
   "outputs": [],
   "source": [
    "prediction_file = f'Prediction_DataBalancement.pickle'"
   ]
  },
  {
   "cell_type": "code",
   "execution_count": null,
   "metadata": {
    "run_control": {
     "marked": false
    }
   },
   "outputs": [],
   "source": [
    "inputs = Dermatology.images(modality='Microscopy', data_type='Full')\n",
    "inputs_spatial = IO.load(f'Extraction_Spatial.pickle')\n",
    "inputs_freq = IO.load(f'Extraction_Frequency.pickle')\n",
    "inputs_transfer = IO.load(f'Extraction_Transfer.pickle')"
   ]
  },
  {
   "cell_type": "code",
   "execution_count": null,
   "metadata": {},
   "outputs": [],
   "source": [
    "inputs['Spatial'] = inputs_spatial['Wiltgen']\n",
    "inputs['Daubechies'] = inputs_freq['DWTDB4Sc1']\n",
    "inputs['VGG16Avg'] = inputs_transfer['VGG16Avg']\n",
    "inputs['ResNetAvg'] = inputs_transfer['ResNetAvg']"
   ]
  },
  {
   "cell_type": "code",
   "execution_count": null,
   "metadata": {},
   "outputs": [],
   "source": [
    "# Transform groups\n",
    "group_encoder = LabelEncoder().fit(array(inputs['ID_Patient'].tolist()))\n",
    "Tools.transform(inputs, {'datum': 'ID_Patient'}, group_encoder, 'GroupEncode')\n",
    "# Transform labels\n",
    "label_encoder = OrderedEncoder().fit(['Normal', 'Benign', 'Malignant'])\n",
    "Tools.transform(inputs, {'datum': 'Label'}, label_encoder, 'LabelEncode')\n",
    "# Make folds\n",
    "Folds.build_group_folds(inputs, {'datum': 'Datum', 'label_encode': 'LabelEncode', 'group': 'GroupEncode'}, validation)"
   ]
  },
  {
   "cell_type": "markdown",
   "metadata": {},
   "source": [
    "# Models"
   ]
  },
  {
   "cell_type": "code",
   "execution_count": null,
   "metadata": {},
   "outputs": [],
   "source": [
    "mains = [('Spatial', [('scale', MinMaxScaler())]),\n",
    "        ('Daubechies', [('scale', StandardScaler())]),\n",
    "        ('ResNetAvg', [('scale', MinMaxScaler())]),\n",
    "        ('VGG16Avg', [('scale', MinMaxScaler()), ('reduction', LDAAtRatio(n_components=0.95))])]"
   ]
  },
  {
   "cell_type": "code",
   "execution_count": null,
   "metadata": {},
   "outputs": [],
   "source": [
    "clf = ('clf', SVC(kernel='linear', probability=True))\n",
    "clf_params = {'clf__C': logspace(-2, 3, 6).tolist()}"
   ]
  },
  {
   "cell_type": "code",
   "execution_count": null,
   "metadata": {},
   "outputs": [],
   "source": [
    "strategies = []\n",
    "strategies.append(('NoStrategy', ('strategy', None)))\n",
    "# Random Over Sample\n",
    "strategies.append(('RandomOS',('strategy', overs.RandomOverSampler())))\n",
    "# Random Under Sample\n",
    "strategies.append(('RandomUS',('strategy', unders.RandomUnderSampler())))\n",
    "strategies.append(('SMOTEENN',('strategy', combine.SMOTEENN())))\n",
    "strategies.append(('SMOTETomek',('strategy', combine.SMOTETomek())))"
   ]
  },
  {
   "cell_type": "code",
   "execution_count": null,
   "metadata": {},
   "outputs": [],
   "source": [
    "processes = []\n",
    "for datum, main in mains:    \n",
    "    for strategy_name,strategy in strategies:\n",
    "        process = main.copy()\n",
    "        if not strategy_name == 'NoStrategy':\n",
    "            process.extend([strategy, clf])\n",
    "        else:\n",
    "            process.extend([clf])\n",
    "        processes.append((datum, f'{datum}{strategy_name}', Pipeline(process)))"
   ]
  },
  {
   "cell_type": "markdown",
   "metadata": {},
   "source": [
    "# Evaluation"
   ]
  },
  {
   "cell_type": "code",
   "execution_count": null,
   "metadata": {},
   "outputs": [],
   "source": [
    "for datum, name, process in processes: \n",
    "\n",
    "    # Start evaluation       \n",
    "    print(f'{name} performed...', end='\\r')\n",
    "    Tools.evaluate(inputs, {'datum': datum, 'label_encode': 'LabelEncode'}, process, name, distribution=clf_params)\n",
    "    print(f'{name} achieved !', end='\\r')  \n",
    "\n",
    "    # Save\n",
    "    IO.save(inputs, prediction_file)"
   ]
  },
  {
   "cell_type": "markdown",
   "metadata": {},
   "source": [
    "# Scores and ROC"
   ]
  },
  {
   "cell_type": "code",
   "execution_count": null,
   "metadata": {
    "pycharm": {
     "name": "#%%\n"
    }
   },
   "outputs": [],
   "source": [
    "from IPython.display import HTML\n",
    "from IPython.display import display\n",
    "\n",
    "inputs = IO.load(prediction_file)\n",
    "\n",
    "# Transform labels\n",
    "label_encoder = OrderedEncoder().fit(['Normal', 'Benign', 'Malignant'])\n",
    "\n",
    "# ROC Curve\n",
    "ViewsTools.plot_size((8,8))\n",
    "    \n",
    "for datum, name, process in processes:  \n",
    "    display(HTML(ViewsTools.dataframe_renderer([Views.report(inputs, {'label_encode': 'LabelEncode', 'eval': name}, label_encoder)],\n",
    "                                                                        title=[f'Test - {name}'])))"
   ]
  }
 ],
 "metadata": {
  "kernelspec": {
   "display_name": "Python 3",
   "language": "python",
   "name": "python3"
  },
  "language_info": {
   "codemirror_mode": {
    "name": "ipython",
    "version": 3
   },
   "file_extension": ".py",
   "mimetype": "text/x-python",
   "name": "python",
   "nbconvert_exporter": "python",
   "pygments_lexer": "ipython3",
   "version": "3.6.7"
  },
  "varInspector": {
   "cols": {
    "lenName": 16,
    "lenType": 16,
    "lenVar": 40
   },
   "kernels_config": {
    "python": {
     "delete_cmd_postfix": "",
     "delete_cmd_prefix": "del ",
     "library": "var_list.py",
     "varRefreshCmd": "print(var_dic_list())"
    },
    "r": {
     "delete_cmd_postfix": ") ",
     "delete_cmd_prefix": "rm(",
     "library": "var_list.r",
     "varRefreshCmd": "cat(var_dic_list()) "
    }
   },
   "position": {
    "height": "501.398px",
    "left": "1406px",
    "right": "20px",
    "top": "134px",
    "width": "350px"
   },
   "types_to_exclude": [
    "module",
    "function",
    "builtin_function_or_method",
    "instance",
    "_Feature"
   ],
   "window_display": false
  },
  "pycharm": {
   "stem_cell": {
    "cell_type": "raw",
    "source": [],
    "metadata": {
     "collapsed": false
    }
   }
  }
 },
 "nbformat": 4,
 "nbformat_minor": 2
}