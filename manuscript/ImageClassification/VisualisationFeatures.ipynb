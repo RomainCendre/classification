{
 "cells": [
  {
   "cell_type": "code",
   "execution_count": 1,
   "metadata": {},
   "outputs": [],
   "source": [
    "import numpy\n",
    "import pywt\n",
    "from matplotlib import pyplot\n",
    "from PIL import Image\n",
    "from skimage.feature import greycomatrix"
   ]
  },
  {
   "cell_type": "code",
   "execution_count": null,
   "metadata": {},
   "outputs": [],
   "source": [
    "from toolbox.classification.parameters import Dermatology\n",
    "inputs = Dermatology.images(modality='Microscopy', data_type='Full', use_unknown=False)\n",
    "benin = inputs['Datum'][4884]\n",
    "malin = inputs['Datum'][323]"
   ]
  },
  {
   "cell_type": "code",
   "execution_count": null,
   "metadata": {},
   "outputs": [],
   "source": [
    "# Calcul FFT\n",
    "benin_fft = numpy.fft.fft2(benin)\n",
    "benin_fft = numpy.fft.fftshift(benin_fft)\n",
    "malin_fft = numpy.fft.fft2(malin)\n",
    "malin_fft = numpy.fft.fftshift(malin_fft)\n",
    "fft_titles = ['Module', 'Phase']\n",
    "\n",
    "images = ['Benin', 'Malin']\n",
    "directions = ['Horizontal', 'Diagonale_1', 'Vertical', 'Diagonale_2']\n",
    "\n",
    "fig = pyplot.figure()\n",
    "fig, axes = pyplot.subplots(2, 3, figsize=(8, 4), dpi=600)\n",
    "\n",
    "axes[0, 0].imshow(benin, cmap='gray')\n",
    "axes[0, 0].axis('off')\n",
    "axes[0, 1].imshow(numpy.log(1+numpy.abs(benin_fft)), cmap='gray')\n",
    "axes[0, 1].set_title('Module')\n",
    "axes[0, 1].axis('off')\n",
    "axes[0, 2].imshow(numpy.angle(benin_fft), cmap='gray')\n",
    "axes[0, 2].set_title('Phase')\n",
    "axes[0, 2].axis('off')\n",
    "axes[1, 0].imshow(malin, cmap='gray')\n",
    "axes[1, 0].axis('off')\n",
    "axes[1, 1].imshow(numpy.log(1+numpy.abs(malin_fft)), cmap='gray')\n",
    "axes[1, 1].axis('off')\n",
    "axes[1, 2].imshow(numpy.angle(malin_fft), cmap='gray')\n",
    "axes[1, 2].axis('off')\n",
    "\n",
    "pyplot.show()\n",
    "fig.savefig('example_fft.pdf', bbox_inches='tight')\n",
    "\n",
    "benin = benin.astype(numpy.float32)\n",
    "malin = malin.astype(numpy.float32)\n",
    "\n",
    "max_lev = 3       # how many levels of decomposition to draw\n",
    "label_levels = 3  # how many levels to explicitly label on the plots\n",
    "\n",
    "fig, axes = pyplot.subplots(2, 4, figsize=[14, 8], dpi=600)\n",
    "for level in range(0, max_lev + 1):\n",
    "    # compute the 2D DWT\n",
    "    c = pywt.wavedec2(benin, 'haar', level=level)\n",
    "    # normalize each coefficient array independently for better visibility\n",
    "    c[0] /= numpy.abs(c[0]).max()\n",
    "    for detail_level in range(level):\n",
    "        c[detail_level + 1] = [d/numpy.abs(d).max() for d in c[detail_level + 1]]\n",
    "    # show the normalized coefficients\n",
    "    arr, slices = pywt.coeffs_to_array(c)\n",
    "    axes[0, level].imshow(arr, cmap='gray')\n",
    "    axes[0, level].set_title('Coefficients\\n({} niveaux)'.format(level))\n",
    "    axes[0, level].set_axis_off()\n",
    "\n",
    "for level in range(0, max_lev + 1):\n",
    "    # compute the 2D DWT\n",
    "    c = pywt.wavedec2(malin, 'haar', level=level)\n",
    "    # normalize each coefficient array independently for better visibility\n",
    "    c[0] /= numpy.abs(c[0]).max()\n",
    "    for detail_level in range(level):\n",
    "        c[detail_level + 1] = [d/numpy.abs(d).max() for d in c[detail_level + 1]]\n",
    "    # show the normalized coefficients\n",
    "    arr, slices = pywt.coeffs_to_array(c)\n",
    "    axes[1, level].imshow(arr, cmap='gray')\n",
    "    # axes[1, level].set_title('Coefficients\\n({} level)'.format(level))\n",
    "    axes[1, level].set_axis_off()\n",
    "\n",
    "pyplot.show()\n",
    "fig.savefig('example_wavelet.pdf', bbox_inches='tight')"
   ]
  },
  {
   "cell_type": "code",
   "execution_count": null,
   "metadata": {},
   "outputs": [],
   "source": [
    "originales = [benin, malin]\n",
    "\n",
    "benin_glcm = greycomatrix(benin, distances=[1], angles=[0, numpy.pi/4.0, numpy.pi/2.0, 3*numpy.pi/4.0], levels=256, symmetric=True, normed=False)\n",
    "malin_glcm = greycomatrix(malin, distances=[1], angles=[0, numpy.pi/4.0, numpy.pi/2.0, 3*numpy.pi/4.0], levels=256, symmetric=True, normed=False)\n",
    "glcm = [benin_glcm, malin_glcm]\n",
    "\n",
    "images = ['Benin', 'Malin']\n",
    "directions = ['Horizontal', 'Diagonale_1', 'Vertical', 'Diagonale_2']\n",
    "\n",
    "fig = pyplot.figure()\n",
    "fig, axes = pyplot.subplots(2, 5, figsize=(8, 4), dpi=1200)\n",
    "for im_index, image in enumerate(images):\n",
    "    axes[im_index, 0].imshow(originales[im_index], cmap='gray', vmin=0, vmax=255)\n",
    "    axes[im_index, 0].axis('off')\n",
    "    for index, direction in enumerate(directions):\n",
    "        data = glcm[im_index][:,:,0,index]\n",
    "        im = axes[im_index, index+1].imshow(data, cmap='gray', vmin=0, vmax=2500)\n",
    "        axes[im_index, index+1].set_title(f'{direction}')\n",
    "        axes[im_index, index+1].axis('off')\n",
    "fig.subplots_adjust(right=0.8)\n",
    "pyplot.axis('off')\n",
    "pyplot.show()\n",
    "\n",
    "fig.savefig('example_GLCM.pdf', bbox_inches='tight')"
   ]
  }
 ],
 "metadata": {
  "kernelspec": {
   "display_name": "Python 3",
   "language": "python",
   "name": "python3"
  },
  "language_info": {
   "codemirror_mode": {
    "name": "ipython",
    "version": 3
   },
   "file_extension": ".py",
   "mimetype": "text/x-python",
   "name": "python",
   "nbconvert_exporter": "python",
   "pygments_lexer": "ipython3",
   "version": "3.6.7"
  },
  "varInspector": {
   "cols": {
    "lenName": 16,
    "lenType": 16,
    "lenVar": 40
   },
   "kernels_config": {
    "python": {
     "delete_cmd_postfix": "",
     "delete_cmd_prefix": "del ",
     "library": "var_list.py",
     "varRefreshCmd": "print(var_dic_list())"
    },
    "r": {
     "delete_cmd_postfix": ") ",
     "delete_cmd_prefix": "rm(",
     "library": "var_list.r",
     "varRefreshCmd": "cat(var_dic_list()) "
    }
   },
   "types_to_exclude": [
    "module",
    "function",
    "builtin_function_or_method",
    "instance",
    "_Feature"
   ],
   "window_display": false
  },
  "pycharm": {
   "stem_cell": {
    "cell_type": "raw",
    "source": [],
    "metadata": {
     "collapsed": false
    }
   }
  }
 },
 "nbformat": 4,
 "nbformat_minor": 2
}