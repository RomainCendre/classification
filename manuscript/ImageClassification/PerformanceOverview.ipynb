{
 "cells": [
  {
   "cell_type": "code",
   "execution_count": 12,
   "metadata": {},
   "outputs": [],
   "source": [
    "import sys\n",
    "sys.path.append('/home/rcendre/classification')\n",
    "from IPython.display import HTML\n",
    "from IPython.display import display\n",
    "from toolbox.classification.common import IO, Tools\n",
    "from toolbox.transforms.labels import OrderedEncoder\n",
    "from toolbox.views.common import Views, ViewsTools"
   ]
  },
  {
   "cell_type": "code",
   "execution_count": 8,
   "metadata": {},
   "outputs": [],
   "source": [
    "frequency = IO.load('Prediction_Frequency.pickle')\n",
    "spatial = IO.load('Prediction_Spatial.pickle')\n",
    "transfer = IO.load('Prediction_Transfer.pickle')\n",
    "transfer_reduction = IO.load('Prediction_TransferReduction.pickle')"
   ]
  },
  {
   "cell_type": "code",
   "execution_count": 29,
   "metadata": {},
   "outputs": [],
   "source": [
    "metric = 'f1-score'\n",
    "\n",
    "extractors_fr = ['Fourier10', 'Fourier20', 'Fourier30',\n",
    "              'DWTDB4Sc1', 'DWTHaarSc1', 'DWTHaarSc5',\n",
    "              'WiltgenFourier', 'WiltgenDWT', 'HalimiDWT']\n",
    "\n",
    "\n",
    "extractors_sp = ['FirstOrder', 'Haralick', 'HaralickMean', 'Wiltgen', 'WiltgenAll']\n",
    "\n",
    "\n",
    "extractors_tr = ['VGG16Max', 'InceptionV3Max', 'InceptionResNetV2Max', 'ResNetMax',\n",
    "              'VGG16Avg', 'InceptionV3Avg', 'InceptionResNetV2Avg', 'ResNetAvg']\n",
    "\n",
    "extractors_rt = ['VGG16Avg', 'InceptionV3Avg', 'InceptionResNetV2Avg', 'ResNetAvg']\n",
    "\n",
    "label_encoder = OrderedEncoder().fit(['Normal', 'Benign', 'Malignant'])\n",
    "\n",
    "measure = 'weighted avg'\n",
    "with open('Overall.csv', 'w') as file:\n",
    "    columns = ['Name', 'SVML', 'SVMR', 'CART', 'RF', 'GB', 'MLP','SVML', 'SVMR', 'CART', 'RF', 'GB', 'MLP']\n",
    "    file.write(','.join(columns)+'\\n')\n",
    "                         \n",
    "    for extractor_name in extractors_sp: \n",
    "        values = [extractor_name]\n",
    "        for scaler_name in ['MMS', 'SS']:\n",
    "            for clf_name in ['SVML', 'SVMR', 'CART', 'RF', 'GB', 'MLP']:  \n",
    "                name = f'{extractor_name}{scaler_name}_{clf_name}Label' \n",
    "                rep = Views.report(spatial, {'label_encode': 'LabelEncode', 'eval': name}, label_encoder) \n",
    "                values.append(rep[metric][measure])\n",
    "        file.write(','.join(values)+'\\n')\n",
    "        \n",
    "    for extractor_name in extractors_fr: \n",
    "        values = [extractor_name]\n",
    "        for scaler_name in ['MMS', 'SS']:\n",
    "            for clf_name in ['SVML', 'SVMR', 'CART', 'RF', 'GB', 'MLP']:   \n",
    "                name = f'{extractor_name}{scaler_name}_{clf_name}Label' \n",
    "                rep = Views.report(frequency, {'label_encode': 'LabelEncode', 'eval': name}, label_encoder)\n",
    "                values.append(rep[metric][measure])\n",
    "        file.write(','.join(values)+'\\n')\n",
    "\n",
    "    for extractor_name in extractors_tr: \n",
    "        values = [extractor_name]\n",
    "        for scaler_name in ['MMS', 'SS']:\n",
    "            for clf_name in ['SVML', 'SVMR', 'CART', 'RF', 'GB', 'MLP']:                  \n",
    "                name = f'{extractor_name}{scaler_name}_{clf_name}Label' \n",
    "                rep = Views.report(transfer, {'label_encode': 'LabelEncode', 'eval': name}, label_encoder)\n",
    "                values.append(rep[metric][measure])\n",
    "        file.write(','.join(values)+'\\n')\n",
    "        \n",
    "measure = 'Malignant'\n",
    "with open('Malignant.csv', 'w') as file:\n",
    "    columns = ['Name', 'SVML', 'SVMR', 'CART', 'RF', 'GB', 'MLP','SVML', 'SVMR', 'CART', 'RF', 'GB', 'MLP']\n",
    "    file.write(','.join(columns)+'\\n')\n",
    "                         \n",
    "    for extractor_name in extractors_sp: \n",
    "        values = [extractor_name]\n",
    "        for scaler_name in ['MMS', 'SS']:\n",
    "            for clf_name in ['SVML', 'SVMR', 'CART', 'RF', 'GB', 'MLP']:  \n",
    "                name = f'{extractor_name}{scaler_name}_{clf_name}Label' \n",
    "                rep = Views.report(spatial, {'label_encode': 'LabelEncode', 'eval': name}, label_encoder) \n",
    "                values.append(rep[metric][measure])\n",
    "        file.write(','.join(values)+'\\n')\n",
    "        \n",
    "    for extractor_name in extractors_fr: \n",
    "        values = [extractor_name]\n",
    "        for scaler_name in ['MMS', 'SS']:\n",
    "            for clf_name in ['SVML', 'SVMR', 'CART', 'RF', 'GB', 'MLP']:   \n",
    "                name = f'{extractor_name}{scaler_name}_{clf_name}Label' \n",
    "                rep = Views.report(frequency, {'label_encode': 'LabelEncode', 'eval': name}, label_encoder)\n",
    "                values.append(rep[metric][measure])\n",
    "        file.write(','.join(values)+'\\n')\n",
    "\n",
    "    for extractor_name in extractors_tr: \n",
    "        values = [extractor_name]\n",
    "        for scaler_name in ['MMS', 'SS']:\n",
    "            for clf_name in ['SVML', 'SVMR', 'CART', 'RF', 'GB', 'MLP']:                  \n",
    "                name = f'{extractor_name}{scaler_name}_{clf_name}Label' \n",
    "                rep = Views.report(transfer, {'label_encode': 'LabelEncode', 'eval': name}, label_encoder)\n",
    "                values.append(rep[metric][measure])\n",
    "        file.write(','.join(values)+'\\n')\n",
    "\n",
    "    for extractor_name in extractors_rt: \n",
    "        values = [extractor_name]\n",
    "        for scaler_name in ['MMS', 'SS']:\n",
    "            for scaler_name in ['MMS', 'SS']:\n",
    "                for clf_name in ['SVML', 'SVMR', 'CART', 'RF', 'GB', 'MLP']:                  \n",
    "                    name = f'{extractor_name}{scaler_name}_{clf_name}Label' \n",
    "                    rep = Views.report(transfer, {'label_encode': 'LabelEncode', 'eval': name}, label_encoder)\n",
    "                    values.append(rep[metric][measure])\n",
    "        file.write(','.join(values)+'\\n')"
   ]
  },
  {
   "cell_type": "code",
   "execution_count": null,
   "metadata": {},
   "outputs": [],
   "source": []
  }
 ],
 "metadata": {
  "kernelspec": {
   "display_name": "Python 3",
   "language": "python",
   "name": "python3"
  },
  "language_info": {
   "codemirror_mode": {
    "name": "ipython",
    "version": 3
   },
   "file_extension": ".py",
   "mimetype": "text/x-python",
   "name": "python",
   "nbconvert_exporter": "python",
   "pygments_lexer": "ipython3",
   "version": "3.7.6"
  },
  "varInspector": {
   "cols": {
    "lenName": 16,
    "lenType": 16,
    "lenVar": 40
   },
   "kernels_config": {
    "python": {
     "delete_cmd_postfix": "",
     "delete_cmd_prefix": "del ",
     "library": "var_list.py",
     "varRefreshCmd": "print(var_dic_list())"
    },
    "r": {
     "delete_cmd_postfix": ") ",
     "delete_cmd_prefix": "rm(",
     "library": "var_list.r",
     "varRefreshCmd": "cat(var_dic_list()) "
    }
   },
   "types_to_exclude": [
    "module",
    "function",
    "builtin_function_or_method",
    "instance",
    "_Feature"
   ],
   "window_display": false
  }
 },
 "nbformat": 4,
 "nbformat_minor": 4
}
