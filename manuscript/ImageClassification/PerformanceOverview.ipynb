{
 "cells": [
  {
   "cell_type": "code",
   "execution_count": null,
   "metadata": {},
   "outputs": [],
   "source": [
    "import sys\n",
    "sys.path.append('/home/rcendre/classification')\n",
    "from IPython.display import HTML\n",
    "from IPython.display import display\n",
    "from toolbox.classification.common import IO, Tools\n",
    "from toolbox.transforms.labels import OrderedEncoder\n",
    "from toolbox.views.common import Views, ViewsTools\n",
    "from toolbox.classification.parameters import Dermatology, Settings"
   ]
  },
  {
   "cell_type": "code",
   "execution_count": null,
   "metadata": {},
   "outputs": [],
   "source": [
    "frequency = IO.load('Prediction_Frequency.pickle')\n",
    "spatial = IO.load('Prediction_Spatial.pickle')\n",
    "transfer = IO.load('Prediction_Transfer.pickle')\n",
    "transfer_reduction = IO.load('Prediction_TransferReduction.pickle')\n",
    "balancement = IO.load('Prediction_DataBalancement.pickle')"
   ]
  },
  {
   "cell_type": "code",
   "execution_count": null,
   "metadata": {},
   "outputs": [],
   "source": [
    "metric = 'f1-score'\n",
    "\n",
    "extractors_fr = ['Fourier10', 'Fourier20', 'Fourier30',\n",
    "              'DWTDB4Sc1', 'DWTHaarSc1', 'WiltgenFourier']\n",
    "\n",
    "\n",
    "extractors_sp = ['FirstOrder', 'Haralick', 'HaralickMean', 'Wiltgen', 'WiltgenAll']\n",
    "\n",
    "\n",
    "extractors_tr = ['VGG16Max', 'InceptionV3Max', 'InceptionResNetV2Max', 'ResNetMax',\n",
    "              'VGG16Avg', 'InceptionV3Avg', 'InceptionResNetV2Avg', 'ResNetAvg']\n",
    "\n",
    "extractors_rt = ['VGG16Avg', 'InceptionV3Avg', 'InceptionResNetV2Avg', 'ResNetAvg']\n",
    "\n",
    "extractors_db = ['Haralick', 'Daubechies', 'ResNetAvg', 'ResNetAvgReduction']\n",
    "\n",
    "label_encoder = OrderedEncoder().fit(['Normal', 'Benign', 'Malignant'])"
   ]
  },
  {
   "cell_type": "code",
   "execution_count": null,
   "metadata": {
    "pycharm": {
     "name": "#%%\n"
    }
   },
   "outputs": [],
   "source": [
    "measure = 'weighted avg'\n",
    "with open('Overall.csv', 'w') as file:\n",
    "    columns = ['Name', 'SVML', 'SVMR', 'CART', 'RF', 'GB', 'MLP','SVML', 'SVMR', 'CART', 'RF', 'GB', 'MLP']\n",
    "    file.write(','.join(columns)+'\\n')\n",
    "                         \n",
    "    for extractor in extractors_sp: \n",
    "        values = [extractor]\n",
    "        for scaler in ['MMS', 'SS']:\n",
    "            for clf in ['SVML', 'SVMR', 'CART', 'RF', 'GB', 'MLP']:  \n",
    "                name = f'{extractor}{scaler}_{clf}Label' \n",
    "                rep = Views.report(spatial, {'label_encode': 'LabelEncode', 'eval': name}, label_encoder) \n",
    "                values.append(rep[metric][measure])\n",
    "        file.write(','.join(values)+'\\n')\n",
    "        \n",
    "    for extractor in extractors_fr: \n",
    "        values = [extractor]\n",
    "        for scaler in ['MMS', 'SS']:\n",
    "            for clf in ['SVML', 'SVMR', 'CART', 'RF', 'GB', 'MLP']:   \n",
    "                name = f'{extractor}{scaler}_{clf}Label' \n",
    "                rep = Views.report(frequency, {'label_encode': 'LabelEncode', 'eval': name}, label_encoder)\n",
    "                values.append(rep[metric][measure])\n",
    "        file.write(','.join(values)+'\\n')\n",
    "\n",
    "    for extractor in extractors_tr: \n",
    "        values = [extractor]\n",
    "        for scaler in ['MMS', 'SS']:\n",
    "            for clf in ['SVML', 'SVMR', 'CART', 'RF', 'GB', 'MLP']:                  \n",
    "                name = f'{extractor}{scaler}_{clf}Label' \n",
    "                rep = Views.report(transfer, {'label_encode': 'LabelEncode', 'eval': name}, label_encoder)\n",
    "                values.append(rep[metric][measure])\n",
    "        file.write(','.join(values)+'\\n')\n",
    "        \n",
    "        \n",
    "    for reduction in  ['PCA95','PCA975','PCA99','LDA95','LDA975','LDA99']:\n",
    "        for extractor in extractors_rt: \n",
    "            values = [extractor]\n",
    "            for scaler in ['MMS', 'SS']:\n",
    "                for clf in ['SVML', 'SVMR', 'CART', 'RF', 'GB', 'MLP']:                  \n",
    "                    name = f'{extractor}{reduction}_{scaler}_{clf}Label' \n",
    "                    rep = Views.report(transfer_reduction, {'label_encode': 'LabelEncode', 'eval': name}, label_encoder)\n",
    "                    values.append(rep[metric][measure])\n",
    "            file.write(','.join(values)+'\\n')\n",
    "        \n",
    "    for extractor in ['Haralick', 'Daubechies', 'ResNetAvg', 'ResNetAvgReduction']: \n",
    "        values = [extractor]            \n",
    "        for strategy in  ['NoStrategy','RandomOS','RandomUS','SMOTEENN','SMOTETomek']:\n",
    "            name = f'{extractor}{strategy}'                \n",
    "            rep = Views.report(balancement, {'label_encode': 'LabelEncode', 'eval': name}, label_encoder)\n",
    "            values.append(rep[metric][measure])\n",
    "        file.write(','.join(values)+'\\n')\n",
    "            \n",
    "measure = 'Malignant'\n",
    "with open('Malignant.csv', 'w') as file:\n",
    "    columns = ['Name', 'SVML', 'SVMR', 'CART', 'RF', 'GB', 'MLP','SVML', 'SVMR', 'CART', 'RF', 'GB', 'MLP']\n",
    "    file.write(','.join(columns)+'\\n')\n",
    "                         \n",
    "    for extractor in extractors_sp: \n",
    "        values = [extractor]\n",
    "        for scaler in ['MMS', 'SS']:\n",
    "            for clf in ['SVML', 'SVMR', 'CART', 'RF', 'GB', 'MLP']:  \n",
    "                name = f'{extractor}{scaler}_{clf}Label' \n",
    "                rep = Views.report(spatial, {'label_encode': 'LabelEncode', 'eval': name}, label_encoder) \n",
    "                values.append(rep[metric][measure])\n",
    "        file.write(','.join(values)+'\\n')\n",
    "        \n",
    "    for extractor in extractors_fr: \n",
    "        values = [extractor]\n",
    "        for scaler in ['MMS', 'SS']:\n",
    "            for clf in ['SVML', 'SVMR', 'CART', 'RF', 'GB', 'MLP']:   \n",
    "                name = f'{extractor}{scaler}_{clf}Label' \n",
    "                rep = Views.report(frequency, {'label_encode': 'LabelEncode', 'eval': name}, label_encoder)\n",
    "                values.append(rep[metric][measure])\n",
    "        file.write(','.join(values)+'\\n')\n",
    "\n",
    "    for extractor in extractors_tr: \n",
    "        values = [extractor]\n",
    "        for scaler in ['MMS', 'SS']:\n",
    "            for clf in ['SVML', 'SVMR', 'CART', 'RF', 'GB', 'MLP']:                  \n",
    "                name = f'{extractor}{scaler}_{clf}Label' \n",
    "                rep = Views.report(transfer, {'label_encode': 'LabelEncode', 'eval': name}, label_encoder)\n",
    "                values.append(rep[metric][measure])\n",
    "        file.write(','.join(values)+'\\n')\n",
    "\n",
    "\n",
    "    for reduction in  ['PCA95','PCA975','PCA99','LDA95','LDA975','LDA99']:\n",
    "        for extractor in extractors_rt: \n",
    "            values = [extractor]\n",
    "            for scaler in ['MMS', 'SS']:\n",
    "                for clf in ['SVML', 'SVMR', 'CART', 'RF', 'GB', 'MLP']:                  \n",
    "                    name = f'{extractor}{reduction}_{scaler}_{clf}Label' \n",
    "                    rep = Views.report(transfer_reduction, {'label_encode': 'LabelEncode', 'eval': name}, label_encoder)\n",
    "                    values.append(rep[metric][measure])\n",
    "            file.write(','.join(values)+'\\n')\n",
    "            \n",
    "    for extractor in ['Haralick', 'Daubechies', 'ResNetAvg', 'ResNetAvgReduction']: \n",
    "        values = [extractor]            \n",
    "        for strategy in  ['NoStrategy','RandomOS','RandomUS','SMOTEENN','SMOTETomek']:\n",
    "            name = f'{extractor}{strategy}'                 \n",
    "            rep = Views.report(balancement, {'label_encode': 'LabelEncode', 'eval': name}, label_encoder)\n",
    "            values.append(rep[metric][measure])\n",
    "        file.write(','.join(values)+'\\n')     "
   ]
  },
  {
   "cell_type": "code",
   "execution_count": null,
   "metadata": {},
   "outputs": [],
   "source": [
    "from sklearn.decomposition import PCA\n",
    "from sklearn.discriminant_analysis import LinearDiscriminantAnalysis as LDA\n",
    "import matplotlib.pyplot as plt\n",
    "\n",
    "whole_pca = PCA().fit(np.array(transfer['ResNetAvg'].tolist()))\n",
    "cumul = whole_pca.explained_variance_ratio_.cumsum()*100\n",
    "over_95 = np.argmax(cumul>95)\n",
    "over_99 = np.argmax(cumul>99)\n",
    "over_995 = np.argmax(cumul>99.5)\n",
    "trans = transforms.blended_transform_factory(ax.get_xticklabels()[0].get_transform(), ax.transData)\n",
    "plt.plot(cumul)\n",
    "plt.plot([0,over_95,over_95], [95,95,0], color=\"green\")\n",
    "plt.text(0.025, 0, \"{:.0f}\".format(over_95), color=\"green\", transform=trans,  ha=\"right\", va=\"center\")\n",
    "plt.plot([0,over_99,over_99], [99,99,0], color=\"orange\")\n",
    "plt.text(0.15, 0, \"{:.0f}\".format(over_99), color=\"orange\", transform=trans,  ha=\"right\", va=\"center\")\n",
    "plt.plot([0,over_995,over_995], [99.5,99.5,0], color=\"darkorange\")\n",
    "plt.text(0.25, 0, \"{:.0f}\".format(over_995), color=\"darkorange\", transform=trans,  ha=\"right\", va=\"center\")\n",
    "plt.xlim(left=0)\n",
    "plt.ylim(bottom=80, top=100)\n",
    "plt.ylabel('% Variance expliquée')\n",
    "plt.xlabel('Nombre de caractéristiques')\n",
    "plt.savefig('PCA_explained_variance.svg')"
   ]
  },
  {
   "cell_type": "code",
   "execution_count": null,
   "metadata": {},
   "outputs": [],
   "source": [
    "from sklearn.discriminant_analysis import LinearDiscriminantAnalysis as LDA\n",
    "import matplotlib.pyplot as plt\n",
    "\n",
    "whole_pca = LDA().fit(np.array(transfer['ResNetAvg'].tolist()), np.array(transfer['LabelEncode'].tolist()))\n",
    "cumul = whole_pca.explained_variance_ratio_.cumsum()*100\n",
    "over_95 = np.argmax(cumul>95)\n",
    "over_99 = np.argmax(cumul>99)\n",
    "over_995 = np.argmax(cumul>99.5)\n",
    "plt.plot(cumul)\n",
    "plt.plot([0,over_95,over_95], [95,95,0])\n",
    "plt.plot([0,over_99,over_99], [99,99,0])\n",
    "plt.plot([0,over_995,over_995], [99.5,99.5,0])\n",
    "plt.xlim(left=0)\n",
    "plt.ylim(bottom=80)\n",
    "plt.ylabel('% Variance Explained')\n",
    "plt.xlabel('# of Features')\n",
    "plt.title('PCA Analysis')"
   ]
  },
  {
   "cell_type": "code",
   "execution_count": null,
   "metadata": {},
   "outputs": [],
   "source": [
    "settings = Settings.get_default_dermatology()\n",
    "\n",
    "label_encoder = OrderedEncoder().fit(['Normal', 'Benign', 'Malignant'])\n",
    "Views.receiver_operator_curves(transfer, label_encoder, {'label_encode': 'LabelEncode', 'eval': 'ResNetAvgMMS_SVMLLabel'}, settings).savefig('ROC_All.svg');\n",
    "\n",
    "Views.receiver_operator_curves(transfer[transfer['Diagnosis']=='LM/LMM'], label_encoder, {'label_encode': 'LabelEncode', 'eval': 'ResNetAvgMMS_SVMLLabel'}, settings).savefig('ROC_LM.svg');"
   ]
  },
  {
   "cell_type": "code",
   "execution_count": null,
   "metadata": {},
   "outputs": [],
   "source": []
  }
 ],
 "metadata": {
  "kernelspec": {
   "display_name": "Python 3",
   "language": "python",
   "name": "python3"
  },
  "language_info": {
   "codemirror_mode": {
    "name": "ipython",
    "version": 3
   },
   "file_extension": ".py",
   "mimetype": "text/x-python",
   "name": "python",
   "nbconvert_exporter": "python",
   "pygments_lexer": "ipython3",
   "version": "3.7.6"
  },
  "pycharm": {
   "stem_cell": {
    "cell_type": "raw",
    "metadata": {
     "collapsed": false
    },
    "source": []
   }
  },
  "varInspector": {
   "cols": {
    "lenName": 16,
    "lenType": 16,
    "lenVar": 40
   },
   "kernels_config": {
    "python": {
     "delete_cmd_postfix": "",
     "delete_cmd_prefix": "del ",
     "library": "var_list.py",
     "varRefreshCmd": "print(var_dic_list())"
    },
    "r": {
     "delete_cmd_postfix": ") ",
     "delete_cmd_prefix": "rm(",
     "library": "var_list.r",
     "varRefreshCmd": "cat(var_dic_list()) "
    }
   },
   "types_to_exclude": [
    "module",
    "function",
    "builtin_function_or_method",
    "instance",
    "_Feature"
   ],
   "window_display": false
  }
 },
 "nbformat": 4,
 "nbformat_minor": 4
}
