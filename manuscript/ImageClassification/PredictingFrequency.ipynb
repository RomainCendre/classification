{
 "cells": [
  {
   "cell_type": "markdown",
   "metadata": {},
   "source": [
    "# Sheet properties"
   ]
  },
  {
   "cell_type": "code",
   "execution_count": null,
   "metadata": {
    "run_control": {
     "marked": false
    }
   },
   "outputs": [],
   "source": [
    "from IPython.display import HTML\n",
    "\n",
    "HTML('''<script>\n",
    "code_show=true; \n",
    "function code_toggle() {\n",
    " if (code_show){\n",
    " $('div.input').hide();\n",
    " } else {\n",
    " $('div.input').show();\n",
    " }\n",
    " code_show = !code_show\n",
    "} \n",
    "$( document ).ready(code_toggle);\n",
    "</script>\n",
    "<form action=\"javascript:code_toggle()\"><input type=\"submit\" value=\"Click here to toggle on/off the raw code.\"></form>''')"
   ]
  },
  {
   "cell_type": "code",
   "execution_count": null,
   "metadata": {
    "run_control": {
     "marked": false
    }
   },
   "outputs": [],
   "source": [
    "%%javascript\n",
    "IPython.OutputArea.prototype._should_scroll = function(lines) {\n",
    "    return false;\n",
    "}"
   ]
  },
  {
   "cell_type": "code",
   "execution_count": null,
   "metadata": {
    "run_control": {
     "marked": false
    }
   },
   "outputs": [],
   "source": [
    "%matplotlib inline\n",
    "# produce vector inline graphics\n",
    "from IPython.display import set_matplotlib_formats\n",
    "set_matplotlib_formats('pdf', 'svg')\n",
    "import matplotlib.pyplot as plt"
   ]
  },
  {
   "cell_type": "markdown",
   "metadata": {},
   "source": [
    "# Start with local"
   ]
  },
  {
   "cell_type": "code",
   "execution_count": null,
   "metadata": {
    "run_control": {
     "marked": false
    }
   },
   "outputs": [],
   "source": [
    "import sys\n",
    "from IPython.display import HTML\n",
    "sys.path.append('/home/rcendre/classification')"
   ]
  },
  {
   "cell_type": "markdown",
   "metadata": {},
   "source": [
    "# Imports"
   ]
  },
  {
   "cell_type": "code",
   "execution_count": null,
   "metadata": {
    "run_control": {
     "marked": false
    }
   },
   "outputs": [],
   "source": [
    "import os\n",
    "import sys\n",
    "import itertools\n",
    "import webbrowser\n",
    "from pathlib import Path\n",
    "import matplotlib.pyplot as plt\n",
    "from numpy import array, logspace\n",
    "from scipy.stats import randint,uniform\n",
    "from sklearn.decomposition import PCA\n",
    "from sklearn.ensemble import RandomForestClassifier\n",
    "from sklearn.manifold import TSNE\n",
    "from sklearn.pipeline import Pipeline\n",
    "from sklearn.preprocessing import LabelEncoder, MinMaxScaler, RobustScaler, StandardScaler\n",
    "from sklearn.ensemble import GradientBoostingClassifier\n",
    "from sklearn.svm import SVC\n",
    "from sklearn.tree import DecisionTreeClassifier\n",
    "from sklearn.neural_network import MLPClassifier\n",
    "from sklearn.metrics import davies_bouldin_score\n",
    "from toolbox.classification.common import Folds, IO, Tools\n",
    "from toolbox.classification.parameters import Dermatology, Settings\n",
    "from toolbox.models.builtin import Applications\n",
    "from toolbox.IO import dermatology\n",
    "from toolbox.transforms.common import PredictorTransform\n",
    "from toolbox.transforms.labels import OrderedEncoder\n",
    "from toolbox.transforms.images import DistributionImageTransform, DWTImageTransform, FourierImageTransform, HaralickImageTransform, SpatialImageTransform\n",
    "from toolbox.views.common import Views, ViewsTools\n",
    "from toolbox.views.images import ImagesViews\n",
    "from IPython.display import display\n",
    "import warnings\n",
    "warnings.filterwarnings('ignore') "
   ]
  },
  {
   "cell_type": "markdown",
   "metadata": {},
   "source": [
    "# Parameters"
   ]
  },
  {
   "cell_type": "code",
   "execution_count": null,
   "metadata": {
    "run_control": {
     "marked": false
    }
   },
   "outputs": [],
   "source": [
    "# Advanced parameters\n",
    "validation = 4\n",
    "settings = Settings.get_default_dermatology()\n",
    "max_iter = -1"
   ]
  },
  {
   "cell_type": "markdown",
   "metadata": {},
   "source": [
    "# Inputs"
   ]
  },
  {
   "cell_type": "code",
   "execution_count": null,
   "metadata": {},
   "outputs": [],
   "source": [
    "features_file = f'Extraction_Frequency.pickle'\n",
    "prediction_file = f'Prediction_Frequency.pickle'"
   ]
  },
  {
   "cell_type": "code",
   "execution_count": null,
   "metadata": {
    "run_control": {
     "marked": false
    }
   },
   "outputs": [],
   "source": [
    "inputs = IO.load(features_file)"
   ]
  },
  {
   "cell_type": "markdown",
   "metadata": {},
   "source": [
    "# Features extraction"
   ]
  },
  {
   "cell_type": "code",
   "execution_count": null,
   "metadata": {},
   "outputs": [],
   "source": [
    "extractors = [('Fourier10', {}), ('Fourier20', {}), ('Fourier30', {}),\n",
    "              ('DWTDB4Sc1', {}), ('DWTHaarSc1', {}), ('DWTHaarSc5', {}),\n",
    "              ('WiltgenFourier', {}), ('WiltgenDWT', {}), ('HalimiDWT', {})]"
   ]
  },
  {
   "cell_type": "markdown",
   "metadata": {},
   "source": [
    "# Classifier"
   ]
  },
  {
   "cell_type": "code",
   "execution_count": null,
   "metadata": {},
   "outputs": [],
   "source": [
    "clfs = []\n",
    "\n",
    "# SVM Linear\n",
    "clf = ('clf', SVC(kernel='linear', class_weight='balanced', max_iter=max_iter, probability=True))\n",
    "clf_params = {'clf__C': logspace(-2, 3, 6).tolist()}\n",
    "clfs.append(('SVML', clf, clf_params))\n",
    "\n",
    "# SVM RBF\n",
    "clf = ('clf', SVC(kernel='rbf', class_weight='balanced', max_iter=max_iter, probability=True))\n",
    "clf_params = {'clf__C': logspace(-2, 3, 6).tolist(),\n",
    "             'clf__gamma': logspace(-2, 3, 6).tolist()}\n",
    "clfs.append(('SVMR', clf, clf_params))\n",
    "\n",
    "# CART\n",
    "clf = ('clf', DecisionTreeClassifier(class_weight='balanced'))\n",
    "clf_params = {'clf__max_depth': randint(4, 10),\n",
    "              'clf__min_samples_leaf': randint(1, 9),\n",
    "              'clf__criterion': ['gini', 'entropy']}\n",
    "clfs.append(('CART', clf, clf_params))\n",
    "\n",
    "# Extra\n",
    "clf = ('clf', RandomForestClassifier(n_estimators=100 ,class_weight='balanced'))\n",
    "clf_params = {'clf__max_depth': randint(4, 10),\n",
    "              'clf__min_samples_leaf': randint(1, 9),\n",
    "              'clf__criterion': ['gini', 'entropy']}\n",
    "clfs.append(('RF', clf, clf_params))\n",
    "\n",
    "# GB\n",
    "clf = ('clf', GradientBoostingClassifier(n_estimators=100))\n",
    "clf_params = {'clf__max_depth': randint(4, 10),\n",
    "              'clf__min_samples_leaf': randint(1, 9)}\n",
    "clfs.append(('GB', clf, clf_params))\n",
    "\n",
    "# MLP\n",
    "clf = ('clf', MLPClassifier())\n",
    "clf_params = {'clf__hidden_layer_sizes': [(randint.rvs(10,20,1),randint.rvs(10,20,1),),(randint.rvs(10,20,1),)],\n",
    "                'clf__activation': ['tanh', 'relu'],\n",
    "                'clf__solver': ['sgd', 'adam'],\n",
    "                'clf__alpha': uniform(0.0001, 0.9),\n",
    "                'clf__learning_rate': ['constant','adaptive']}\n",
    "clfs.append(('MLP', clf, clf_params))"
   ]
  },
  {
   "cell_type": "markdown",
   "metadata": {},
   "source": [
    "# Models"
   ]
  },
  {
   "cell_type": "code",
   "execution_count": null,
   "metadata": {},
   "outputs": [],
   "source": [
    "scalers = [('None',None), ('MMS',('scale', MinMaxScaler())), ('SS',('scale', StandardScaler()))]\n",
    "\n",
    "processes = []\n",
    "for scaler_name,scaler in scalers:\n",
    "\n",
    "    for clf_name, clf, clf_params in clfs:\n",
    "        \n",
    "        if scaler is None:\n",
    "            process = Pipeline([clf])\n",
    "        else:\n",
    "            process = Pipeline([scaler, clf])\n",
    "                \n",
    "        processes.append((f'{scaler_name}_{clf_name}', process, clf_params))"
   ]
  },
  {
   "cell_type": "markdown",
   "metadata": {},
   "source": [
    "# Evaluation"
   ]
  },
  {
   "cell_type": "code",
   "execution_count": null,
   "metadata": {},
   "outputs": [],
   "source": [
    "for extractor in extractors: \n",
    "    # Decompose model\n",
    "    extractor_name, extractor_process = extractor\n",
    "    \n",
    "    for process in processes:   \n",
    "        # Decompose model       \n",
    "        process_name, process_process, process_params = process\n",
    "        \n",
    "        # Start evaluation\n",
    "        name = f'{extractor_name}{process_name}Label'        \n",
    "        print(f'{name} performed...', end='\\r')\n",
    "        Tools.evaluate(inputs, {'datum': extractor_name, 'label_encode': 'LabelEncode'}, process_process, name, distribution=process_params)\n",
    "        print(f'{name} achieved !', end='\\r')  \n",
    "        \n",
    "        # Save\n",
    "        IO.save(inputs, prediction_file)"
   ]
  },
  {
   "cell_type": "markdown",
   "metadata": {},
   "source": [
    "# Scores and ROC"
   ]
  },
  {
   "cell_type": "code",
   "execution_count": null,
   "metadata": {},
   "outputs": [],
   "source": [
    "inputs = IO.load(prediction_file)\n",
    "\n",
    "# Transform labels\n",
    "label_encoder = OrderedEncoder().fit(['Normal', 'Benign', 'Malignant'])\n",
    "\n",
    "# ROC Curve\n",
    "ViewsTools.plot_size((8,8))\n",
    "for extractor in extractors: \n",
    "    extractor_name, extractor_process = extractor\n",
    "    \n",
    "    for model in processes:  \n",
    "        # Decompose model\n",
    "        model_name, model_process, model_params = model        \n",
    "        \n",
    "        # Label\n",
    "        name = f'{extractor_name}{model_name}Label' \n",
    "        display(HTML(ViewsTools.dataframe_renderer([Views.report(ViewsTools.data_as(inputs, name), {'label_encode': 'LabelEncode', 'eval': name}, label_encoder)],\n",
    "                                                                        title=[f'Test - {name}'])))"
   ]
  },
  {
   "cell_type": "code",
   "execution_count": null,
   "metadata": {},
   "outputs": [],
   "source": []
  }
 ],
 "metadata": {
  "kernelspec": {
   "display_name": "Python 3",
   "language": "python",
   "name": "python3"
  },
  "language_info": {
   "codemirror_mode": {
    "name": "ipython",
    "version": 3
   },
   "file_extension": ".py",
   "mimetype": "text/x-python",
   "name": "python",
   "nbconvert_exporter": "python",
   "pygments_lexer": "ipython3",
   "version": "3.6.7"
  },
  "varInspector": {
   "cols": {
    "lenName": 16,
    "lenType": 16,
    "lenVar": 40
   },
   "kernels_config": {
    "python": {
     "delete_cmd_postfix": "",
     "delete_cmd_prefix": "del ",
     "library": "var_list.py",
     "varRefreshCmd": "print(var_dic_list())"
    },
    "r": {
     "delete_cmd_postfix": ") ",
     "delete_cmd_prefix": "rm(",
     "library": "var_list.r",
     "varRefreshCmd": "cat(var_dic_list()) "
    }
   },
   "position": {
    "height": "501.398px",
    "left": "1406px",
    "right": "20px",
    "top": "134px",
    "width": "350px"
   },
   "types_to_exclude": [
    "module",
    "function",
    "builtin_function_or_method",
    "instance",
    "_Feature"
   ],
   "window_display": false
  }
 },
 "nbformat": 4,
 "nbformat_minor": 2
}
