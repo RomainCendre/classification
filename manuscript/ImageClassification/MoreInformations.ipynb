{
 "cells": [
  {
   "cell_type": "code",
   "execution_count": null,
   "metadata": {},
   "outputs": [],
   "source": [
    "import sys\n",
    "sys.path.append('/home/rcendre/classification')\n",
    "from sklearn.preprocessing import MinMaxScaler\n",
    "from sklearn.decomposition import PCA\n",
    "import matplotlib.pyplot as plt\n",
    "from sklearn.pipeline import make_pipeline\n",
    "from toolbox.classification.common import IO\n",
    "from toolbox.classification.parameters import Settings\n",
    "from toolbox.transforms.labels import OrderedEncoder\n",
    "from toolbox.views.common import Views\n",
    "from sklearn.discriminant_analysis import LinearDiscriminantAnalysis\n",
    "from numpy import array"
   ]
  },
  {
   "cell_type": "code",
   "execution_count": null,
   "metadata": {},
   "outputs": [],
   "source": [
    "RANDOM_STATE = 42\n",
    "FIG_SIZE = (16, 7)"
   ]
  },
  {
   "cell_type": "code",
   "execution_count": null,
   "metadata": {},
   "outputs": [],
   "source": [
    "inputs = IO.load(f'Extraction_Transfer.pickle')"
   ]
  },
  {
   "cell_type": "code",
   "execution_count": null,
   "metadata": {},
   "outputs": [],
   "source": [
    "settings = Settings.get_default_dermatology()\n",
    "label_encoder = OrderedEncoder().fit(['Normal', 'Benign', 'Malignant'])"
   ]
  },
  {
   "cell_type": "code",
   "execution_count": null,
   "metadata": {},
   "outputs": [],
   "source": [
    "figure=Views.fold_visualization(inputs, {'label_encode':'LabelEncode', 'group_encode':'GroupEncode'}, label_encoder, settings)\n",
    "figure.savefig('folds_image_classification.svg')"
   ]
  },
  {
   "cell_type": "code",
   "execution_count": null,
   "metadata": {
    "pycharm": {
     "name": "#%%\n"
    }
   },
   "outputs": [],
   "source": [
    "X_train = array(inputs['VGG16Avg'].to_list())[0:500,:]\n",
    "y_train = array(inputs['LabelEncode'].to_list())[0:500]\n",
    "\n",
    "X_test = array(inputs['VGG16Avg'].to_list())[500:1000,:]\n",
    "y_test = array(inputs['LabelEncode'].to_list())[500:1000]\n",
    "\n",
    "# Fit to data and predict using pipelined GNB and PCA.\n",
    "unscaled = make_pipeline(PCA(n_components=2))\n",
    "unscaled.fit(X_train, y_train)\n",
    "\n",
    "# Fit to data and predict using pipelined scaling, GNB and PCA.\n",
    "scaled = make_pipeline(MinMaxScaler(), PCA(n_components=2))\n",
    "scaled.fit(X_train, y_train)\n",
    "\n",
    "# Use PCA without and with scale on X_train data for visualization.\n",
    "X_train_unscaled = unscaled.transform(X_train)\n",
    "X_test_unscaled = unscaled.transform(X_test)\n",
    "X_train_scaled = scaled.transform(X_train)\n",
    "X_test_scaled = scaled.transform(X_test)\n",
    "\n",
    "# visualize standardized vs. untouched dataset with PCA performed\n",
    "fig, (ax1, ax2, ax3, ax4) = plt.subplots(ncols=4, figsize=FIG_SIZE)\n",
    "\n",
    "\n",
    "for l, c, name in zip(range(0, 3), ('green', 'yellow', 'orange'), ('Sain', 'Bénin', 'Malin')):\n",
    "    ax1.scatter(X_train_unscaled[y_train == l, 0],\n",
    "                X_train_unscaled[y_train == l, 1],\n",
    "                color=c,\n",
    "                label=name,\n",
    "                alpha=0.5\n",
    "                )\n",
    "ax1.set_title('Entrainement: ACP')\n",
    "\n",
    "for l, c, name in zip(range(0, 3), ('green', 'yellow', 'orange'), ('Sain', 'Bénin', 'Malin')):\n",
    "    ax2.scatter(X_train_scaled[y_train == l, 0],\n",
    "                X_train_scaled[y_train == l, 1],\n",
    "                color=c,\n",
    "                label=name,\n",
    "                alpha=0.5\n",
    "                )\n",
    "ax2.set_title('Entrainement: Normalisation + ACP')\n",
    "\n",
    "for l, c, name in zip(range(0, 3), ('green', 'yellow', 'orange'), ('Sain', 'Bénin', 'Malin')):\n",
    "    ax3.scatter(X_test_unscaled[y_train == l, 0],\n",
    "                X_test_unscaled[y_train == l, 1],\n",
    "                color=c,\n",
    "                label=name,\n",
    "                alpha=0.5\n",
    "                )\n",
    "ax3.set_title('Evaluation: ACP')\n",
    "\n",
    "for l, c, name in zip(range(0, 3), ('green', 'yellow', 'orange'), ('Sain', 'Bénin', 'Malin')):\n",
    "    ax4.scatter(X_test_scaled[y_train == l, 0],\n",
    "                X_test_scaled[y_train == l, 1],\n",
    "                color=c,\n",
    "                label=name,\n",
    "                alpha=0.5\n",
    "                )\n",
    "ax4.set_title('Evaluation: Normalisation + ACP')\n",
    "\n",
    "for ax in (ax1, ax2, ax3, ax4):\n",
    "    ax.set_xlabel('Première composante principale')\n",
    "    ax.set_ylabel('Seconde composante principale')\n",
    "    ax.legend(loc='upper right')\n",
    "    ax.grid()\n",
    "\n",
    "plt.tight_layout()\n",
    "\n",
    "plt.show()\n",
    "fig.savefig('exemple_PCA.svg')"
   ]
  },
  {
   "cell_type": "code",
   "execution_count": null,
   "metadata": {
    "pycharm": {
     "name": "#%%\n"
    }
   },
   "outputs": [],
   "source": [
    "# Fit to data and predict using pipelined GNB and PCA.\n",
    "unscaled = make_pipeline(LinearDiscriminantAnalysis(n_components=2))\n",
    "unscaled.fit(X_train, y_train)\n",
    "\n",
    "# Fit to data and predict using pipelined scaling, GNB and PCA.\n",
    "scaled = make_pipeline(MinMaxScaler(), LinearDiscriminantAnalysis(n_components=2))\n",
    "scaled.fit(X_train, y_train)\n",
    "\n",
    "# Use PCA without and with scale on X_train data for visualization.\n",
    "X_train_unscaled = unscaled.transform(X_train)\n",
    "X_test_unscaled = unscaled.transform(X_test)\n",
    "X_train_scaled = scaled.transform(X_train)\n",
    "X_test_scaled = scaled.transform(X_test)\n",
    "\n",
    "# visualize standardized vs. untouched dataset with PCA performed\n",
    "fig, (ax1, ax2, ax3, ax4) = plt.subplots(ncols=4, figsize=FIG_SIZE)\n",
    "\n",
    "\n",
    "for l, c, name in zip(range(0, 3), ('green', 'yellow', 'orange'), ('Sain', 'Bénin', 'Malin')):\n",
    "    ax1.scatter(X_train_unscaled[y_train == l, 0],\n",
    "                X_train_unscaled[y_train == l, 1],\n",
    "                color=c,\n",
    "                label=name,\n",
    "                alpha=0.5\n",
    "                )\n",
    "ax1.set_title('Entrainement : ADL')\n",
    "\n",
    "for l, c, name in zip(range(0, 3), ('green', 'yellow', 'orange'), ('Sain', 'Bénin', 'Malin')):\n",
    "    ax2.scatter(X_train_scaled[y_train == l, 0],\n",
    "                X_train_scaled[y_train == l, 1],\n",
    "                color=c,\n",
    "                label=name,\n",
    "                alpha=0.5\n",
    "                )\n",
    "ax2.set_title('Entrainement : Normalisation + ADL')\n",
    "\n",
    "for l, c, name in zip(range(0, 3), ('green', 'yellow', 'orange'), ('Sain', 'Bénin', 'Malin')):\n",
    "    ax3.scatter(X_test_unscaled[y_train == l, 0],\n",
    "                X_test_unscaled[y_train == l, 1],\n",
    "                color=c,\n",
    "                label=name,\n",
    "                alpha=0.5\n",
    "                )\n",
    "ax3.set_title('Evaluation : ADL')\n",
    "\n",
    "for l, c, name in zip(range(0, 3), ('green', 'yellow', 'orange'), ('Sain', 'Bénin', 'Malin')):\n",
    "    ax4.scatter(X_test_scaled[y_train == l, 0],\n",
    "                X_test_scaled[y_train == l, 1],\n",
    "                color=c,\n",
    "                label=name,\n",
    "                alpha=0.5\n",
    "                )\n",
    "ax4.set_title('Evaluation : Normalisation + ADL')\n",
    "\n",
    "for ax in (ax1, ax2, ax3, ax4):\n",
    "    ax.set_xlabel('Première composante principale')\n",
    "    ax.set_ylabel('Seconde composante principale')\n",
    "    ax.legend(loc='upper right')\n",
    "    ax.grid()\n",
    "\n",
    "plt.tight_layout()\n",
    "\n",
    "plt.show()\n",
    "fig.savefig('exemple_LDA.svg')"
   ]
  }
 ],
 "metadata": {
  "kernelspec": {
   "display_name": "Python 3",
   "language": "python",
   "name": "python3"
  },
  "language_info": {
   "codemirror_mode": {
    "name": "ipython",
    "version": 3
   },
   "file_extension": ".py",
   "mimetype": "text/x-python",
   "name": "python",
   "nbconvert_exporter": "python",
   "pygments_lexer": "ipython3",
   "version": "3.6.7"
  },
  "pycharm": {
   "stem_cell": {
    "cell_type": "raw",
    "metadata": {
     "collapsed": false
    },
    "source": []
   }
  },
  "varInspector": {
   "cols": {
    "lenName": 16,
    "lenType": 16,
    "lenVar": 40
   },
   "kernels_config": {
    "python": {
     "delete_cmd_postfix": "",
     "delete_cmd_prefix": "del ",
     "library": "var_list.py",
     "varRefreshCmd": "print(var_dic_list())"
    },
    "r": {
     "delete_cmd_postfix": ") ",
     "delete_cmd_prefix": "rm(",
     "library": "var_list.r",
     "varRefreshCmd": "cat(var_dic_list()) "
    }
   },
   "types_to_exclude": [
    "module",
    "function",
    "builtin_function_or_method",
    "instance",
    "_Feature"
   ],
   "window_display": false
  }
 },
 "nbformat": 4,
 "nbformat_minor": 2
}
