{
 "cells": [
  {
   "cell_type": "code",
   "execution_count": null,
   "metadata": {},
   "outputs": [],
   "source": [
    "from IPython.display import HTML\n",
    "\n",
    "HTML('''<script>\n",
    "code_show=true; \n",
    "function code_toggle() {\n",
    " if (code_show){\n",
    " $('div.input').hide();\n",
    " } else {\n",
    " $('div.input').show();\n",
    " }\n",
    " code_show = !code_show\n",
    "} \n",
    "$( document ).ready(code_toggle);\n",
    "</script>\n",
    "<form action=\"javascript:code_toggle()\"><input type=\"submit\" value=\"Click here to toggle on/off the raw code.\"></form>''')\n"
   ]
  },
  {
   "cell_type": "code",
   "execution_count": null,
   "metadata": {},
   "outputs": [],
   "source": [
    "%%javascript\n",
    "IPython.OutputArea.prototype._should_scroll = function(lines) {\n",
    "    return false;\n",
    "}"
   ]
  },
  {
   "cell_type": "code",
   "execution_count": null,
   "metadata": {},
   "outputs": [],
   "source": [
    "import sys\n",
    "from IPython.display import HTML\n",
    "sys.path.append('/home/rcendre/classification')"
   ]
  },
  {
   "cell_type": "code",
   "execution_count": null,
   "metadata": {},
   "outputs": [],
   "source": [
    "import os\n",
    "import sys\n",
    "import itertools\n",
    "import webbrowser\n",
    "from pathlib import Path\n",
    "import matplotlib.pyplot as plt\n",
    "from numpy import array, logspace\n",
    "from scipy.stats import randint as randint\n",
    "from sklearn.decomposition import PCA\n",
    "from sklearn.ensemble import ExtraTreesClassifier\n",
    "from sklearn.manifold import TSNE\n",
    "from sklearn.pipeline import Pipeline\n",
    "from sklearn.preprocessing import LabelEncoder, StandardScaler\n",
    "from sklearn.svm import SVC\n",
    "from sklearn.tree import DecisionTreeClassifier\n",
    "from sklearn.metrics import davies_bouldin_score\n",
    "from toolbox.classification.common import Folds, IO, Tools\n",
    "from toolbox.classification.parameters import Dermatology, Settings\n",
    "from toolbox.models.builtin import Applications\n",
    "from toolbox.IO import dermatology\n",
    "from toolbox.transforms.common import PredictorTransform\n",
    "from toolbox.transforms.labels import OrderedEncoder\n",
    "from toolbox.transforms.images import DistributionImageTransform, FirstOrderImageTransform, HaralickImageTransform, SpatialImageTransform\n",
    "from toolbox.views.common import Views, ViewsTools\n",
    "from toolbox.views.images import ImagesViews\n",
    "from IPython.display import display"
   ]
  },
  {
   "cell_type": "code",
   "execution_count": null,
   "metadata": {},
   "outputs": [],
   "source": [
    "inputs = IO.load(f'Extraction_Spatial.pickle')"
   ]
  },
  {
   "cell_type": "code",
   "execution_count": null,
   "metadata": {},
   "outputs": [],
   "source": [
    "settings = Settings.get_default_dermatology()\n",
    "label_encoder = OrderedEncoder().fit(['Normal', 'Benign', 'Malignant'])"
   ]
  },
  {
   "cell_type": "code",
   "execution_count": null,
   "metadata": {},
   "outputs": [],
   "source": [
    "figure=Views.fold_visualization(inputs, {'label_encode':'LabelEncode', 'group_encode':'GroupEncode'}, label_encoder, settings)\n",
    "figure.savefig('folds_image_classification.svg')"
   ]
  },
  {
   "cell_type": "code",
   "execution_count": null,
   "metadata": {},
   "outputs": [],
   "source": [
    "from sklearn.model_selection import train_test_split\n",
    "from sklearn.preprocessing import StandardScaler, MinMaxScaler\n",
    "from sklearn.decomposition import PCA\n",
    "from sklearn.discriminant_analysis import LinearDiscriminantAnalysis\n",
    "from sklearn.naive_bayes import GaussianNB\n",
    "from sklearn import metrics\n",
    "import matplotlib.pyplot as plt\n",
    "from sklearn.datasets import load_wine\n",
    "from sklearn.pipeline import make_pipeline\n",
    "import sys\n",
    "from IPython.display import HTML\n",
    "sys.path.append('/home/rcendre/classification')\n",
    "from toolbox.classification.common import Folds, IO, Tools\n",
    "\n",
    "RANDOM_STATE = 42\n",
    "FIG_SIZE = (10, 7)\n",
    "\n",
    "inputs = IO.load(f'Extraction_Transfer.pickle')\n",
    "X = np.array(inputs['VGG16Avg'].to_list())[0:500,:]\n",
    "y = np.array(inputs['LabelEncode'].to_list())[0:500]\n",
    "\n",
    "# Fit to data and predict using pipelined GNB and PCA.\n",
    "unscaled = make_pipeline(PCA(n_components=2))\n",
    "unscaled.fit(X_train, y_train)\n",
    "\n",
    "# Fit to data and predict using pipelined scaling, GNB and PCA.\n",
    "scaled = make_pipeline(MinMaxScaler(), PCA(n_components=2))\n",
    "scaled.fit(X_train, y_train)\n",
    "\n",
    "# Use PCA without and with scale on X_train data for visualization.\n",
    "X_unscaled = unscaled.transform(X_train)\n",
    "X_scaled = scaled.transform(X_train)\n",
    "\n",
    "# visualize standardized vs. untouched dataset with PCA performed\n",
    "fig, (ax1, ax2) = plt.subplots(ncols=2, figsize=FIG_SIZE)\n",
    "\n",
    "\n",
    "for l, c, name in zip(range(0, 3), ('green', 'yellow', 'orange'), ('Sain', 'Bénin', 'Malin')):\n",
    "    ax1.scatter(X_unscaled[y_train == l, 0],\n",
    "                X_unscaled[y_train == l, 1],\n",
    "                color=c,\n",
    "                label=name,\n",
    "                alpha=0.5\n",
    "                )\n",
    "\n",
    "for l, c, name in zip(range(0, 3), ('green', 'yellow', 'orange'), ('Sain', 'Bénin', 'Malin')):\n",
    "    ax2.scatter(X_scaled[y_train == l, 0],\n",
    "                X_scaled[y_train == l, 1],\n",
    "                color=c,\n",
    "                label=name,\n",
    "                alpha=0.5\n",
    "                )\n",
    "\n",
    "ax1.set_title('ACP')\n",
    "ax2.set_title('Normalisation + ACP')\n",
    "\n",
    "for ax in (ax1, ax2):\n",
    "    ax.set_xlabel('Première composante principale')\n",
    "    ax.set_ylabel('Seconde composante principale')\n",
    "    ax.legend(loc='upper right')\n",
    "    ax.grid()\n",
    "\n",
    "plt.tight_layout()\n",
    "\n",
    "plt.show()\n",
    "fig.savefig('exemple_PCA.svg')"
   ]
  },
  {
   "cell_type": "code",
   "execution_count": null,
   "metadata": {},
   "outputs": [],
   "source": [
    "from sklearn.model_selection import train_test_split\n",
    "from sklearn.preprocessing import StandardScaler, MinMaxScaler\n",
    "from sklearn.decomposition import PCA\n",
    "from sklearn.discriminant_analysis import LinearDiscriminantAnalysis\n",
    "from sklearn.naive_bayes import GaussianNB\n",
    "from sklearn import metrics\n",
    "import matplotlib.pyplot as plt\n",
    "from sklearn.datasets import load_wine\n",
    "from sklearn.pipeline import make_pipeline\n",
    "import sys\n",
    "from IPython.display import HTML\n",
    "sys.path.append('/home/rcendre/classification')\n",
    "from toolbox.classification.common import Folds, IO, Tools\n",
    "\n",
    "RANDOM_STATE = 42\n",
    "FIG_SIZE = (10, 7)\n",
    "\n",
    "inputs = IO.load(f'Extraction_Transfer.pickle')\n",
    "X_train = np.array(inputs['VGG16Avg'].to_list())[0:500,:]\n",
    "y_train = np.array(inputs['LabelEncode'].to_list())[0:500]\n",
    "\n",
    "# Fit to data and predict using pipelined GNB and PCA.\n",
    "unscaled = make_pipeline(LinearDiscriminantAnalysis(n_components=2))\n",
    "unscaled.fit(X_train, y_train)\n",
    "\n",
    "# Fit to data and predict using pipelined scaling, GNB and PCA.\n",
    "scaled = make_pipeline(MinMaxScaler(), LinearDiscriminantAnalysis(n_components=2))\n",
    "scaled.fit(X_train, y_train)\n",
    "\n",
    "# Use PCA without and with scale on X_train data for visualization.\n",
    "X_unscaled = unscaled.transform(X_train)\n",
    "X_scaled = scaled.transform(X_train)\n",
    "\n",
    "# visualize standardized vs. untouched dataset with PCA performed\n",
    "fig, (ax1, ax2) = plt.subplots(ncols=2, figsize=FIG_SIZE)\n",
    "\n",
    "\n",
    "for l, c, name in zip(range(0, 3), ('green', 'yellow', 'orange'), ('Sain', 'Bénin', 'Malin')):\n",
    "    ax1.scatter(X_unscaled[y_train == l, 0],\n",
    "                X_unscaled[y_train == l, 1],\n",
    "                color=c,\n",
    "                label=name,\n",
    "                alpha=0.5\n",
    "                )\n",
    "\n",
    "for l, c, name in zip(range(0, 3), ('green', 'yellow', 'orange'), ('Sain', 'Bénin', 'Malin')):\n",
    "    ax2.scatter(X_scaled[y_train == l, 0],\n",
    "                X_scaled[y_train == l, 1],\n",
    "                color=c,\n",
    "                label=name,\n",
    "                alpha=0.5\n",
    "                )\n",
    "\n",
    "ax1.set_title('ADL')\n",
    "ax2.set_title('Normalisation + ADL')\n",
    "\n",
    "for ax in (ax1, ax2):\n",
    "    ax.set_xlabel('Première composante principale')\n",
    "    ax.set_ylabel('Seconde composante principale')\n",
    "    ax.legend(loc='upper right')\n",
    "    ax.grid()\n",
    "\n",
    "plt.tight_layout()\n",
    "\n",
    "plt.show()\n",
    "fig.savefig('exemple_LDA.svg')"
   ]
  },
  {
   "cell_type": "code",
   "execution_count": null,
   "metadata": {},
   "outputs": [],
   "source": []
  }
 ],
 "metadata": {
  "kernelspec": {
   "display_name": "Python 3",
   "language": "python",
   "name": "python3"
  },
  "language_info": {
   "codemirror_mode": {
    "name": "ipython",
    "version": 3
   },
   "file_extension": ".py",
   "mimetype": "text/x-python",
   "name": "python",
   "nbconvert_exporter": "python",
   "pygments_lexer": "ipython3",
   "version": "3.6.7"
  },
  "varInspector": {
   "cols": {
    "lenName": 16,
    "lenType": 16,
    "lenVar": 40
   },
   "kernels_config": {
    "python": {
     "delete_cmd_postfix": "",
     "delete_cmd_prefix": "del ",
     "library": "var_list.py",
     "varRefreshCmd": "print(var_dic_list())"
    },
    "r": {
     "delete_cmd_postfix": ") ",
     "delete_cmd_prefix": "rm(",
     "library": "var_list.r",
     "varRefreshCmd": "cat(var_dic_list()) "
    }
   },
   "types_to_exclude": [
    "module",
    "function",
    "builtin_function_or_method",
    "instance",
    "_Feature"
   ],
   "window_display": false
  }
 },
 "nbformat": 4,
 "nbformat_minor": 2
}
