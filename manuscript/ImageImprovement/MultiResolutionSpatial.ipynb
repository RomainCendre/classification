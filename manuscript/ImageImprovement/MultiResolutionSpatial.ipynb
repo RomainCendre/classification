{
 "cells": [
  {
   "cell_type": "markdown",
   "metadata": {},
   "source": [
    "# Sheet properties"
   ]
  },
  {
   "cell_type": "code",
   "execution_count": 1,
   "metadata": {},
   "outputs": [
    {
     "data": {
      "application/javascript": [
       "IPython.OutputArea.prototype._should_scroll = function(lines) {\n",
       "    return false;\n",
       "}\n"
      ],
      "text/plain": [
       "<IPython.core.display.Javascript object>"
      ]
     },
     "metadata": {},
     "output_type": "display_data"
    }
   ],
   "source": [
    "%%javascript\n",
    "IPython.OutputArea.prototype._should_scroll = function(lines) {\n",
    "    return false;\n",
    "}"
   ]
  },
  {
   "cell_type": "markdown",
   "metadata": {},
   "source": [
    "# Imports"
   ]
  },
  {
   "cell_type": "code",
   "execution_count": 2,
   "metadata": {},
   "outputs": [],
   "source": [
    "import sys\n",
    "sys.path.append('/home/rcendre/classification')\n",
    "from numpy import array, logspace\n",
    "from sklearn.pipeline import Pipeline\n",
    "from sklearn.preprocessing import LabelEncoder, MinMaxScaler\n",
    "from sklearn.svm import SVC\n",
    "from sklearn.metrics import f1_score\n",
    "from toolbox.classification.common import Data, Folds, IO, Tools\n",
    "from toolbox.classification.parameters import Dermatology, Settings\n",
    "from toolbox.transforms.common import FlattenTransform\n",
    "from toolbox.transforms.images import HaralickImageTransform\n",
    "from toolbox.transforms.labels import OrderedEncoder\n",
    "from toolbox.views.common import Views, ViewsTools\n",
    "from toolbox.models.models import DecisionVotingClassifier, ScoreVotingClassifier\n",
    "import warnings\n",
    "warnings.filterwarnings('ignore') "
   ]
  },
  {
   "cell_type": "markdown",
   "metadata": {},
   "source": [
    "# Parameters"
   ]
  },
  {
   "cell_type": "code",
   "execution_count": 3,
   "metadata": {},
   "outputs": [],
   "source": [
    "# Advanced parameters\n",
    "validation = 4\n",
    "settings = Settings.get_default_dermatology()\n",
    "coefficients = [1, 0.75, 0.5, 0.25]"
   ]
  },
  {
   "cell_type": "markdown",
   "metadata": {},
   "source": [
    "# Inputs"
   ]
  },
  {
   "cell_type": "code",
   "execution_count": 4,
   "metadata": {},
   "outputs": [],
   "source": [
    "features_file = f'Extraction_Multiresolution.pickle'\n",
    "iteration_limit = -1"
   ]
  },
  {
   "cell_type": "code",
   "execution_count": 5,
   "metadata": {},
   "outputs": [
    {
     "name": "stdout",
     "output_type": "stream",
     "text": [
      "Progress: |███████████████████████████████████████████████████████████████████████████████████████████████████-| 100.0 \r"
     ]
    }
   ],
   "source": [
    "inputs = Dermatology.multiple_resolution(coefficients, modality='Microscopy')\n",
    "# Transform groups\n",
    "group_encoder = LabelEncoder().fit(array(inputs['ID_Patient'].tolist()))\n",
    "Tools.transform(inputs, {'datum': 'ID_Patient'}, group_encoder, 'GroupEncode')\n",
    "# Transform labels\n",
    "label_encoder = OrderedEncoder().fit(['Normal', 'Benign', 'Malignant'])\n",
    "Tools.transform(inputs, {'datum': 'Label'}, label_encoder, 'LabelEncode')\n",
    "# Make folds\n",
    "Folds.build_group_folds(inputs, {'datum': 'Datum', 'label_encode': 'LabelEncode', 'group': 'GroupEncode'}, validation)"
   ]
  },
  {
   "cell_type": "code",
   "execution_count": null,
   "metadata": {},
   "outputs": [],
   "source": [
    "Tools.transform(inputs, {'datum': 'Datum'}, HaralickImageTransform(return_mean=True), 'Spatial')\n",
    "IO.save(inputs, features_file)"
   ]
  },
  {
   "cell_type": "markdown",
   "metadata": {},
   "source": [
    "# Fusion features"
   ]
  },
  {
   "cell_type": "code",
   "execution_count": null,
   "metadata": {},
   "outputs": [],
   "source": [
    "prediction_features_file = f'Prediction_MultiResolution_Features.pickle'"
   ]
  },
  {
   "cell_type": "code",
   "execution_count": null,
   "metadata": {},
   "outputs": [],
   "source": [
    "features_clfs = []\n",
    "\n",
    "# SVM Linear\n",
    "clf = Pipeline([('flat', FlattenTransform()),('scale', MinMaxScaler()),('clf', SVC(kernel='linear', class_weight='balanced', max_iter=iteration_limit, probability=True))])\n",
    "clf_params = {'clf__C': logspace(-2, 3, 6).tolist()}\n",
    "features_clfs.append(('SVML', clf, clf_params))"
   ]
  },
  {
   "cell_type": "code",
   "execution_count": null,
   "metadata": {},
   "outputs": [],
   "source": [
    "inputs = IO.load(features_file)\n",
    "    \n",
    "for clf_name, clf, clf_params in features_clfs:\n",
    "\n",
    "    Data.build_bags(inputs, inputs.Type == 'Full', 'Reference', inputs.Type == 'Instance', 'Source', 'Wiltgen')\n",
    "\n",
    "    name = f'Wiltgen_{clf_name}'\n",
    "\n",
    "    Tools.evaluate(inputs, {'datum': 'Wiltgen', 'label_encode': 'LabelEncode'}, clf, name, distribution=clf_params, mask=inputs.Type == 'Full') \n",
    "\n",
    "    IO.save(inputs, prediction_features_file)"
   ]
  },
  {
   "cell_type": "markdown",
   "metadata": {},
   "source": [
    "# Fusion decisions"
   ]
  },
  {
   "cell_type": "code",
   "execution_count": null,
   "metadata": {},
   "outputs": [],
   "source": [
    "prediction_decision_file = f'Prediction_Multiresolution_Decisions.pickle'"
   ]
  },
  {
   "cell_type": "markdown",
   "metadata": {},
   "source": [
    "## Low level predictions"
   ]
  },
  {
   "cell_type": "code",
   "execution_count": null,
   "metadata": {},
   "outputs": [],
   "source": [
    "# SVM Linear\n",
    "model_features = Pipeline([('scale', MinMaxScaler()),('clf', SVC(kernel='linear', class_weight='balanced', max_iter=iteration_limit, probability=True))])\n",
    "params = {'clf__C': logspace(-2, 3, 6).tolist()}"
   ]
  },
  {
   "cell_type": "code",
   "execution_count": null,
   "metadata": {},
   "outputs": [],
   "source": [
    "low_folds = [([1, 2], [3]),\n",
    "             ([2, 3], [4]),\n",
    "             ([3, 4], [1]),\n",
    "             ([4, 1], [2])]"
   ]
  },
  {
   "cell_type": "code",
   "execution_count": null,
   "metadata": {
    "scrolled": true
   },
   "outputs": [],
   "source": [
    "# inputs = IO.load(features_file)\n",
    "\n",
    "# for coefficient in coefficients:\n",
    "#     # Add scaling\n",
    "#     Tools.fit_predict(inputs, {'datum': 'Wiltgen', 'label_encode': 'LabelEncode'}, model_features, 'SVC',\n",
    "#                       mask=inputs['Coefficient']==coefficient, folds=low_folds, distribution=params)\n",
    "\n",
    "# Data.build_bags(inputs, inputs.Type == 'Full', 'Reference', inputs.Type == 'Instance', 'Source', f'SVC_{Tools.PREDICTION}')\n",
    "# Data.build_bags(inputs, inputs.Type == 'Full', 'Reference', inputs.Type == 'Instance', 'Source', f'SVC_{Tools.PROBABILITY}')\n",
    "\n",
    "# IO.save(inputs, prediction_decision_file)"
   ]
  },
  {
   "cell_type": "markdown",
   "metadata": {},
   "source": [
    "## High level predictions"
   ]
  },
  {
   "cell_type": "code",
   "execution_count": null,
   "metadata": {
    "scrolled": true
   },
   "outputs": [],
   "source": [
    "inputs = IO.load(prediction_decision_file)\n",
    "inputs = inputs[inputs.Type == 'Full'].reset_index()"
   ]
  },
  {
   "cell_type": "code",
   "execution_count": null,
   "metadata": {},
   "outputs": [],
   "source": [
    "# Majority\n",
    "model_decisions = DecisionVotingClassifier(mode='max', metric=f1_score)\n",
    "model_scores_mean = ScoreVotingClassifier(low='mean', high='max', metric=f1_score)\n",
    "model_scores_max = ScoreVotingClassifier(low='max', high='max', metric=f1_score)\n",
    "# SVM Linear\n",
    "svc_scores = Pipeline([('flat', FlattenTransform()),('clf', SVC(kernel='linear', class_weight='balanced', max_iter=iteration_limit, probability=True))])\n",
    "svc_params = {'clf__C': logspace(-2, 3, 6).tolist()}"
   ]
  },
  {
   "cell_type": "code",
   "execution_count": null,
   "metadata": {},
   "outputs": [],
   "source": [
    "high_folds = [([4], [1]),\n",
    "             ([1], [2]),\n",
    "             ([2], [3]),\n",
    "             ([3], [4])]"
   ]
  },
  {
   "cell_type": "code",
   "execution_count": null,
   "metadata": {},
   "outputs": [],
   "source": [
    "Tools.evaluate(inputs, {'datum': f'SVC_{Tools.PREDICTION}', 'label_encode': 'LabelEncode'}, \n",
    "               model_decisions, 'Decision', folds=high_folds) \n",
    "\n",
    "\n",
    "Tools.evaluate(inputs, {'datum': f'SVC_{Tools.PROBABILITY}', 'label_encode': 'LabelEncode'}, \n",
    "               model_scores_mean, 'ScoreMean', folds=high_folds)     \n",
    "\n",
    "Tools.evaluate(inputs, {'datum': f'SVC_{Tools.PROBABILITY}', 'label_encode': 'LabelEncode'}, \n",
    "               model_scores_max, 'ScoreMax', folds=high_folds)     \n",
    "\n",
    "Tools.evaluate(inputs, {'datum': f'SVC_{Tools.PROBABILITY}', 'label_encode': 'LabelEncode'},\n",
    "               svc_scores, 'HSVC', distribution=svc_params, folds=high_folds)\n",
    "\n",
    "IO.save(inputs, prediction_decision_file)    "
   ]
  },
  {
   "cell_type": "markdown",
   "metadata": {},
   "source": [
    "## Analysis"
   ]
  },
  {
   "cell_type": "code",
   "execution_count": null,
   "metadata": {},
   "outputs": [],
   "source": [
    "from IPython.display import HTML\n",
    "from IPython.display import display"
   ]
  },
  {
   "cell_type": "code",
   "execution_count": null,
   "metadata": {},
   "outputs": [],
   "source": [
    "inputs = IO.load(prediction_features_file)\n",
    "inputs = inputs[inputs.Type == 'Full']\n",
    "\n",
    "# Transform labels\n",
    "label_encoder = OrderedEncoder().fit(['Normal', 'Benign', 'Malignant'])\n",
    "\n",
    "# ROC Curve\n",
    "ViewsTools.plot_size((8,8))\n",
    "    \n",
    "for clf_name, clf, clf_params in features_clfs:\n",
    "    # Label\n",
    "    name = f'Spatial_{clf_name}' \n",
    "    display(HTML(ViewsTools.dataframe_renderer([Views.report(inputs, {'label_encode': 'LabelEncode', 'eval': name}, label_encoder)],\n",
    "                                                                    title=[f'Test - {name}'])))"
   ]
  },
  {
   "cell_type": "code",
   "execution_count": null,
   "metadata": {},
   "outputs": [],
   "source": [
    "inputs = IO.load(prediction_decision_file)\n",
    "inputs = inputs[inputs.Type == 'Full']\n",
    "\n",
    "# Transform labels\n",
    "label_encoder = OrderedEncoder().fit(['Normal', 'Benign', 'Malignant'])\n",
    "\n",
    "# ROC Curve\n",
    "ViewsTools.plot_size((8,8))\n",
    "        \n",
    "# Label\n",
    "high_name = f'Decision' \n",
    "display(HTML(ViewsTools.dataframe_renderer([Views.report(inputs, {'label_encode': 'LabelEncode', 'eval': high_name}, label_encoder)],\n",
    "                                                                title=[f'Test - {high_name}'])))    \n",
    "\n",
    "high_name = f'ScoreMean'\n",
    "display(HTML(ViewsTools.dataframe_renderer([Views.report(inputs, {'label_encode': 'LabelEncode', 'eval': high_name}, label_encoder)],\n",
    "                                                                title=[f'Test - {high_name}'])))\n",
    "\n",
    "high_name = f'ScoreMax'\n",
    "display(HTML(ViewsTools.dataframe_renderer([Views.report(inputs, {'label_encode': 'LabelEncode', 'eval': high_name}, label_encoder)],\n",
    "                                                                title=[f'Test - {high_name}'])))\n",
    "\n",
    "high_name = f'HSVC'\n",
    "display(HTML(ViewsTools.dataframe_renderer([Views.report(inputs, {'label_encode': 'LabelEncode', 'eval': high_name}, label_encoder)],\n",
    "                                                                title=[f'Test - {high_name}'])))"
   ]
  }
 ],
 "metadata": {
  "kernelspec": {
   "display_name": "Python 3",
   "language": "python",
   "name": "python3"
  },
  "language_info": {
   "codemirror_mode": {
    "name": "ipython",
    "version": 3
   },
   "file_extension": ".py",
   "mimetype": "text/x-python",
   "name": "python",
   "nbconvert_exporter": "python",
   "pygments_lexer": "ipython3",
   "version": "3.7.6"
  },
  "pycharm": {
   "stem_cell": {
    "cell_type": "raw",
    "metadata": {
     "collapsed": false
    },
    "source": []
   }
  },
  "varInspector": {
   "cols": {
    "lenName": 16,
    "lenType": 16,
    "lenVar": 40
   },
   "kernels_config": {
    "python": {
     "delete_cmd_postfix": "",
     "delete_cmd_prefix": "del ",
     "library": "var_list.py",
     "varRefreshCmd": "print(var_dic_list())"
    },
    "r": {
     "delete_cmd_postfix": ") ",
     "delete_cmd_prefix": "rm(",
     "library": "var_list.r",
     "varRefreshCmd": "cat(var_dic_list()) "
    }
   },
   "types_to_exclude": [
    "module",
    "function",
    "builtin_function_or_method",
    "instance",
    "_Feature"
   ],
   "window_display": true
  }
 },
 "nbformat": 4,
 "nbformat_minor": 2
}
