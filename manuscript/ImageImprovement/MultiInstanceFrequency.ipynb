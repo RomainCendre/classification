{
 "cells": [
  {
   "cell_type": "markdown",
   "metadata": {},
   "source": [
    "# Sheet properties"
   ]
  },
  {
   "cell_type": "code",
   "execution_count": null,
   "metadata": {},
   "outputs": [],
   "source": [
    "%%javascript\n",
    "IPython.OutputArea.prototype._should_scroll = function(lines) {\n",
    "    return false;\n",
    "}"
   ]
  },
  {
   "cell_type": "markdown",
   "metadata": {},
   "source": [
    "# Imports"
   ]
  },
  {
   "cell_type": "code",
   "execution_count": null,
   "metadata": {},
   "outputs": [],
   "source": [
    "import sys\n",
    "sys.path.append('/home/rcendre/classification')\n",
    "from joblib import dump, load\n",
    "from numpy import array, logspace\n",
    "from sklearn.pipeline import Pipeline\n",
    "from sklearn.preprocessing import LabelEncoder, MinMaxScaler\n",
    "from sklearn.svm import SVC\n",
    "from sklearn.metrics import f1_score\n",
    "from toolbox.classification.common import Data, Folds, IO, Tools\n",
    "from toolbox.classification.parameters import Dermatology, Settings\n",
    "from toolbox.transforms.common import FlattenTransform\n",
    "from toolbox.transforms.labels import OrderedEncoder\n",
    "from toolbox.views.common import Views, ViewsTools\n",
    "from toolbox.views.images import PatchViews\n",
    "from toolbox.models.models import DecisionVotingClassifier, ScoreVotingClassifier\n",
    "from toolbox.transforms.images import DWTImageTransform\n",
    "import warnings\n",
    "warnings.filterwarnings('ignore') "
   ]
  },
  {
   "cell_type": "markdown",
   "metadata": {},
   "source": [
    "# Parameters"
   ]
  },
  {
   "cell_type": "code",
   "execution_count": null,
   "metadata": {},
   "outputs": [],
   "source": [
    "# Advanced parameters\n",
    "use_unknown = False \n",
    "validation = 4\n",
    "settings = Settings.get_default_dermatology()"
   ]
  },
  {
   "cell_type": "markdown",
   "metadata": {},
   "source": [
    "# Patch classifier"
   ]
  },
  {
   "cell_type": "code",
   "execution_count": null,
   "metadata": {},
   "outputs": [],
   "source": [
    "patch = Dermatology.images(modality='Microscopy', data_type='Patch', use_unknown=use_unknown)\n",
    "label_encoder = OrderedEncoder().fit(['Normal', 'Benign', 'Malignant'])\n",
    "Tools.transform(patch, {'datum': 'Label'}, label_encoder, 'LabelEncode')\n",
    "Tools.transform(patch, {'datum': 'Datum'}, DWTImageTransform(wavelets='db4', scale=1), 'Frequency')\n",
    "IO.save(patch, f'PatchFrequency.pickle')"
   ]
  },
  {
   "cell_type": "code",
   "execution_count": null,
   "metadata": {},
   "outputs": [],
   "source": [
    "low_predictor = Pipeline([('scale', MinMaxScaler()),('clf', SVC(kernel='linear', class_weight='balanced', max_iter=300, probability=True))])\n",
    "low_params = {'clf__C': logspace(-2, 3, 6).tolist()}"
   ]
  },
  {
   "cell_type": "code",
   "execution_count": null,
   "metadata": {},
   "outputs": [],
   "source": [
    "low_predictor = Tools.fit(patch, {'datum': 'Frequency', 'label_encode': 'LabelEncode'}, low_predictor, distribution=low_params)"
   ]
  },
  {
   "cell_type": "code",
   "execution_count": null,
   "metadata": {},
   "outputs": [],
   "source": [
    "dump(low_predictor, 'FrequencyPredictor')"
   ]
  },
  {
   "cell_type": "markdown",
   "metadata": {},
   "source": [
    "# Sliding window"
   ]
  },
  {
   "cell_type": "code",
   "execution_count": null,
   "metadata": {
    "run_control": {
     "marked": false
    }
   },
   "outputs": [],
   "source": [
    "inputs_options = []\n",
    "inputs_options.append((250,0))\n",
    "inputs_options.append((250,25))\n",
    "inputs_options.append((250,50))\n",
    "inputs_options.append((500,0))\n",
    "inputs_options.append((500,25))\n",
    "inputs_options.append((500,50))"
   ]
  },
  {
   "cell_type": "code",
   "execution_count": null,
   "metadata": {},
   "outputs": [],
   "source": [
    "# low_predictor = load('FrequencyPredictor')\n",
    "# for size, overlap in inputs_options:\n",
    "#     inputs = Dermatology.sliding_images(size=size, overlap=overlap/100, modality='Microscopy')\n",
    "#     Tools.transform(inputs, {'datum': 'Datum'}, DWTImageTransform(wavelets='db4', scale=1), 'Frequency')\n",
    "#     # Transform groups\n",
    "#     group_encoder = LabelEncoder().fit(array(inputs['ID_Patient'].tolist()))\n",
    "#     Tools.transform(inputs, {'datum': 'ID_Patient'}, group_encoder, 'GroupEncode')\n",
    "#     # Transform labels\n",
    "#     label_encoder = OrderedEncoder().fit(['Normal', 'Benign', 'Malignant'])\n",
    "#     Tools.transform(inputs, {'datum': 'Label'}, label_encoder, 'LabelEncode')\n",
    "#     # Make folds\n",
    "#     Folds.build_group_folds(inputs, {'datum': 'Datum', 'label_encode': 'LabelEncode', 'group': 'GroupEncode'}, validation)\n",
    "#     IO.save(inputs, f'Frequency_{size}_{overlap}')"
   ]
  },
  {
   "cell_type": "markdown",
   "metadata": {},
   "source": [
    "# Low level predictions"
   ]
  },
  {
   "cell_type": "code",
   "execution_count": null,
   "metadata": {},
   "outputs": [],
   "source": [
    "# for size, overlap in inputs_options:\n",
    "#     inputs = IO.load(f'Frequency_{size}_{overlap}')\n",
    "    \n",
    "#     # Add scaling\n",
    "#     Tools.predict(inputs, {'datum': 'Frequency'}, low_predictor, Tools.PREDICTION, mask=inputs.Type != 'Full')\n",
    "#     Tools.predict_proba(inputs, {'datum': 'Frequency'}, low_predictor, Tools.PROBABILITY, mask=inputs.Type != 'Full')\n",
    "\n",
    "#     Data.build_bags(inputs, inputs.Type == 'Full', 'Reference', inputs.Type == 'Instance', 'Source', Tools.PREDICTION)\n",
    "#     Data.build_bags(inputs, inputs.Type == 'Full', 'Reference', inputs.Type == 'Instance', 'Source', Tools.PROBABILITY)\n",
    "\n",
    "#     # Filter elements\n",
    "#     inputs = inputs[inputs.Type == 'Full']\n",
    "    \n",
    "#     # Low Level\n",
    "#     IO.save(inputs, f'LowFrequency_{size}_{overlap}.pickle')"
   ]
  },
  {
   "cell_type": "markdown",
   "metadata": {},
   "source": [
    "# High level predictions"
   ]
  },
  {
   "cell_type": "code",
   "execution_count": null,
   "metadata": {},
   "outputs": [],
   "source": [
    "# for size, overlap in inputs_options:\n",
    "#     inputs = IO.load(f'LowSpatial_{size}_{overlap}.pickle')\n",
    "    \n",
    "#     # Decisions\n",
    "#     Tools.evaluate(inputs, {'datum': Tools.PREDICTION, 'label_encode': 'LabelEncode'}, DecisionVotingClassifier(mode='at_least_one', metric=f1_score), 'D_ALO')\n",
    "#     Tools.evaluate(inputs, {'datum': Tools.PREDICTION, 'label_encode': 'LabelEncode'}, DecisionVotingClassifier(mode='dynamic_thresh', metric=f1_score), 'D_DYN')\n",
    "\n",
    "#     # Score\n",
    "#     Tools.evaluate(inputs, {'datum': Tools.PROBABILITY, 'label_encode': 'LabelEncode'}, ScoreVotingClassifier(low='max', high='dynamic'), 'S_MAX')\n",
    "    \n",
    "#     # SVC\n",
    "#     score_svc = Pipeline([('flat', FlattenTransform()), ('clf', SVC(probability=True))])\n",
    "#     score_params = {'clf__C': logspace(-2, 3, 6).tolist()}\n",
    "#     Tools.evaluate(inputs, {'datum': Tools.PROBABILITY, 'label_encode': 'LabelEncode'}, score_svc, 'High_SVC', distribution=score_params)\n",
    "\n",
    "#     # High Level    \n",
    "#     IO.save(inputs, f'HighFrequency_{size}_{overlap}.pickle')"
   ]
  },
  {
   "cell_type": "markdown",
   "metadata": {},
   "source": [
    "## Analysis"
   ]
  },
  {
   "cell_type": "code",
   "execution_count": null,
   "metadata": {},
   "outputs": [],
   "source": [
    "from IPython.display import HTML\n",
    "from IPython.display import display\n",
    "\n",
    "label_encoder = OrderedEncoder().fit(['Normal', 'Benign', 'Malignant'])\n",
    "models = ['D_ALO', 'D_DYN', 'S_MAX', 'High_SVC']\n",
    "\n",
    "for size, overlap in inputs_options:\n",
    "    inputs = IO.load(f'HighFrequency_{size}_{overlap}.pickle')\n",
    "    \n",
    "    for high_name in models:\n",
    "        name = f'{high_name}_{size}_{overlap}'\n",
    "        # Details and results\n",
    "        display(HTML(ViewsTools.dataframe_renderer([Views.report(inputs, {'label_encode': 'LabelEncode', 'eval': high_name}, label_encoder)],\n",
    "                                                                    title=[f'Test - {name}']))) "
   ]
  },
  {
   "cell_type": "code",
   "execution_count": null,
   "metadata": {},
   "outputs": [],
   "source": [
    "index = 10\n",
    "print(inputs[inputs.Type=='Full'].iloc[index]['Label'])\n",
    "PatchViews.display(inputs, Tools.PREDICTION, settings, label_encoder, index=index);\n",
    "PatchViews.display(inputs, Tools.PROBABILITY, settings, label_encoder, index=index);"
   ]
  }
 ],
 "metadata": {
  "kernelspec": {
   "display_name": "Python 3",
   "language": "python",
   "name": "python3"
  },
  "language_info": {
   "codemirror_mode": {
    "name": "ipython",
    "version": 3
   },
   "file_extension": ".py",
   "mimetype": "text/x-python",
   "name": "python",
   "nbconvert_exporter": "python",
   "pygments_lexer": "ipython3",
   "version": "3.7.6"
  },
  "pycharm": {
   "stem_cell": {
    "cell_type": "raw",
    "metadata": {
     "collapsed": false
    },
    "source": []
   }
  },
  "varInspector": {
   "cols": {
    "lenName": 16,
    "lenType": 16,
    "lenVar": 40
   },
   "kernels_config": {
    "python": {
     "delete_cmd_postfix": "",
     "delete_cmd_prefix": "del ",
     "library": "var_list.py",
     "varRefreshCmd": "print(var_dic_list())"
    },
    "r": {
     "delete_cmd_postfix": ") ",
     "delete_cmd_prefix": "rm(",
     "library": "var_list.r",
     "varRefreshCmd": "cat(var_dic_list()) "
    }
   },
   "types_to_exclude": [
    "module",
    "function",
    "builtin_function_or_method",
    "instance",
    "_Feature"
   ],
   "window_display": true
  }
 },
 "nbformat": 4,
 "nbformat_minor": 2
}
