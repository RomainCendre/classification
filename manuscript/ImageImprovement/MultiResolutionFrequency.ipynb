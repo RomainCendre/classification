{
 "cells": [
  {
   "cell_type": "markdown",
   "metadata": {},
   "source": [
    "# Sheet properties"
   ]
  },
  {
   "cell_type": "code",
   "execution_count": 1,
   "metadata": {
    "pycharm": {
     "name": "#%%\n"
    }
   },
   "outputs": [
    {
     "data": {
      "application/javascript": [
       "IPython.OutputArea.prototype._should_scroll = function(lines) {\n",
       "    return false;\n",
       "}\n"
      ],
      "text/plain": [
       "<IPython.core.display.Javascript object>"
      ]
     },
     "metadata": {},
     "output_type": "display_data"
    }
   ],
   "source": [
    "%%javascript\n",
    "IPython.OutputArea.prototype._should_scroll = function(lines) {\n",
    "    return false;\n",
    "}"
   ]
  },
  {
   "cell_type": "markdown",
   "metadata": {},
   "source": [
    "# Imports"
   ]
  },
  {
   "cell_type": "code",
   "execution_count": 2,
   "metadata": {
    "pycharm": {
     "name": "#%%\n"
    }
   },
   "outputs": [],
   "source": [
    "import sys\n",
    "sys.path.append('/home/rcendre/classification')\n",
    "from numpy import array\n",
    "from sklearn.preprocessing import LabelEncoder\n",
    "from toolbox.classification.common import Folds, IO, Tools\n",
    "from toolbox.classification.parameters import Dermatology, Settings\n",
    "from toolbox.transforms.labels import OrderedEncoder\n",
    "from toolbox.transforms.images import DWTGGDImageTransform, DWTImageTransform, FourierImageTransform\n",
    "from numpy import logspace\n",
    "from scipy.stats import randint,uniform\n",
    "from sklearn.ensemble import RandomForestClassifier\n",
    "from sklearn.pipeline import Pipeline\n",
    "from sklearn.preprocessing import MinMaxScaler, StandardScaler\n",
    "from sklearn.ensemble import GradientBoostingClassifier\n",
    "from sklearn.svm import SVC\n",
    "from sklearn.tree import DecisionTreeClassifier\n",
    "from sklearn.neural_network import MLPClassifier\n",
    "from toolbox.classification.parameters import Settings\n",
    "from toolbox.transforms.labels import OrderedEncoder\n",
    "from toolbox.views.common import Views, ViewsTools\n",
    "import warnings\n",
    "warnings.filterwarnings('ignore') "
   ]
  },
  {
   "cell_type": "markdown",
   "metadata": {},
   "source": [
    "# Parameters"
   ]
  },
  {
   "cell_type": "code",
   "execution_count": 3,
   "metadata": {
    "run_control": {
     "marked": false
    }
   },
   "outputs": [],
   "source": [
    "# Advanced parameters\n",
    "use_unknown = False \n",
    "validation = 4\n",
    "settings = Settings.get_default_dermatology()\n",
    "max_iter = -1\n",
    "prediction_file = 'Multiresolution_Prediction_Frequency.pickle'"
   ]
  },
  {
   "cell_type": "markdown",
   "metadata": {},
   "source": [
    "# Inputs"
   ]
  },
  {
   "cell_type": "code",
   "execution_count": 4,
   "metadata": {
    "run_control": {
     "marked": false
    }
   },
   "outputs": [],
   "source": [
    "inputs = Dermatology.images(modality='Microscopy', data_type='Full', use_unknown=use_unknown)"
   ]
  },
  {
   "cell_type": "code",
   "execution_count": 5,
   "metadata": {},
   "outputs": [],
   "source": [
    "# Transform groups\n",
    "group_encoder = LabelEncoder().fit(array(inputs['ID_Patient'].tolist()))\n",
    "Tools.transform(inputs, {'datum': 'ID_Patient'}, group_encoder, 'GroupEncode')\n",
    "# Transform labels\n",
    "label_encoder = OrderedEncoder().fit(['Normal', 'Benign', 'Malignant'])\n",
    "Tools.transform(inputs, {'datum': 'Label'}, label_encoder, 'LabelEncode')\n",
    "# Make folds\n",
    "Folds.build_group_folds(inputs, {'datum': 'Datum', 'label_encode': 'LabelEncode', 'group': 'GroupEncode'}, validation)"
   ]
  },
  {
   "cell_type": "markdown",
   "metadata": {},
   "source": [
    "# Features extraction"
   ]
  },
  {
   "cell_type": "code",
   "execution_count": 6,
   "metadata": {},
   "outputs": [],
   "source": [
    "features_file = f'Multiresolution_Frequency.pickle'"
   ]
  },
  {
   "cell_type": "code",
   "execution_count": 7,
   "metadata": {},
   "outputs": [],
   "source": [
    "extractors = []\n",
    "extractors.append(('DWTHaarSc5', DWTImageTransform(wavelets='haar', scale=5)))\n",
    "extractors.append(('WiltgenDWT', DWTImageTransform(wavelets='db4', scale=5)))\n",
    "extractors.append(('HalimiDWT', DWTGGDImageTransform(wavelets='db4', scale=4)))"
   ]
  },
  {
   "cell_type": "code",
   "execution_count": 8,
   "metadata": {
    "run_control": {
     "marked": false
    }
   },
   "outputs": [
    {
     "name": "stdout",
     "output_type": "stream",
     "text": [
      "HalimiDWT achieved !...\r"
     ]
    }
   ],
   "source": [
    "for extractor in extractors: \n",
    "    # Decompose model\n",
    "    extractor_name, extractor_process = extractor\n",
    "    \n",
    "    # Start extracting\n",
    "    print(f'{extractor_name} performed...', end='\\r')\n",
    "    Tools.transform(inputs, {'datum': 'Datum'}, extractor_process, extractor_name)\n",
    "    print(f'{extractor_name} achieved !', end='\\r')\n",
    "    \n",
    "    # Save\n",
    "    IO.save(inputs, features_file)"
   ]
  },
  {
   "cell_type": "markdown",
   "metadata": {},
   "source": [
    "# Classifier"
   ]
  },
  {
   "cell_type": "code",
   "execution_count": 9,
   "metadata": {},
   "outputs": [],
   "source": [
    "clfs = []\n",
    "\n",
    "# SVM Linear\n",
    "clf = ('clf', SVC(kernel='linear', class_weight='balanced', max_iter=max_iter, probability=True))\n",
    "clf_params = {'clf__C': logspace(-2, 3, 6).tolist()}\n",
    "clfs.append(('SVML', clf, clf_params))"
   ]
  },
  {
   "cell_type": "markdown",
   "metadata": {},
   "source": [
    "# Model"
   ]
  },
  {
   "cell_type": "code",
   "execution_count": 10,
   "metadata": {},
   "outputs": [],
   "source": [
    "scalers = [('MMS',('scale', MinMaxScaler()))]#, ('SS',('scale', StandardScaler()))]\n",
    "\n",
    "processes = []\n",
    "for scaler_name,scaler in scalers:\n",
    "\n",
    "    for clf_name, clf, clf_params in clfs:\n",
    "        \n",
    "        if scaler is None:\n",
    "            process = Pipeline([clf])\n",
    "        else:\n",
    "            process = Pipeline([scaler, clf])\n",
    "                \n",
    "        processes.append((f'{scaler_name}_{clf_name}', process, clf_params))"
   ]
  },
  {
   "cell_type": "markdown",
   "metadata": {},
   "source": [
    "# Evaluation"
   ]
  },
  {
   "cell_type": "code",
   "execution_count": 11,
   "metadata": {},
   "outputs": [
    {
     "name": "stdout",
     "output_type": "stream",
     "text": [
      "HalimiDWTMMS_SVMLLabel achieved !...\r"
     ]
    }
   ],
   "source": [
    "for extractor in extractors: \n",
    "    # Decompose model\n",
    "    extractor_name, extractor_process = extractor\n",
    "    \n",
    "    for process in processes:   \n",
    "        # Decompose model       \n",
    "        process_name, process_process, process_params = process\n",
    "        \n",
    "        # Start evaluation\n",
    "        name = f'{extractor_name}{process_name}Label'        \n",
    "        print(f'{name} performed...', end='\\r')\n",
    "        Tools.evaluate(inputs, {'datum': extractor_name, 'label_encode': 'LabelEncode'}, process_process, name, distribution=process_params)\n",
    "        print(f'{name} achieved !', end='\\r')  \n",
    "        \n",
    "        # Save\n",
    "        IO.save(inputs, prediction_file)"
   ]
  },
  {
   "cell_type": "markdown",
   "metadata": {},
   "source": [
    "# Scores"
   ]
  },
  {
   "cell_type": "code",
   "execution_count": 12,
   "metadata": {},
   "outputs": [
    {
     "data": {
      "text/html": [
       "\n",
       "<style  type=\"text/css\" >\n",
       "\n",
       "\n",
       "\n",
       "\n",
       "</style>\n",
       "<h1>Test - DWTHaarSc5MMS_SVMLLabel</h1>\n",
       "\n",
       "<table id=\"T_cacdb3d2_c200_11ea_a293_cdb5dcbf7f8f\" >\n",
       "<thead>\n",
       "    <tr>\n",
       "        <th class=\"blank level0\" ></th>\n",
       "        <th class=\"col_heading level0 col0\" >precision</th>\n",
       "        <th class=\"col_heading level0 col1\" >recall</th>\n",
       "        <th class=\"col_heading level0 col2\" >f1-score</th>\n",
       "        <th class=\"col_heading level0 col3\" >support</th>\n",
       "    </tr>\n",
       "</thead>\n",
       "<tbody>\n",
       "    \n",
       "    \n",
       "    \n",
       "    <tr>\n",
       "        \n",
       "        \n",
       "        <th id=\"T_cacdb3d2_c200_11ea_a293_cdb5dcbf7f8flevel0_row0\" class=\"row_heading level0 row0\" >Normal</th>\n",
       "        \n",
       "        \n",
       "        <td id=\"T_cacdb3d2_c200_11ea_a293_cdb5dcbf7f8frow0_col0\" class=\"data row0 col0\" >0.41±0.18</td>\n",
       "        \n",
       "        \n",
       "        <td id=\"T_cacdb3d2_c200_11ea_a293_cdb5dcbf7f8frow0_col1\" class=\"data row0 col1\" >0.44±0.11</td>\n",
       "        \n",
       "        \n",
       "        <td id=\"T_cacdb3d2_c200_11ea_a293_cdb5dcbf7f8frow0_col2\" class=\"data row0 col2\" >0.42±0.14</td>\n",
       "        \n",
       "        \n",
       "        <td id=\"T_cacdb3d2_c200_11ea_a293_cdb5dcbf7f8frow0_col3\" class=\"data row0 col3\" >757.00±115.20</td>\n",
       "        \n",
       "    </tr>\n",
       "    \n",
       "    \n",
       "    <tr>\n",
       "        \n",
       "        \n",
       "        <th id=\"T_cacdb3d2_c200_11ea_a293_cdb5dcbf7f8flevel0_row1\" class=\"row_heading level0 row1\" >Benign</th>\n",
       "        \n",
       "        \n",
       "        <td id=\"T_cacdb3d2_c200_11ea_a293_cdb5dcbf7f8frow1_col0\" class=\"data row1 col0\" >0.65±0.13</td>\n",
       "        \n",
       "        \n",
       "        <td id=\"T_cacdb3d2_c200_11ea_a293_cdb5dcbf7f8frow1_col1\" class=\"data row1 col1\" >0.71±0.05</td>\n",
       "        \n",
       "        \n",
       "        <td id=\"T_cacdb3d2_c200_11ea_a293_cdb5dcbf7f8frow1_col2\" class=\"data row1 col2\" >0.68±0.08</td>\n",
       "        \n",
       "        \n",
       "        <td id=\"T_cacdb3d2_c200_11ea_a293_cdb5dcbf7f8frow1_col3\" class=\"data row1 col3\" >2204.00±115.21</td>\n",
       "        \n",
       "    </tr>\n",
       "    \n",
       "    \n",
       "    <tr>\n",
       "        \n",
       "        \n",
       "        <th id=\"T_cacdb3d2_c200_11ea_a293_cdb5dcbf7f8flevel0_row2\" class=\"row_heading level0 row2\" >Malignant</th>\n",
       "        \n",
       "        \n",
       "        <td id=\"T_cacdb3d2_c200_11ea_a293_cdb5dcbf7f8frow2_col0\" class=\"data row2 col0\" >0.74±0.05</td>\n",
       "        \n",
       "        \n",
       "        <td id=\"T_cacdb3d2_c200_11ea_a293_cdb5dcbf7f8frow2_col1\" class=\"data row2 col1\" >0.66±0.09</td>\n",
       "        \n",
       "        \n",
       "        <td id=\"T_cacdb3d2_c200_11ea_a293_cdb5dcbf7f8frow2_col2\" class=\"data row2 col2\" >0.70±0.06</td>\n",
       "        \n",
       "        \n",
       "        <td id=\"T_cacdb3d2_c200_11ea_a293_cdb5dcbf7f8frow2_col3\" class=\"data row2 col3\" >2470.00±125.50</td>\n",
       "        \n",
       "    </tr>\n",
       "    \n",
       "    \n",
       "    <tr>\n",
       "        \n",
       "        \n",
       "        <th id=\"T_cacdb3d2_c200_11ea_a293_cdb5dcbf7f8flevel0_row3\" class=\"row_heading level0 row3\" >accuracy</th>\n",
       "        \n",
       "        \n",
       "        <td id=\"T_cacdb3d2_c200_11ea_a293_cdb5dcbf7f8frow3_col0\" class=\"data row3 col0\" >0.65±0.07</td>\n",
       "        \n",
       "        \n",
       "        <td id=\"T_cacdb3d2_c200_11ea_a293_cdb5dcbf7f8frow3_col1\" class=\"data row3 col1\" >0.65±0.07</td>\n",
       "        \n",
       "        \n",
       "        <td id=\"T_cacdb3d2_c200_11ea_a293_cdb5dcbf7f8frow3_col2\" class=\"data row3 col2\" >0.65±0.07</td>\n",
       "        \n",
       "        \n",
       "        <td id=\"T_cacdb3d2_c200_11ea_a293_cdb5dcbf7f8frow3_col3\" class=\"data row3 col3\" >0.65±0.07</td>\n",
       "        \n",
       "    </tr>\n",
       "    \n",
       "    \n",
       "    <tr>\n",
       "        \n",
       "        \n",
       "        <th id=\"T_cacdb3d2_c200_11ea_a293_cdb5dcbf7f8flevel0_row4\" class=\"row_heading level0 row4\" >macro avg</th>\n",
       "        \n",
       "        \n",
       "        <td id=\"T_cacdb3d2_c200_11ea_a293_cdb5dcbf7f8frow4_col0\" class=\"data row4 col0\" >0.60±0.03</td>\n",
       "        \n",
       "        \n",
       "        <td id=\"T_cacdb3d2_c200_11ea_a293_cdb5dcbf7f8frow4_col1\" class=\"data row4 col1\" >0.60±0.06</td>\n",
       "        \n",
       "        \n",
       "        <td id=\"T_cacdb3d2_c200_11ea_a293_cdb5dcbf7f8frow4_col2\" class=\"data row4 col2\" >0.60±0.04</td>\n",
       "        \n",
       "        \n",
       "        <td id=\"T_cacdb3d2_c200_11ea_a293_cdb5dcbf7f8frow4_col3\" class=\"data row4 col3\" >5431.00±0.43</td>\n",
       "        \n",
       "    </tr>\n",
       "    \n",
       "    \n",
       "    <tr>\n",
       "        \n",
       "        \n",
       "        <th id=\"T_cacdb3d2_c200_11ea_a293_cdb5dcbf7f8flevel0_row5\" class=\"row_heading level0 row5\" >weighted avg</th>\n",
       "        \n",
       "        \n",
       "        <td id=\"T_cacdb3d2_c200_11ea_a293_cdb5dcbf7f8frow5_col0\" class=\"data row5 col0\" >0.66±0.08</td>\n",
       "        \n",
       "        \n",
       "        <td id=\"T_cacdb3d2_c200_11ea_a293_cdb5dcbf7f8frow5_col1\" class=\"data row5 col1\" >0.65±0.07</td>\n",
       "        \n",
       "        \n",
       "        <td id=\"T_cacdb3d2_c200_11ea_a293_cdb5dcbf7f8frow5_col2\" class=\"data row5 col2\" >0.65±0.08</td>\n",
       "        \n",
       "        \n",
       "        <td id=\"T_cacdb3d2_c200_11ea_a293_cdb5dcbf7f8frow5_col3\" class=\"data row5 col3\" >5431.00±0.43</td>\n",
       "        \n",
       "    </tr>\n",
       "    \n",
       "</tbody>\n",
       "</table>\n",
       "<br/>"
      ],
      "text/plain": [
       "<IPython.core.display.HTML object>"
      ]
     },
     "metadata": {},
     "output_type": "display_data"
    },
    {
     "data": {
      "text/html": [
       "\n",
       "<style  type=\"text/css\" >\n",
       "\n",
       "\n",
       "\n",
       "\n",
       "</style>\n",
       "<h1>Test - WiltgenDWTMMS_SVMLLabel</h1>\n",
       "\n",
       "<table id=\"T_cad7e6ea_c200_11ea_a293_cdb5dcbf7f8f\" >\n",
       "<thead>\n",
       "    <tr>\n",
       "        <th class=\"blank level0\" ></th>\n",
       "        <th class=\"col_heading level0 col0\" >precision</th>\n",
       "        <th class=\"col_heading level0 col1\" >recall</th>\n",
       "        <th class=\"col_heading level0 col2\" >f1-score</th>\n",
       "        <th class=\"col_heading level0 col3\" >support</th>\n",
       "    </tr>\n",
       "</thead>\n",
       "<tbody>\n",
       "    \n",
       "    \n",
       "    \n",
       "    <tr>\n",
       "        \n",
       "        \n",
       "        <th id=\"T_cad7e6ea_c200_11ea_a293_cdb5dcbf7f8flevel0_row0\" class=\"row_heading level0 row0\" >Normal</th>\n",
       "        \n",
       "        \n",
       "        <td id=\"T_cad7e6ea_c200_11ea_a293_cdb5dcbf7f8frow0_col0\" class=\"data row0 col0\" >0.45±0.17</td>\n",
       "        \n",
       "        \n",
       "        <td id=\"T_cad7e6ea_c200_11ea_a293_cdb5dcbf7f8frow0_col1\" class=\"data row0 col1\" >0.38±0.09</td>\n",
       "        \n",
       "        \n",
       "        <td id=\"T_cad7e6ea_c200_11ea_a293_cdb5dcbf7f8frow0_col2\" class=\"data row0 col2\" >0.41±0.08</td>\n",
       "        \n",
       "        \n",
       "        <td id=\"T_cad7e6ea_c200_11ea_a293_cdb5dcbf7f8frow0_col3\" class=\"data row0 col3\" >757.00±115.20</td>\n",
       "        \n",
       "    </tr>\n",
       "    \n",
       "    \n",
       "    <tr>\n",
       "        \n",
       "        \n",
       "        <th id=\"T_cad7e6ea_c200_11ea_a293_cdb5dcbf7f8flevel0_row1\" class=\"row_heading level0 row1\" >Benign</th>\n",
       "        \n",
       "        \n",
       "        <td id=\"T_cad7e6ea_c200_11ea_a293_cdb5dcbf7f8frow1_col0\" class=\"data row1 col0\" >0.63±0.11</td>\n",
       "        \n",
       "        \n",
       "        <td id=\"T_cad7e6ea_c200_11ea_a293_cdb5dcbf7f8frow1_col1\" class=\"data row1 col1\" >0.73±0.06</td>\n",
       "        \n",
       "        \n",
       "        <td id=\"T_cad7e6ea_c200_11ea_a293_cdb5dcbf7f8frow1_col2\" class=\"data row1 col2\" >0.68±0.07</td>\n",
       "        \n",
       "        \n",
       "        <td id=\"T_cad7e6ea_c200_11ea_a293_cdb5dcbf7f8frow1_col3\" class=\"data row1 col3\" >2204.00±115.21</td>\n",
       "        \n",
       "    </tr>\n",
       "    \n",
       "    \n",
       "    <tr>\n",
       "        \n",
       "        \n",
       "        <th id=\"T_cad7e6ea_c200_11ea_a293_cdb5dcbf7f8flevel0_row2\" class=\"row_heading level0 row2\" >Malignant</th>\n",
       "        \n",
       "        \n",
       "        <td id=\"T_cad7e6ea_c200_11ea_a293_cdb5dcbf7f8frow2_col0\" class=\"data row2 col0\" >0.75±0.03</td>\n",
       "        \n",
       "        \n",
       "        <td id=\"T_cad7e6ea_c200_11ea_a293_cdb5dcbf7f8frow2_col1\" class=\"data row2 col1\" >0.68±0.09</td>\n",
       "        \n",
       "        \n",
       "        <td id=\"T_cad7e6ea_c200_11ea_a293_cdb5dcbf7f8frow2_col2\" class=\"data row2 col2\" >0.71±0.06</td>\n",
       "        \n",
       "        \n",
       "        <td id=\"T_cad7e6ea_c200_11ea_a293_cdb5dcbf7f8frow2_col3\" class=\"data row2 col3\" >2470.00±125.50</td>\n",
       "        \n",
       "    </tr>\n",
       "    \n",
       "    \n",
       "    <tr>\n",
       "        \n",
       "        \n",
       "        <th id=\"T_cad7e6ea_c200_11ea_a293_cdb5dcbf7f8flevel0_row3\" class=\"row_heading level0 row3\" >accuracy</th>\n",
       "        \n",
       "        \n",
       "        <td id=\"T_cad7e6ea_c200_11ea_a293_cdb5dcbf7f8frow3_col0\" class=\"data row3 col0\" >0.66±0.05</td>\n",
       "        \n",
       "        \n",
       "        <td id=\"T_cad7e6ea_c200_11ea_a293_cdb5dcbf7f8frow3_col1\" class=\"data row3 col1\" >0.66±0.05</td>\n",
       "        \n",
       "        \n",
       "        <td id=\"T_cad7e6ea_c200_11ea_a293_cdb5dcbf7f8frow3_col2\" class=\"data row3 col2\" >0.66±0.05</td>\n",
       "        \n",
       "        \n",
       "        <td id=\"T_cad7e6ea_c200_11ea_a293_cdb5dcbf7f8frow3_col3\" class=\"data row3 col3\" >0.66±0.05</td>\n",
       "        \n",
       "    </tr>\n",
       "    \n",
       "    \n",
       "    <tr>\n",
       "        \n",
       "        \n",
       "        <th id=\"T_cad7e6ea_c200_11ea_a293_cdb5dcbf7f8flevel0_row4\" class=\"row_heading level0 row4\" >macro avg</th>\n",
       "        \n",
       "        \n",
       "        <td id=\"T_cad7e6ea_c200_11ea_a293_cdb5dcbf7f8frow4_col0\" class=\"data row4 col0\" >0.61±0.02</td>\n",
       "        \n",
       "        \n",
       "        <td id=\"T_cad7e6ea_c200_11ea_a293_cdb5dcbf7f8frow4_col1\" class=\"data row4 col1\" >0.60±0.04</td>\n",
       "        \n",
       "        \n",
       "        <td id=\"T_cad7e6ea_c200_11ea_a293_cdb5dcbf7f8frow4_col2\" class=\"data row4 col2\" >0.60±0.01</td>\n",
       "        \n",
       "        \n",
       "        <td id=\"T_cad7e6ea_c200_11ea_a293_cdb5dcbf7f8frow4_col3\" class=\"data row4 col3\" >5431.00±0.43</td>\n",
       "        \n",
       "    </tr>\n",
       "    \n",
       "    \n",
       "    <tr>\n",
       "        \n",
       "        \n",
       "        <th id=\"T_cad7e6ea_c200_11ea_a293_cdb5dcbf7f8flevel0_row5\" class=\"row_heading level0 row5\" >weighted avg</th>\n",
       "        \n",
       "        \n",
       "        <td id=\"T_cad7e6ea_c200_11ea_a293_cdb5dcbf7f8frow5_col0\" class=\"data row5 col0\" >0.66±0.06</td>\n",
       "        \n",
       "        \n",
       "        <td id=\"T_cad7e6ea_c200_11ea_a293_cdb5dcbf7f8frow5_col1\" class=\"data row5 col1\" >0.66±0.05</td>\n",
       "        \n",
       "        \n",
       "        <td id=\"T_cad7e6ea_c200_11ea_a293_cdb5dcbf7f8frow5_col2\" class=\"data row5 col2\" >0.66±0.06</td>\n",
       "        \n",
       "        \n",
       "        <td id=\"T_cad7e6ea_c200_11ea_a293_cdb5dcbf7f8frow5_col3\" class=\"data row5 col3\" >5431.00±0.43</td>\n",
       "        \n",
       "    </tr>\n",
       "    \n",
       "</tbody>\n",
       "</table>\n",
       "<br/>"
      ],
      "text/plain": [
       "<IPython.core.display.HTML object>"
      ]
     },
     "metadata": {},
     "output_type": "display_data"
    },
    {
     "data": {
      "text/html": [
       "\n",
       "<style  type=\"text/css\" >\n",
       "\n",
       "\n",
       "\n",
       "\n",
       "</style>\n",
       "<h1>Test - HalimiDWTMMS_SVMLLabel</h1>\n",
       "\n",
       "<table id=\"T_cade91fc_c200_11ea_a293_cdb5dcbf7f8f\" >\n",
       "<thead>\n",
       "    <tr>\n",
       "        <th class=\"blank level0\" ></th>\n",
       "        <th class=\"col_heading level0 col0\" >precision</th>\n",
       "        <th class=\"col_heading level0 col1\" >recall</th>\n",
       "        <th class=\"col_heading level0 col2\" >f1-score</th>\n",
       "        <th class=\"col_heading level0 col3\" >support</th>\n",
       "    </tr>\n",
       "</thead>\n",
       "<tbody>\n",
       "    \n",
       "    \n",
       "    \n",
       "    <tr>\n",
       "        \n",
       "        \n",
       "        <th id=\"T_cade91fc_c200_11ea_a293_cdb5dcbf7f8flevel0_row0\" class=\"row_heading level0 row0\" >Normal</th>\n",
       "        \n",
       "        \n",
       "        <td id=\"T_cade91fc_c200_11ea_a293_cdb5dcbf7f8frow0_col0\" class=\"data row0 col0\" >0.16±0.10</td>\n",
       "        \n",
       "        \n",
       "        <td id=\"T_cade91fc_c200_11ea_a293_cdb5dcbf7f8frow0_col1\" class=\"data row0 col1\" >0.51±0.02</td>\n",
       "        \n",
       "        \n",
       "        <td id=\"T_cade91fc_c200_11ea_a293_cdb5dcbf7f8frow0_col2\" class=\"data row0 col2\" >0.25±0.12</td>\n",
       "        \n",
       "        \n",
       "        <td id=\"T_cade91fc_c200_11ea_a293_cdb5dcbf7f8frow0_col3\" class=\"data row0 col3\" >757.00±115.20</td>\n",
       "        \n",
       "    </tr>\n",
       "    \n",
       "    \n",
       "    <tr>\n",
       "        \n",
       "        \n",
       "        <th id=\"T_cade91fc_c200_11ea_a293_cdb5dcbf7f8flevel0_row1\" class=\"row_heading level0 row1\" >Benign</th>\n",
       "        \n",
       "        \n",
       "        <td id=\"T_cade91fc_c200_11ea_a293_cdb5dcbf7f8frow1_col0\" class=\"data row1 col0\" >0.44±0.10</td>\n",
       "        \n",
       "        \n",
       "        <td id=\"T_cade91fc_c200_11ea_a293_cdb5dcbf7f8frow1_col1\" class=\"data row1 col1\" >0.34±0.06</td>\n",
       "        \n",
       "        \n",
       "        <td id=\"T_cade91fc_c200_11ea_a293_cdb5dcbf7f8frow1_col2\" class=\"data row1 col2\" >0.38±0.06</td>\n",
       "        \n",
       "        \n",
       "        <td id=\"T_cade91fc_c200_11ea_a293_cdb5dcbf7f8frow1_col3\" class=\"data row1 col3\" >2204.00±115.21</td>\n",
       "        \n",
       "    </tr>\n",
       "    \n",
       "    \n",
       "    <tr>\n",
       "        \n",
       "        \n",
       "        <th id=\"T_cade91fc_c200_11ea_a293_cdb5dcbf7f8flevel0_row2\" class=\"row_heading level0 row2\" >Malignant</th>\n",
       "        \n",
       "        \n",
       "        <td id=\"T_cade91fc_c200_11ea_a293_cdb5dcbf7f8frow2_col0\" class=\"data row2 col0\" >0.57±0.08</td>\n",
       "        \n",
       "        \n",
       "        <td id=\"T_cade91fc_c200_11ea_a293_cdb5dcbf7f8frow2_col1\" class=\"data row2 col1\" >0.32±0.03</td>\n",
       "        \n",
       "        \n",
       "        <td id=\"T_cade91fc_c200_11ea_a293_cdb5dcbf7f8frow2_col2\" class=\"data row2 col2\" >0.41±0.04</td>\n",
       "        \n",
       "        \n",
       "        <td id=\"T_cade91fc_c200_11ea_a293_cdb5dcbf7f8frow2_col3\" class=\"data row2 col3\" >2470.00±125.50</td>\n",
       "        \n",
       "    </tr>\n",
       "    \n",
       "    \n",
       "    <tr>\n",
       "        \n",
       "        \n",
       "        <th id=\"T_cade91fc_c200_11ea_a293_cdb5dcbf7f8flevel0_row3\" class=\"row_heading level0 row3\" >accuracy</th>\n",
       "        \n",
       "        \n",
       "        <td id=\"T_cade91fc_c200_11ea_a293_cdb5dcbf7f8frow3_col0\" class=\"data row3 col0\" >0.35±0.03</td>\n",
       "        \n",
       "        \n",
       "        <td id=\"T_cade91fc_c200_11ea_a293_cdb5dcbf7f8frow3_col1\" class=\"data row3 col1\" >0.35±0.03</td>\n",
       "        \n",
       "        \n",
       "        <td id=\"T_cade91fc_c200_11ea_a293_cdb5dcbf7f8frow3_col2\" class=\"data row3 col2\" >0.35±0.03</td>\n",
       "        \n",
       "        \n",
       "        <td id=\"T_cade91fc_c200_11ea_a293_cdb5dcbf7f8frow3_col3\" class=\"data row3 col3\" >0.35±0.03</td>\n",
       "        \n",
       "    </tr>\n",
       "    \n",
       "    \n",
       "    <tr>\n",
       "        \n",
       "        \n",
       "        <th id=\"T_cade91fc_c200_11ea_a293_cdb5dcbf7f8flevel0_row4\" class=\"row_heading level0 row4\" >macro avg</th>\n",
       "        \n",
       "        \n",
       "        <td id=\"T_cade91fc_c200_11ea_a293_cdb5dcbf7f8frow4_col0\" class=\"data row4 col0\" >0.39±0.02</td>\n",
       "        \n",
       "        \n",
       "        <td id=\"T_cade91fc_c200_11ea_a293_cdb5dcbf7f8frow4_col1\" class=\"data row4 col1\" >0.39±0.02</td>\n",
       "        \n",
       "        \n",
       "        <td id=\"T_cade91fc_c200_11ea_a293_cdb5dcbf7f8frow4_col2\" class=\"data row4 col2\" >0.35±0.03</td>\n",
       "        \n",
       "        \n",
       "        <td id=\"T_cade91fc_c200_11ea_a293_cdb5dcbf7f8frow4_col3\" class=\"data row4 col3\" >5431.00±0.43</td>\n",
       "        \n",
       "    </tr>\n",
       "    \n",
       "    \n",
       "    <tr>\n",
       "        \n",
       "        \n",
       "        <th id=\"T_cade91fc_c200_11ea_a293_cdb5dcbf7f8flevel0_row5\" class=\"row_heading level0 row5\" >weighted avg</th>\n",
       "        \n",
       "        \n",
       "        <td id=\"T_cade91fc_c200_11ea_a293_cdb5dcbf7f8frow5_col0\" class=\"data row5 col0\" >0.46±0.05</td>\n",
       "        \n",
       "        \n",
       "        <td id=\"T_cade91fc_c200_11ea_a293_cdb5dcbf7f8frow5_col1\" class=\"data row5 col1\" >0.35±0.03</td>\n",
       "        \n",
       "        \n",
       "        <td id=\"T_cade91fc_c200_11ea_a293_cdb5dcbf7f8frow5_col2\" class=\"data row5 col2\" >0.38±0.02</td>\n",
       "        \n",
       "        \n",
       "        <td id=\"T_cade91fc_c200_11ea_a293_cdb5dcbf7f8frow5_col3\" class=\"data row5 col3\" >5431.00±0.43</td>\n",
       "        \n",
       "    </tr>\n",
       "    \n",
       "</tbody>\n",
       "</table>\n",
       "<br/>"
      ],
      "text/plain": [
       "<IPython.core.display.HTML object>"
      ]
     },
     "metadata": {},
     "output_type": "display_data"
    }
   ],
   "source": [
    "from IPython.display import HTML\n",
    "from IPython.display import display\n",
    "\n",
    "inputs = IO.load(prediction_file)\n",
    "\n",
    "# Transform labels\n",
    "label_encoder = OrderedEncoder().fit(['Normal', 'Benign', 'Malignant'])\n",
    "\n",
    "# ROC Curve\n",
    "ViewsTools.plot_size((8,8))\n",
    "for extractor in extractors: \n",
    "    extractor_name, extractor_process = extractor\n",
    "    \n",
    "    for model in processes:  \n",
    "        # Decompose model\n",
    "        model_name, model_process, model_params = model        \n",
    "        \n",
    "        # Label\n",
    "        name = f'{extractor_name}{model_name}Label' \n",
    "        display(HTML(ViewsTools.dataframe_renderer([Views.report(inputs, {'label_encode': 'LabelEncode', 'eval': name}, label_encoder)],\n",
    "                                                                        title=[f'Test - {name}'])))"
   ]
  }
 ],
 "metadata": {
  "kernelspec": {
   "display_name": "Python 3",
   "language": "python",
   "name": "python3"
  },
  "language_info": {
   "codemirror_mode": {
    "name": "ipython",
    "version": 3
   },
   "file_extension": ".py",
   "mimetype": "text/x-python",
   "name": "python",
   "nbconvert_exporter": "python",
   "pygments_lexer": "ipython3",
   "version": "3.7.6"
  },
  "pycharm": {
   "stem_cell": {
    "cell_type": "raw",
    "metadata": {
     "collapsed": false
    },
    "source": []
   }
  },
  "varInspector": {
   "cols": {
    "lenName": 16,
    "lenType": 16,
    "lenVar": 40
   },
   "kernels_config": {
    "python": {
     "delete_cmd_postfix": "",
     "delete_cmd_prefix": "del ",
     "library": "var_list.py",
     "varRefreshCmd": "print(var_dic_list())"
    },
    "r": {
     "delete_cmd_postfix": ") ",
     "delete_cmd_prefix": "rm(",
     "library": "var_list.r",
     "varRefreshCmd": "cat(var_dic_list()) "
    }
   },
   "position": {
    "height": "501.398px",
    "left": "1406px",
    "right": "20px",
    "top": "134px",
    "width": "350px"
   },
   "types_to_exclude": [
    "module",
    "function",
    "builtin_function_or_method",
    "instance",
    "_Feature"
   ],
   "window_display": false
  }
 },
 "nbformat": 4,
 "nbformat_minor": 2
}
