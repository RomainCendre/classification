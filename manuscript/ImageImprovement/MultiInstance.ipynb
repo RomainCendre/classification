{
 "cells": [
  {
   "cell_type": "markdown",
   "metadata": {},
   "source": [
    "# Sheet properties"
   ]
  },
  {
   "cell_type": "code",
   "execution_count": null,
   "outputs": [],
   "source": [
    "%%javascript\n",
    "IPython.OutputArea.prototype._should_scroll = function(lines) {\n",
    "    return false;\n",
    "}\n"
   ],
   "metadata": {
    "collapsed": false,
    "pycharm": {
     "name": "#%%\n"
    }
   }
  },
  {
   "cell_type": "code",
   "execution_count": 13,
   "metadata": {},
   "outputs": [],
   "source": [
    "%matplotlib inline\n",
    "# produce vector inline graphics\n",
    "from IPython.display import set_matplotlib_formats\n",
    "set_matplotlib_formats('pdf', 'svg')\n",
    "import matplotlib.pyplot as plt"
   ]
  },
  {
   "cell_type": "markdown",
   "metadata": {},
   "source": [
    "# Start with local"
   ]
  },
  {
   "cell_type": "code",
   "execution_count": 14,
   "metadata": {},
   "outputs": [],
   "source": [
    "import sys\n",
    "from IPython.display import HTML\n",
    "sys.path.append('/home/rcendre/classification')"
   ]
  },
  {
   "cell_type": "markdown",
   "metadata": {},
   "source": [
    "# Imports"
   ]
  },
  {
   "cell_type": "code",
   "execution_count": 18,
   "metadata": {},
   "outputs": [],
   "source": [
    "import webbrowser\n",
    "import pandas\n",
    "from pathlib import Path\n",
    "from IPython.display import display\n",
    "from numpy import array, logspace\n",
    "from scipy.stats import randint as randint\n",
    "from sklearn.ensemble import ExtraTreesClassifier\n",
    "from sklearn.pipeline import Pipeline\n",
    "from sklearn.preprocessing import LabelEncoder, StandardScaler\n",
    "from sklearn.svm import SVC\n",
    "from toolbox.classification.common import Data, Folds, IO, Tools\n",
    "from toolbox.classification.parameters import Dermatology, Settings\n",
    "from toolbox.IO import dermatology\n",
    "from toolbox.transforms.common import PredictorTransform, FlattenTransform\n",
    "from toolbox.transforms.labels import OrderedEncoder\n",
    "from toolbox.views.common import Views, ViewsTools\n",
    "from toolbox.views.images import ImagesViews, PatchViews\n",
    "from toolbox.models.models import DecisionVotingClassifier, ScoreVotingClassifier\n",
    "from toolbox.transforms.images import SpatialImageTransform\n",
    "import warnings\n",
    "warnings.filterwarnings('ignore') "
   ]
  },
  {
   "cell_type": "markdown",
   "metadata": {},
   "source": [
    "# Parameters"
   ]
  },
  {
   "cell_type": "code",
   "execution_count": 16,
   "metadata": {},
   "outputs": [],
   "source": [
    "# Advanced parameters\n",
    "use_unknown = False \n",
    "validation = 4\n",
    "settings = Settings.get_default_dermatology()\n",
    "label_encoder = OrderedEncoder().fit(['Normal', 'Benign', 'Malignant'])"
   ]
  },
  {
   "cell_type": "markdown",
   "metadata": {},
   "source": [
    "# Low level classifier"
   ]
  },
  {
   "cell_type": "code",
   "execution_count": 19,
   "metadata": {},
   "outputs": [],
   "source": [
    "patch = Dermatology.images(modality='Microscopy', data_type='Patch', use_unknown=use_unknown)\n",
    "label_encoder = OrderedEncoder().fit(['Normal', 'Benign', 'Malignant'])\n",
    "Tools.transform(patch, {'datum': 'Label'}, label_encoder, 'LabelEncode')\n",
    "Tools.transform(patch, {'datum': 'Datum'}, SpatialImageTransform(), 'Wiltgen')"
   ]
  },
  {
   "cell_type": "code",
   "execution_count": 21,
   "metadata": {},
   "outputs": [],
   "source": [
    "low_predictor = Pipeline([('scale', StandardScaler()),('clf', SVC(kernel='linear', class_weight='balanced', max_iter=300, probability=True))])\n",
    "low_params = {'clf__C': logspace(-2, 3, 6).tolist()}"
   ]
  },
  {
   "cell_type": "code",
   "execution_count": 25,
   "metadata": {},
   "outputs": [],
   "source": [
    "low_predictor = Tools.fit(patch, {'datum': 'Wiltgen', 'label_encode': 'LabelEncode'}, low_predictor, distribution=low_params)"
   ]
  },
  {
   "cell_type": "markdown",
   "metadata": {},
   "source": [
    "# Inputs"
   ]
  },
  {
   "cell_type": "code",
   "execution_count": 27,
   "metadata": {
    "run_control": {
     "marked": false
    }
   },
   "outputs": [
    {
     "name": "stdout",
     "output_type": "stream",
     "text": [
      "Progress: |███████████████████████████████████████████████████████████████████████████████████████████████████-| 100.0 \r"
     ]
    }
   ],
   "source": [
    "inputs_options = []\n",
    "inputs_options.append((250,0))\n",
    "inputs_options.append((250,25))\n",
    "inputs_options.append((250,50))\n",
    "inputs_options.append((500,0))\n",
    "inputs_options.append((500,25))\n",
    "inputs_options.append((500,50))"
   ]
  },
  {
   "cell_type": "code",
   "execution_count": null,
   "metadata": {},
   "outputs": [],
   "source": [
    "for size, overlap in inputs_options:\n",
    "    inputs = Dermatology.sliding_images(size=size, overlap=overlap/100, modality='Microscopy'))\n",
    "    Tools.transform(inputs, {'datum': 'Datum'}, SpatialImageTransform(), 'Wiltgen')\n",
    "    # Transform groups\n",
    "    group_encoder = LabelEncoder().fit(array(inputs['ID_Patient'].tolist()))\n",
    "    Tools.transform(inputs, {'datum': 'ID_Patient'}, group_encoder, 'GroupEncode')\n",
    "    # Transform labels\n",
    "    label_encoder = OrderedEncoder().fit(['Normal', 'Benign', 'Malignant'])\n",
    "    Tools.transform(inputs, {'datum': 'Label'}, label_encoder, 'LabelEncode')\n",
    "    # Make folds\n",
    "    Folds.build_group_folds(inputs, {'datum': 'Datum', 'label_encode': 'LabelEncode', 'group': 'GroupEncode'}, validation)\n",
    "    IO.save(inputs, f'SExtraction_{size}_{overlap}')"
   ]
  },
  {
   "cell_type": "markdown",
   "metadata": {},
   "source": [
    "# Low level predictions"
   ]
  },
  {
   "cell_type": "code",
   "execution_count": null,
   "metadata": {},
   "outputs": [],
   "source": [
    "for size, overlap in inputs_options:\n",
    "    inputs = IO.load(inputs, f'SExtraction_{size}_{overlap}')\n",
    "    \n",
    "    # Add scaling\n",
    "    Tools.predict(inputs, {'datum': 'Wiltgen', 'label_encode': 'LabelEncode'}, low_predictor, Tools.PREDICTION, mask=inputs.Type != 'Full')\n",
    "    Tools.predict_proba(inputs, {'datum': 'Wiltgen', 'label_encode': 'LabelEncode'}, low_predictor, Tools.PROBABILITY, mask=inputs.Type != 'Full')\n",
    "\n",
    "    Data.build_bags(inputs, inputs.Type == 'Full', 'Reference', inputs.Type == 'Instance', 'Source', Tools.PREDICTION)\n",
    "    Data.build_bags(inputs, inputs.Type == 'Full', 'Reference', inputs.Type == 'Instance', 'Source', Tools.PROBABILITY)\n",
    "\n",
    "    # Filter elements\n",
    "    inputs = inputs[inputs.Type == 'Full']\n",
    "    \n",
    "    # Low Level\n",
    "    IO.save(inputs, f'SLow_{size}_{overlap}')"
   ]
  },
  {
   "cell_type": "markdown",
   "metadata": {},
   "source": [
    "# High level predictions"
   ]
  },
  {
   "cell_type": "code",
   "execution_count": null,
   "metadata": {},
   "outputs": [],
   "source": [
    "for size, overlap in inputs_options:\n",
    "    inputs = IO.load(inputs, f'SLow_{size}_{overlap}')\n",
    "    \n",
    "    # Decisions\n",
    "    Tools.evaluate(inputs, {'datum': Tools.PREDICTION, 'label_encode': 'LabelEncode'}, DecisionVotingClassifier(mode='at_least_one'), 'D_ALO')\n",
    "    Tools.evaluate(inputs, {'datum': Tools.PREDICTION, 'label_encode': 'LabelEncode'}, DecisionVotingClassifier(mode='dynamic_thresh'), 'D_DYN')\n",
    "\n",
    "    # Score\n",
    "    Tools.evaluate(inputs, {'datum': Tools.PROBABILITY, 'label_encode': 'LabelEncode'}, def_svc, 'S_SVC', mask=full)\n",
    "    Tools.evaluate(inputs, {'datum': Tools.PROBABILITY, 'label_encode': 'LabelEncode'}, ScoreVotingClassifier(low='max', high='dynamic'), 'S_MaxD')\n",
    "    \n",
    "    # SVC\n",
    "    score_svc = Pipeline([('flat', FlattenTransform()), ('clf', SVC(probability=True))])\n",
    "    score_params = {'clf__C': logspace(-2, 3, 6).tolist()}\n",
    "    Tools.evaluate(inputs, {'datum': Tools.PROBABILITY, 'label_encode': 'LabelEncode'}, score_svc, 'High_SVC', distribution=score_params)\n",
    "\n",
    "    # High Level    \n",
    "    IO.save(inputs, f'SHigh_{size}_{overlap}')"
   ]
  },
  {
   "cell_type": "markdown",
   "metadata": {},
   "source": [
    "## Analysis"
   ]
  },
  {
   "cell_type": "code",
   "execution_count": null,
   "metadata": {},
   "outputs": [],
   "source": [
    "label_encoder = OrderedEncoder().fit(['Normal', 'Benign', 'Malignant'])\n",
    "models = ['D_SVC', 'D_ALO', 'D_DYN', 'S_SVC', 'S_MaxD', 'S_MeanD', 'S_NormD']"
   ]
  },
  {
   "cell_type": "code",
   "execution_count": null,
   "metadata": {},
   "outputs": [],
   "source": [
    "for size, overlap in inputs_options:\n",
    "    IO.load(inputs, f'SHigh_{size}_{overlap}')\n",
    "    # Load evaluations\n",
    "    name = f'{architecture}_{size}_{overlap}'\n",
    "    weak = Path('').resolve()/f'SHIGH_{name}.hdf5'\n",
    "    inputs = IO.load(weak)\n",
    "    full = inputs.Type == 'Full'\n",
    "    for model in models:\n",
    "        title = f'{model}_{name}'\n",
    "        # Details and results\n",
    "        display(HTML(ViewsTools.dataframe_renderer([Views.report(ViewsTools.data_as(inputs[full], model), {'label_encode': 'LabelEncode', 'eval': model}, label_encoder),\n",
    "                                                    Views.report(ViewsTools.data_as(inputs[full], model, as_train=True), {'label_encode': 'LabelEncode', 'eval': model}, label_encoder)],\n",
    "                                                    title=[f'Test - {title}', f'Train - {title}'])))\n",
    "\n"
   ]
  },
  {
   "cell_type": "code",
   "execution_count": null,
   "metadata": {},
   "outputs": [],
   "source": [
    "index = 10\n",
    "print(inputs[inputs.Type=='Full'].iloc[index]['Label'])\n",
    "PatchViews.display(inputs, f'Supervised_{Tools.PREDICTION}', settings, label_encoder, index=index);\n",
    "PatchViews.display(inputs, f'Supervised_{Tools.PROBABILITY}', settings, label_encoder, index=index);"
   ]
  }
 ],
 "metadata": {
  "kernelspec": {
   "display_name": "Python 3",
   "language": "python",
   "name": "python3"
  },
  "language_info": {
   "codemirror_mode": {
    "name": "ipython",
    "version": 3
   },
   "file_extension": ".py",
   "mimetype": "text/x-python",
   "name": "python",
   "nbconvert_exporter": "python",
   "pygments_lexer": "ipython3",
   "version": "3.6.7"
  },
  "varInspector": {
   "cols": {
    "lenName": 16,
    "lenType": 16,
    "lenVar": 40
   },
   "kernels_config": {
    "python": {
     "delete_cmd_postfix": "",
     "delete_cmd_prefix": "del ",
     "library": "var_list.py",
     "varRefreshCmd": "print(var_dic_list())"
    },
    "r": {
     "delete_cmd_postfix": ") ",
     "delete_cmd_prefix": "rm(",
     "library": "var_list.r",
     "varRefreshCmd": "cat(var_dic_list()) "
    }
   },
   "types_to_exclude": [
    "module",
    "function",
    "builtin_function_or_method",
    "instance",
    "_Feature"
   ],
   "window_display": true
  },
  "pycharm": {
   "stem_cell": {
    "cell_type": "raw",
    "source": [],
    "metadata": {
     "collapsed": false
    }
   }
  }
 },
 "nbformat": 4,
 "nbformat_minor": 2
}