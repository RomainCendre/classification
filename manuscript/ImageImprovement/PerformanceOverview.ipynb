{
 "cells": [
  {
   "cell_type": "code",
   "execution_count": 1,
   "metadata": {},
   "outputs": [],
   "source": [
    "import sys\n",
    "sys.path.append('/home/rcendre/classification')\n",
    "from IPython.display import HTML\n",
    "from IPython.display import display\n",
    "from toolbox.classification.common import IO, Tools\n",
    "from toolbox.transforms.labels import OrderedEncoder\n",
    "from toolbox.views.common import Views, ViewsTools"
   ]
  },
  {
   "cell_type": "code",
   "execution_count": 4,
   "metadata": {
    "pycharm": {
     "name": "#%%\n"
    }
   },
   "outputs": [
    {
     "ename": "KeyError",
     "evalue": "'VGG16AvgNoStrategy_Prediction'",
     "output_type": "error",
     "traceback": [
      "\u001b[0;31m---------------------------------------------------------------------------\u001b[0m",
      "\u001b[0;31mKeyError\u001b[0m                                  Traceback (most recent call last)",
      "\u001b[0;32m~/anaconda3/envs/PythonGPU/lib/python3.7/site-packages/pandas/core/indexes/base.py\u001b[0m in \u001b[0;36mget_loc\u001b[0;34m(self, key, method, tolerance)\u001b[0m\n\u001b[1;32m   2896\u001b[0m             \u001b[0;32mtry\u001b[0m\u001b[0;34m:\u001b[0m\u001b[0;34m\u001b[0m\u001b[0;34m\u001b[0m\u001b[0m\n\u001b[0;32m-> 2897\u001b[0;31m                 \u001b[0;32mreturn\u001b[0m \u001b[0mself\u001b[0m\u001b[0;34m.\u001b[0m\u001b[0m_engine\u001b[0m\u001b[0;34m.\u001b[0m\u001b[0mget_loc\u001b[0m\u001b[0;34m(\u001b[0m\u001b[0mkey\u001b[0m\u001b[0;34m)\u001b[0m\u001b[0;34m\u001b[0m\u001b[0;34m\u001b[0m\u001b[0m\n\u001b[0m\u001b[1;32m   2898\u001b[0m             \u001b[0;32mexcept\u001b[0m \u001b[0mKeyError\u001b[0m\u001b[0;34m:\u001b[0m\u001b[0;34m\u001b[0m\u001b[0;34m\u001b[0m\u001b[0m\n",
      "\u001b[0;32mpandas/_libs/index.pyx\u001b[0m in \u001b[0;36mpandas._libs.index.IndexEngine.get_loc\u001b[0;34m()\u001b[0m\n",
      "\u001b[0;32mpandas/_libs/index.pyx\u001b[0m in \u001b[0;36mpandas._libs.index.IndexEngine.get_loc\u001b[0;34m()\u001b[0m\n",
      "\u001b[0;32mpandas/_libs/hashtable_class_helper.pxi\u001b[0m in \u001b[0;36mpandas._libs.hashtable.PyObjectHashTable.get_item\u001b[0;34m()\u001b[0m\n",
      "\u001b[0;32mpandas/_libs/hashtable_class_helper.pxi\u001b[0m in \u001b[0;36mpandas._libs.hashtable.PyObjectHashTable.get_item\u001b[0;34m()\u001b[0m\n",
      "\u001b[0;31mKeyError\u001b[0m: 'VGG16AvgNoStrategy_Prediction'",
      "\nDuring handling of the above exception, another exception occurred:\n",
      "\u001b[0;31mKeyError\u001b[0m                                  Traceback (most recent call last)",
      "\u001b[0;32m<ipython-input-4-0003ed68ad3c>\u001b[0m in \u001b[0;36m<module>\u001b[0;34m\u001b[0m\n\u001b[1;32m     65\u001b[0m         \u001b[0;32mfor\u001b[0m \u001b[0mstrategy\u001b[0m \u001b[0;32min\u001b[0m  \u001b[0;34m[\u001b[0m\u001b[0;34m'NoStrategy'\u001b[0m\u001b[0;34m,\u001b[0m\u001b[0;34m'RandomOS'\u001b[0m\u001b[0;34m,\u001b[0m\u001b[0;34m'RandomUS'\u001b[0m\u001b[0;34m,\u001b[0m\u001b[0;34m'SMOTEENN'\u001b[0m\u001b[0;34m,\u001b[0m\u001b[0;34m'SMOTETomek'\u001b[0m\u001b[0;34m]\u001b[0m\u001b[0;34m:\u001b[0m\u001b[0;34m\u001b[0m\u001b[0;34m\u001b[0m\u001b[0m\n\u001b[1;32m     66\u001b[0m             \u001b[0mname\u001b[0m \u001b[0;34m=\u001b[0m \u001b[0;34mf'{extractor}{strategy}'\u001b[0m\u001b[0;34m\u001b[0m\u001b[0;34m\u001b[0m\u001b[0m\n\u001b[0;32m---> 67\u001b[0;31m             \u001b[0mrep\u001b[0m \u001b[0;34m=\u001b[0m \u001b[0mViews\u001b[0m\u001b[0;34m.\u001b[0m\u001b[0mreport\u001b[0m\u001b[0;34m(\u001b[0m\u001b[0mtransfer_reduction\u001b[0m\u001b[0;34m,\u001b[0m \u001b[0;34m{\u001b[0m\u001b[0;34m'label_encode'\u001b[0m\u001b[0;34m:\u001b[0m \u001b[0;34m'LabelEncode'\u001b[0m\u001b[0;34m,\u001b[0m \u001b[0;34m'eval'\u001b[0m\u001b[0;34m:\u001b[0m \u001b[0mname\u001b[0m\u001b[0;34m}\u001b[0m\u001b[0;34m,\u001b[0m \u001b[0mlabel_encoder\u001b[0m\u001b[0;34m)\u001b[0m\u001b[0;34m\u001b[0m\u001b[0;34m\u001b[0m\u001b[0m\n\u001b[0m\u001b[1;32m     68\u001b[0m             \u001b[0mvalues\u001b[0m\u001b[0;34m.\u001b[0m\u001b[0mappend\u001b[0m\u001b[0;34m(\u001b[0m\u001b[0mrep\u001b[0m\u001b[0;34m[\u001b[0m\u001b[0mmetric\u001b[0m\u001b[0;34m]\u001b[0m\u001b[0;34m[\u001b[0m\u001b[0mmeasure\u001b[0m\u001b[0;34m]\u001b[0m\u001b[0;34m)\u001b[0m\u001b[0;34m\u001b[0m\u001b[0;34m\u001b[0m\u001b[0m\n\u001b[1;32m     69\u001b[0m         \u001b[0mfile\u001b[0m\u001b[0;34m.\u001b[0m\u001b[0mwrite\u001b[0m\u001b[0;34m(\u001b[0m\u001b[0;34m','\u001b[0m\u001b[0;34m.\u001b[0m\u001b[0mjoin\u001b[0m\u001b[0;34m(\u001b[0m\u001b[0mvalues\u001b[0m\u001b[0;34m)\u001b[0m\u001b[0;34m+\u001b[0m\u001b[0;34m'\\n'\u001b[0m\u001b[0;34m)\u001b[0m\u001b[0;34m\u001b[0m\u001b[0;34m\u001b[0m\u001b[0m\n",
      "\u001b[0;32m~/classification/toolbox/views/common.py\u001b[0m in \u001b[0;36mreport\u001b[0;34m(inputs, tags, encode)\u001b[0m\n\u001b[1;32m    333\u001b[0m         \u001b[0;31m# Inputs\u001b[0m\u001b[0;34m\u001b[0m\u001b[0;34m\u001b[0m\u001b[0;34m\u001b[0m\u001b[0m\n\u001b[1;32m    334\u001b[0m         \u001b[0mlabels\u001b[0m \u001b[0;34m=\u001b[0m \u001b[0mnp\u001b[0m\u001b[0;34m.\u001b[0m\u001b[0marray\u001b[0m\u001b[0;34m(\u001b[0m\u001b[0minputs\u001b[0m\u001b[0;34m[\u001b[0m\u001b[0mtags\u001b[0m\u001b[0;34m[\u001b[0m\u001b[0;34m'label_encode'\u001b[0m\u001b[0;34m]\u001b[0m\u001b[0;34m]\u001b[0m\u001b[0;34m.\u001b[0m\u001b[0mtolist\u001b[0m\u001b[0;34m(\u001b[0m\u001b[0;34m)\u001b[0m\u001b[0;34m)\u001b[0m\u001b[0;34m\u001b[0m\u001b[0;34m\u001b[0m\u001b[0m\n\u001b[0;32m--> 335\u001b[0;31m         \u001b[0mpredictions\u001b[0m \u001b[0;34m=\u001b[0m \u001b[0mnp\u001b[0m\u001b[0;34m.\u001b[0m\u001b[0marray\u001b[0m\u001b[0;34m(\u001b[0m\u001b[0minputs\u001b[0m\u001b[0;34m[\u001b[0m\u001b[0;34mf'{tags[\"eval\"]}_{Tools.PREDICTION}'\u001b[0m\u001b[0;34m]\u001b[0m\u001b[0;34m.\u001b[0m\u001b[0mtolist\u001b[0m\u001b[0;34m(\u001b[0m\u001b[0;34m)\u001b[0m\u001b[0;34m)\u001b[0m\u001b[0;34m\u001b[0m\u001b[0;34m\u001b[0m\u001b[0m\n\u001b[0m\u001b[1;32m    336\u001b[0m         \u001b[0mfolds\u001b[0m \u001b[0;34m=\u001b[0m \u001b[0mnp\u001b[0m\u001b[0;34m.\u001b[0m\u001b[0marray\u001b[0m\u001b[0;34m(\u001b[0m\u001b[0minputs\u001b[0m\u001b[0;34m[\u001b[0m\u001b[0;34m'Fold'\u001b[0m\u001b[0;34m]\u001b[0m\u001b[0;34m.\u001b[0m\u001b[0mtolist\u001b[0m\u001b[0;34m(\u001b[0m\u001b[0;34m)\u001b[0m\u001b[0;34m)\u001b[0m\u001b[0;34m\u001b[0m\u001b[0;34m\u001b[0m\u001b[0m\n\u001b[1;32m    337\u001b[0m \u001b[0;34m\u001b[0m\u001b[0m\n",
      "\u001b[0;32m~/anaconda3/envs/PythonGPU/lib/python3.7/site-packages/pandas/core/frame.py\u001b[0m in \u001b[0;36m__getitem__\u001b[0;34m(self, key)\u001b[0m\n\u001b[1;32m   2993\u001b[0m             \u001b[0;32mif\u001b[0m \u001b[0mself\u001b[0m\u001b[0;34m.\u001b[0m\u001b[0mcolumns\u001b[0m\u001b[0;34m.\u001b[0m\u001b[0mnlevels\u001b[0m \u001b[0;34m>\u001b[0m \u001b[0;36m1\u001b[0m\u001b[0;34m:\u001b[0m\u001b[0;34m\u001b[0m\u001b[0;34m\u001b[0m\u001b[0m\n\u001b[1;32m   2994\u001b[0m                 \u001b[0;32mreturn\u001b[0m \u001b[0mself\u001b[0m\u001b[0;34m.\u001b[0m\u001b[0m_getitem_multilevel\u001b[0m\u001b[0;34m(\u001b[0m\u001b[0mkey\u001b[0m\u001b[0;34m)\u001b[0m\u001b[0;34m\u001b[0m\u001b[0;34m\u001b[0m\u001b[0m\n\u001b[0;32m-> 2995\u001b[0;31m             \u001b[0mindexer\u001b[0m \u001b[0;34m=\u001b[0m \u001b[0mself\u001b[0m\u001b[0;34m.\u001b[0m\u001b[0mcolumns\u001b[0m\u001b[0;34m.\u001b[0m\u001b[0mget_loc\u001b[0m\u001b[0;34m(\u001b[0m\u001b[0mkey\u001b[0m\u001b[0;34m)\u001b[0m\u001b[0;34m\u001b[0m\u001b[0;34m\u001b[0m\u001b[0m\n\u001b[0m\u001b[1;32m   2996\u001b[0m             \u001b[0;32mif\u001b[0m \u001b[0mis_integer\u001b[0m\u001b[0;34m(\u001b[0m\u001b[0mindexer\u001b[0m\u001b[0;34m)\u001b[0m\u001b[0;34m:\u001b[0m\u001b[0;34m\u001b[0m\u001b[0;34m\u001b[0m\u001b[0m\n\u001b[1;32m   2997\u001b[0m                 \u001b[0mindexer\u001b[0m \u001b[0;34m=\u001b[0m \u001b[0;34m[\u001b[0m\u001b[0mindexer\u001b[0m\u001b[0;34m]\u001b[0m\u001b[0;34m\u001b[0m\u001b[0;34m\u001b[0m\u001b[0m\n",
      "\u001b[0;32m~/anaconda3/envs/PythonGPU/lib/python3.7/site-packages/pandas/core/indexes/base.py\u001b[0m in \u001b[0;36mget_loc\u001b[0;34m(self, key, method, tolerance)\u001b[0m\n\u001b[1;32m   2897\u001b[0m                 \u001b[0;32mreturn\u001b[0m \u001b[0mself\u001b[0m\u001b[0;34m.\u001b[0m\u001b[0m_engine\u001b[0m\u001b[0;34m.\u001b[0m\u001b[0mget_loc\u001b[0m\u001b[0;34m(\u001b[0m\u001b[0mkey\u001b[0m\u001b[0;34m)\u001b[0m\u001b[0;34m\u001b[0m\u001b[0;34m\u001b[0m\u001b[0m\n\u001b[1;32m   2898\u001b[0m             \u001b[0;32mexcept\u001b[0m \u001b[0mKeyError\u001b[0m\u001b[0;34m:\u001b[0m\u001b[0;34m\u001b[0m\u001b[0;34m\u001b[0m\u001b[0m\n\u001b[0;32m-> 2899\u001b[0;31m                 \u001b[0;32mreturn\u001b[0m \u001b[0mself\u001b[0m\u001b[0;34m.\u001b[0m\u001b[0m_engine\u001b[0m\u001b[0;34m.\u001b[0m\u001b[0mget_loc\u001b[0m\u001b[0;34m(\u001b[0m\u001b[0mself\u001b[0m\u001b[0;34m.\u001b[0m\u001b[0m_maybe_cast_indexer\u001b[0m\u001b[0;34m(\u001b[0m\u001b[0mkey\u001b[0m\u001b[0;34m)\u001b[0m\u001b[0;34m)\u001b[0m\u001b[0;34m\u001b[0m\u001b[0;34m\u001b[0m\u001b[0m\n\u001b[0m\u001b[1;32m   2900\u001b[0m         \u001b[0mindexer\u001b[0m \u001b[0;34m=\u001b[0m \u001b[0mself\u001b[0m\u001b[0;34m.\u001b[0m\u001b[0mget_indexer\u001b[0m\u001b[0;34m(\u001b[0m\u001b[0;34m[\u001b[0m\u001b[0mkey\u001b[0m\u001b[0;34m]\u001b[0m\u001b[0;34m,\u001b[0m \u001b[0mmethod\u001b[0m\u001b[0;34m=\u001b[0m\u001b[0mmethod\u001b[0m\u001b[0;34m,\u001b[0m \u001b[0mtolerance\u001b[0m\u001b[0;34m=\u001b[0m\u001b[0mtolerance\u001b[0m\u001b[0;34m)\u001b[0m\u001b[0;34m\u001b[0m\u001b[0;34m\u001b[0m\u001b[0m\n\u001b[1;32m   2901\u001b[0m         \u001b[0;32mif\u001b[0m \u001b[0mindexer\u001b[0m\u001b[0;34m.\u001b[0m\u001b[0mndim\u001b[0m \u001b[0;34m>\u001b[0m \u001b[0;36m1\u001b[0m \u001b[0;32mor\u001b[0m \u001b[0mindexer\u001b[0m\u001b[0;34m.\u001b[0m\u001b[0msize\u001b[0m \u001b[0;34m>\u001b[0m \u001b[0;36m1\u001b[0m\u001b[0;34m:\u001b[0m\u001b[0;34m\u001b[0m\u001b[0;34m\u001b[0m\u001b[0m\n",
      "\u001b[0;32mpandas/_libs/index.pyx\u001b[0m in \u001b[0;36mpandas._libs.index.IndexEngine.get_loc\u001b[0;34m()\u001b[0m\n",
      "\u001b[0;32mpandas/_libs/index.pyx\u001b[0m in \u001b[0;36mpandas._libs.index.IndexEngine.get_loc\u001b[0;34m()\u001b[0m\n",
      "\u001b[0;32mpandas/_libs/hashtable_class_helper.pxi\u001b[0m in \u001b[0;36mpandas._libs.hashtable.PyObjectHashTable.get_item\u001b[0;34m()\u001b[0m\n",
      "\u001b[0;32mpandas/_libs/hashtable_class_helper.pxi\u001b[0m in \u001b[0;36mpandas._libs.hashtable.PyObjectHashTable.get_item\u001b[0;34m()\u001b[0m\n",
      "\u001b[0;31mKeyError\u001b[0m: 'VGG16AvgNoStrategy_Prediction'"
     ]
    }
   ],
   "source": [
    "metric = 'f1-score'\n",
    "\n",
    "extractors_fr = ['Fourier10', 'Fourier20', 'Fourier30',\n",
    "              'DWTDB4Sc1', 'DWTHaarSc1', 'DWTHaarSc5',\n",
    "              'WiltgenFourier', 'WiltgenDWT', 'HalimiDWT']\n",
    "\n",
    "\n",
    "extractors_sp = ['FirstOrder', 'Haralick', 'HaralickMean', 'Wiltgen', 'WiltgenAll']\n",
    "\n",
    "\n",
    "extractors_tr = ['VGG16Max', 'InceptionV3Max', 'InceptionResNetV2Max', 'ResNetMax',\n",
    "              'VGG16Avg', 'InceptionV3Avg', 'InceptionResNetV2Avg', 'ResNetAvg']\n",
    "\n",
    "extractors_rt = ['VGG16Avg', 'InceptionV3Avg', 'InceptionResNetV2Avg', 'ResNetAvg']\n",
    "\n",
    "extractors_db = ['Haralick', 'Daubechies', 'ResNetAvg', 'ResNetAvgReduction']\n",
    "\n",
    "label_encoder = OrderedEncoder().fit(['Normal', 'Benign', 'Malignant'])\n",
    "\n",
    "measure = 'weighted avg'\n",
    "with open('Overall.csv', 'w') as file:\n",
    "    columns = ['Name', 'SVML', 'SVMR', 'CART', 'RF', 'GB', 'MLP','SVML', 'SVMR', 'CART', 'RF', 'GB', 'MLP']\n",
    "    file.write(','.join(columns)+'\\n')\n",
    "                         \n",
    "    for extractor in extractors_sp: \n",
    "        values = [extractor]\n",
    "        for scaler in ['MMS', 'SS']:\n",
    "            for clf in ['SVML', 'SVMR', 'CART', 'RF', 'GB', 'MLP']:  \n",
    "                name = f'{extractor}{scaler}_{clf}Label' \n",
    "                rep = Views.report(spatial, {'label_encode': 'LabelEncode', 'eval': name}, label_encoder) \n",
    "                values.append(rep[metric][measure])\n",
    "        file.write(','.join(values)+'\\n')\n",
    "        \n",
    "    for extractor in extractors_fr: \n",
    "        values = [extractor]\n",
    "        for scaler in ['MMS', 'SS']:\n",
    "            for clf in ['SVML', 'SVMR', 'CART', 'RF', 'GB', 'MLP']:   \n",
    "                name = f'{extractor}{scaler}_{clf}Label' \n",
    "                rep = Views.report(frequency, {'label_encode': 'LabelEncode', 'eval': name}, label_encoder)\n",
    "                values.append(rep[metric][measure])\n",
    "        file.write(','.join(values)+'\\n')\n",
    "\n",
    "    for extractor in extractors_tr: \n",
    "        values = [extractor]\n",
    "        for scaler in ['MMS', 'SS']:\n",
    "            for clf in ['SVML', 'SVMR', 'CART', 'RF', 'GB', 'MLP']:                  \n",
    "                name = f'{extractor}{scaler}_{clf}Label' \n",
    "                rep = Views.report(transfer, {'label_encode': 'LabelEncode', 'eval': name}, label_encoder)\n",
    "                values.append(rep[metric][measure])\n",
    "        file.write(','.join(values)+'\\n')\n",
    "        \n",
    "        \n",
    "    for reduction in  ['PCA95','PCA975','PCA99','LDA95','LDA975','LDA99']:\n",
    "        for extractor in extractors_rt: \n",
    "            values = [extractor]\n",
    "            for scaler in ['MMS', 'SS']:\n",
    "                for clf in ['SVML', 'SVMR', 'CART', 'RF', 'GB', 'MLP']:                  \n",
    "                    name = f'{extractor}{reduction}_{scaler}_{clf}Label' \n",
    "                    rep = Views.report(transfer_reduction, {'label_encode': 'LabelEncode', 'eval': name}, label_encoder)\n",
    "                    values.append(rep[metric][measure])\n",
    "            file.write(','.join(values)+'\\n')\n",
    "        \n",
    "    for extractor in extractors_rt: \n",
    "        values = [extractor]            \n",
    "        for strategy in  ['NoStrategy','RandomOS','RandomUS','SMOTEENN','SMOTETomek']:\n",
    "            name = f'{extractor}{strategy}'                \n",
    "            rep = Views.report(transfer_reduction, {'label_encode': 'LabelEncode', 'eval': name}, label_encoder)\n",
    "            values.append(rep[metric][measure])\n",
    "        file.write(','.join(values)+'\\n')\n",
    "            \n",
    "measure = 'Malignant'\n",
    "with open('Malignant.csv', 'w') as file:\n",
    "    columns = ['Name', 'SVML', 'SVMR', 'CART', 'RF', 'GB', 'MLP','SVML', 'SVMR', 'CART', 'RF', 'GB', 'MLP']\n",
    "    file.write(','.join(columns)+'\\n')\n",
    "                         \n",
    "    for extractor in extractors_sp: \n",
    "        values = [extractor]\n",
    "        for scaler in ['MMS', 'SS']:\n",
    "            for clf in ['SVML', 'SVMR', 'CART', 'RF', 'GB', 'MLP']:  \n",
    "                name = f'{extractor}{scaler}_{clf}Label' \n",
    "                rep = Views.report(spatial, {'label_encode': 'LabelEncode', 'eval': name}, label_encoder) \n",
    "                values.append(rep[metric][measure])\n",
    "        file.write(','.join(values)+'\\n')\n",
    "        \n",
    "    for extractor in extractors_fr: \n",
    "        values = [extractor]\n",
    "        for scaler in ['MMS', 'SS']:\n",
    "            for clf in ['SVML', 'SVMR', 'CART', 'RF', 'GB', 'MLP']:   \n",
    "                name = f'{extractor}{scaler}_{clf}Label' \n",
    "                rep = Views.report(frequency, {'label_encode': 'LabelEncode', 'eval': name}, label_encoder)\n",
    "                values.append(rep[metric][measure])\n",
    "        file.write(','.join(values)+'\\n')\n",
    "\n",
    "    for extractor in extractors_tr: \n",
    "        values = [extractor]\n",
    "        for scaler in ['MMS', 'SS']:\n",
    "            for clf in ['SVML', 'SVMR', 'CART', 'RF', 'GB', 'MLP']:                  \n",
    "                name = f'{extractor}{scaler}_{clf}Label' \n",
    "                rep = Views.report(transfer, {'label_encode': 'LabelEncode', 'eval': name}, label_encoder)\n",
    "                values.append(rep[metric][measure])\n",
    "        file.write(','.join(values)+'\\n')\n",
    "\n",
    "\n",
    "    for reduction in  ['PCA95','PCA975','PCA99','LDA95','LDA975','LDA99']:\n",
    "        for extractor in extractors_rt: \n",
    "            values = [extractor]\n",
    "            for scaler in ['MMS', 'SS']:\n",
    "                for clf in ['SVML', 'SVMR', 'CART', 'RF', 'GB', 'MLP']:                  \n",
    "                    name = f'{extractor}{reduction}_{scaler}_{clf}Label' \n",
    "                    rep = Views.report(transfer_reduction, {'label_encode': 'LabelEncode', 'eval': name}, label_encoder)\n",
    "                    values.append(rep[metric][measure])\n",
    "            file.write(','.join(values)+'\\n')\n",
    "            \n",
    "    for extractor in extractors_rt: \n",
    "        values = [extractor]            \n",
    "        for strategy in  ['NoStrategy','RandomOS','RandomUS','SMOTEENN','SMOTETomek']:\n",
    "            name = f'{extractor}{strategy}'                 \n",
    "            rep = Views.report(transfer_reduction, {'label_encode': 'LabelEncode', 'eval': name}, label_encoder)\n",
    "            values.append(rep[metric][measure])\n",
    "        file.write(','.join(values)+'\\n')"
   ]
  },
  {
   "cell_type": "code",
   "execution_count": null,
   "metadata": {},
   "outputs": [],
   "source": []
  }
 ],
 "metadata": {
  "kernelspec": {
   "display_name": "Python 3",
   "language": "python",
   "name": "python3"
  },
  "language_info": {
   "codemirror_mode": {
    "name": "ipython",
    "version": 3
   },
   "file_extension": ".py",
   "mimetype": "text/x-python",
   "name": "python",
   "nbconvert_exporter": "python",
   "pygments_lexer": "ipython3",
   "version": "3.7.6"
  },
  "pycharm": {
   "stem_cell": {
    "cell_type": "raw",
    "metadata": {
     "collapsed": false
    },
    "source": []
   }
  },
  "varInspector": {
   "cols": {
    "lenName": 16,
    "lenType": 16,
    "lenVar": 40
   },
   "kernels_config": {
    "python": {
     "delete_cmd_postfix": "",
     "delete_cmd_prefix": "del ",
     "library": "var_list.py",
     "varRefreshCmd": "print(var_dic_list())"
    },
    "r": {
     "delete_cmd_postfix": ") ",
     "delete_cmd_prefix": "rm(",
     "library": "var_list.r",
     "varRefreshCmd": "cat(var_dic_list()) "
    }
   },
   "types_to_exclude": [
    "module",
    "function",
    "builtin_function_or_method",
    "instance",
    "_Feature"
   ],
   "window_display": false
  }
 },
 "nbformat": 4,
 "nbformat_minor": 4
}
