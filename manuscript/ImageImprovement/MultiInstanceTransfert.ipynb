{
 "cells": [
  {
   "cell_type": "markdown",
   "metadata": {},
   "source": [
    "# Sheet properties"
   ]
  },
  {
   "cell_type": "code",
   "execution_count": 15,
   "metadata": {},
   "outputs": [
    {
     "data": {
      "application/javascript": [
       "IPython.OutputArea.prototype._should_scroll = function(lines) {\n",
       "    return false;\n",
       "}\n"
      ],
      "text/plain": [
       "<IPython.core.display.Javascript object>"
      ]
     },
     "metadata": {},
     "output_type": "display_data"
    }
   ],
   "source": [
    "%%javascript\n",
    "IPython.OutputArea.prototype._should_scroll = function(lines) {\n",
    "    return false;\n",
    "}"
   ]
  },
  {
   "cell_type": "markdown",
   "metadata": {},
   "source": [
    "# Imports"
   ]
  },
  {
   "cell_type": "code",
   "execution_count": 16,
   "metadata": {},
   "outputs": [],
   "source": [
    "import sys\n",
    "sys.path.append('/home/rcendre/classification')\n",
    "import os\n",
    "os.environ[\"CUDA_DEVICE_ORDER\"]=\"PCI_BUS_ID\";\n",
    "os.environ[\"CUDA_VISIBLE_DEVICES\"]=\"1\";  \n",
    "from joblib import dump, load\n",
    "from numpy import array, logspace\n",
    "from sklearn.pipeline import Pipeline\n",
    "from sklearn.preprocessing import LabelEncoder, MinMaxScaler\n",
    "from sklearn.svm import SVC\n",
    "from sklearn.metrics import f1_score\n",
    "from toolbox.classification.common import Data, Folds, IO, Tools\n",
    "from toolbox.classification.parameters import Dermatology, Settings\n",
    "from toolbox.transforms.common import FlattenTransform\n",
    "from toolbox.transforms.labels import OrderedEncoder\n",
    "from toolbox.views.common import Views, ViewsTools\n",
    "from toolbox.models.models import DecisionVotingClassifier, ScoreVotingClassifier\n",
    "from toolbox.transforms.images import HaralickImageTransform, SpatialImageTransform\n",
    "import warnings\n",
    "warnings.filterwarnings('ignore') "
   ]
  },
  {
   "cell_type": "markdown",
   "metadata": {},
   "source": [
    "# Parameters"
   ]
  },
  {
   "cell_type": "code",
   "execution_count": 17,
   "metadata": {},
   "outputs": [],
   "source": [
    "# Advanced parameters\n",
    "validation = 4\n",
    "settings = Settings.get_default_dermatology()"
   ]
  },
  {
   "cell_type": "markdown",
   "metadata": {},
   "source": [
    "# Patch classifier"
   ]
  },
  {
   "cell_type": "code",
   "execution_count": 18,
   "metadata": {},
   "outputs": [],
   "source": [
    "patch = Dermatology.images(modality='Microscopy', data_type='Patch', use_unknown=False)\n",
    "# Transform labels\n",
    "label_encoder = OrderedEncoder().fit(['Normal', 'Benign', 'Malignant'])\n",
    "Tools.transform(patch, {'datum': 'Label'}, label_encoder, 'LabelEncode')\n",
    "# Transform groups\n",
    "group_encoder = LabelEncoder().fit(array(patch['ID_Patient'].tolist()))\n",
    "Tools.transform(patch, {'datum': 'ID_Patient'}, group_encoder, 'GroupEncode')\n",
    "# Extract features \n",
    "method = Applications.get_transfer_learning(architecture=architecture_name, pooling='avg', batch_size=1, additional=architecture_additional)\n",
    "method.transform = method.predict_proba\n",
    "Tools.transform(patch, {'datum': 'Datum'}, method, 'Transfert')\n",
    "# Make folds\n",
    "Folds.build_group_folds(patch, {'datum': 'Datum', 'label_encode': 'LabelEncode', 'group': 'GroupEncode'}, validation)\n",
    "IO.save(patch, f'Instances_PatchTransfert.pickle')"
   ]
  },
  {
   "cell_type": "code",
   "execution_count": 19,
   "metadata": {},
   "outputs": [],
   "source": [
    "low_predictor = Pipeline([('scale', MinMaxScaler()),('clf', SVC(kernel='linear', class_weight='balanced', decision_function_shape='ovo', probability=True))])\n",
    "low_params = {'clf__C': logspace(-2, 3, 6).tolist()}"
   ]
  },
  {
   "cell_type": "markdown",
   "metadata": {},
   "source": [
    "## Evaluate"
   ]
  },
  {
   "cell_type": "code",
   "execution_count": 20,
   "metadata": {},
   "outputs": [
    {
     "name": "stdout",
     "output_type": "stream",
     "text": [
      "Evaluation achieved!\r"
     ]
    }
   ],
   "source": [
    "Tools.evaluate(patch, {'datum': 'Transfert', 'label_encode': 'LabelEncode'}, low_predictor, 'Evaluate', distribution=low_params)"
   ]
  },
  {
   "cell_type": "code",
   "execution_count": 21,
   "metadata": {},
   "outputs": [
    {
     "data": {
      "text/html": [
       "\n",
       "<style  type=\"text/css\" >\n",
       "\n",
       "\n",
       "\n",
       "\n",
       "</style>\n",
       "<h1>Test - Patch SVC</h1>\n",
       "\n",
       "<table id=\"T_627e8b7a_c1f7_11ea_b9f0_35375ced2885\" >\n",
       "<thead>\n",
       "    <tr>\n",
       "        <th class=\"blank level0\" ></th>\n",
       "        <th class=\"col_heading level0 col0\" >precision</th>\n",
       "        <th class=\"col_heading level0 col1\" >recall</th>\n",
       "        <th class=\"col_heading level0 col2\" >f1-score</th>\n",
       "        <th class=\"col_heading level0 col3\" >support</th>\n",
       "    </tr>\n",
       "</thead>\n",
       "<tbody>\n",
       "    \n",
       "    \n",
       "    \n",
       "    <tr>\n",
       "        \n",
       "        \n",
       "        <th id=\"T_627e8b7a_c1f7_11ea_b9f0_35375ced2885level0_row0\" class=\"row_heading level0 row0\" >Normal</th>\n",
       "        \n",
       "        \n",
       "        <td id=\"T_627e8b7a_c1f7_11ea_b9f0_35375ced2885row0_col0\" class=\"data row0 col0\" >0.86±0.09</td>\n",
       "        \n",
       "        \n",
       "        <td id=\"T_627e8b7a_c1f7_11ea_b9f0_35375ced2885row0_col1\" class=\"data row0 col1\" >0.72±0.12</td>\n",
       "        \n",
       "        \n",
       "        <td id=\"T_627e8b7a_c1f7_11ea_b9f0_35375ced2885row0_col2\" class=\"data row0 col2\" >0.79±0.10</td>\n",
       "        \n",
       "        \n",
       "        <td id=\"T_627e8b7a_c1f7_11ea_b9f0_35375ced2885row0_col3\" class=\"data row0 col3\" >1880.00±143.60</td>\n",
       "        \n",
       "    </tr>\n",
       "    \n",
       "    \n",
       "    <tr>\n",
       "        \n",
       "        \n",
       "        <th id=\"T_627e8b7a_c1f7_11ea_b9f0_35375ced2885level0_row1\" class=\"row_heading level0 row1\" >Benign</th>\n",
       "        \n",
       "        \n",
       "        <td id=\"T_627e8b7a_c1f7_11ea_b9f0_35375ced2885row1_col0\" class=\"data row1 col0\" >0.73±0.10</td>\n",
       "        \n",
       "        \n",
       "        <td id=\"T_627e8b7a_c1f7_11ea_b9f0_35375ced2885row1_col1\" class=\"data row1 col1\" >0.64±0.15</td>\n",
       "        \n",
       "        \n",
       "        <td id=\"T_627e8b7a_c1f7_11ea_b9f0_35375ced2885row1_col2\" class=\"data row1 col2\" >0.69±0.11</td>\n",
       "        \n",
       "        \n",
       "        <td id=\"T_627e8b7a_c1f7_11ea_b9f0_35375ced2885row1_col3\" class=\"data row1 col3\" >2332.00±179.52</td>\n",
       "        \n",
       "    </tr>\n",
       "    \n",
       "    \n",
       "    <tr>\n",
       "        \n",
       "        \n",
       "        <th id=\"T_627e8b7a_c1f7_11ea_b9f0_35375ced2885level0_row2\" class=\"row_heading level0 row2\" >Malignant</th>\n",
       "        \n",
       "        \n",
       "        <td id=\"T_627e8b7a_c1f7_11ea_b9f0_35375ced2885row2_col0\" class=\"data row2 col0\" >0.33±0.16</td>\n",
       "        \n",
       "        \n",
       "        <td id=\"T_627e8b7a_c1f7_11ea_b9f0_35375ced2885row2_col1\" class=\"data row2 col1\" >0.53±0.09</td>\n",
       "        \n",
       "        \n",
       "        <td id=\"T_627e8b7a_c1f7_11ea_b9f0_35375ced2885row2_col2\" class=\"data row2 col2\" >0.41±0.13</td>\n",
       "        \n",
       "        \n",
       "        <td id=\"T_627e8b7a_c1f7_11ea_b9f0_35375ced2885row2_col3\" class=\"data row2 col3\" >936.00±62.70</td>\n",
       "        \n",
       "    </tr>\n",
       "    \n",
       "    \n",
       "    <tr>\n",
       "        \n",
       "        \n",
       "        <th id=\"T_627e8b7a_c1f7_11ea_b9f0_35375ced2885level0_row3\" class=\"row_heading level0 row3\" >accuracy</th>\n",
       "        \n",
       "        \n",
       "        <td id=\"T_627e8b7a_c1f7_11ea_b9f0_35375ced2885row3_col0\" class=\"data row3 col0\" >0.65±0.11</td>\n",
       "        \n",
       "        \n",
       "        <td id=\"T_627e8b7a_c1f7_11ea_b9f0_35375ced2885row3_col1\" class=\"data row3 col1\" >0.65±0.11</td>\n",
       "        \n",
       "        \n",
       "        <td id=\"T_627e8b7a_c1f7_11ea_b9f0_35375ced2885row3_col2\" class=\"data row3 col2\" >0.65±0.11</td>\n",
       "        \n",
       "        \n",
       "        <td id=\"T_627e8b7a_c1f7_11ea_b9f0_35375ced2885row3_col3\" class=\"data row3 col3\" >0.65±0.11</td>\n",
       "        \n",
       "    </tr>\n",
       "    \n",
       "    \n",
       "    <tr>\n",
       "        \n",
       "        \n",
       "        <th id=\"T_627e8b7a_c1f7_11ea_b9f0_35375ced2885level0_row4\" class=\"row_heading level0 row4\" >macro avg</th>\n",
       "        \n",
       "        \n",
       "        <td id=\"T_627e8b7a_c1f7_11ea_b9f0_35375ced2885row4_col0\" class=\"data row4 col0\" >0.64±0.07</td>\n",
       "        \n",
       "        \n",
       "        <td id=\"T_627e8b7a_c1f7_11ea_b9f0_35375ced2885row4_col1\" class=\"data row4 col1\" >0.63±0.09</td>\n",
       "        \n",
       "        \n",
       "        <td id=\"T_627e8b7a_c1f7_11ea_b9f0_35375ced2885row4_col2\" class=\"data row4 col2\" >0.63±0.09</td>\n",
       "        \n",
       "        \n",
       "        <td id=\"T_627e8b7a_c1f7_11ea_b9f0_35375ced2885row4_col3\" class=\"data row4 col3\" >5148.00±0.71</td>\n",
       "        \n",
       "    </tr>\n",
       "    \n",
       "    \n",
       "    <tr>\n",
       "        \n",
       "        \n",
       "        <th id=\"T_627e8b7a_c1f7_11ea_b9f0_35375ced2885level0_row5\" class=\"row_heading level0 row5\" >weighted avg</th>\n",
       "        \n",
       "        \n",
       "        <td id=\"T_627e8b7a_c1f7_11ea_b9f0_35375ced2885row5_col0\" class=\"data row5 col0\" >0.71±0.08</td>\n",
       "        \n",
       "        \n",
       "        <td id=\"T_627e8b7a_c1f7_11ea_b9f0_35375ced2885row5_col1\" class=\"data row5 col1\" >0.65±0.11</td>\n",
       "        \n",
       "        \n",
       "        <td id=\"T_627e8b7a_c1f7_11ea_b9f0_35375ced2885row5_col2\" class=\"data row5 col2\" >0.67±0.10</td>\n",
       "        \n",
       "        \n",
       "        <td id=\"T_627e8b7a_c1f7_11ea_b9f0_35375ced2885row5_col3\" class=\"data row5 col3\" >5148.00±0.71</td>\n",
       "        \n",
       "    </tr>\n",
       "    \n",
       "</tbody>\n",
       "</table>\n",
       "<br/>"
      ],
      "text/plain": [
       "<IPython.core.display.HTML object>"
      ]
     },
     "metadata": {},
     "output_type": "display_data"
    }
   ],
   "source": [
    "from IPython.display import HTML\n",
    "from IPython.display import display\n",
    "display(HTML(ViewsTools.dataframe_renderer([Views.report(patch, {'label_encode': 'LabelEncode', 'eval': 'Evaluate'}, label_encoder)],\n",
    "                                                                        title=[f'Test - Patch SVC'])))"
   ]
  },
  {
   "cell_type": "markdown",
   "metadata": {},
   "source": [
    "## Fit"
   ]
  },
  {
   "cell_type": "code",
   "execution_count": 22,
   "metadata": {},
   "outputs": [],
   "source": [
    "low_predictor = Tools.fit(patch, {'datum': 'Transfert', 'label_encode': 'LabelEncode'}, low_predictor, distribution=low_params)"
   ]
  },
  {
   "cell_type": "code",
   "execution_count": 23,
   "metadata": {},
   "outputs": [
    {
     "data": {
      "text/plain": [
       "['Instances_SpatialPredictor']"
      ]
     },
     "execution_count": 23,
     "metadata": {},
     "output_type": "execute_result"
    }
   ],
   "source": [
    "dump(low_predictor, 'Instances_TransfertPredictor')"
   ]
  },
  {
   "cell_type": "markdown",
   "metadata": {},
   "source": [
    "# Sliding window"
   ]
  },
  {
   "cell_type": "code",
   "execution_count": 24,
   "metadata": {
    "run_control": {
     "marked": false
    }
   },
   "outputs": [],
   "source": [
    "inputs_options = []\n",
    "inputs_options.append((250,0))\n",
    "inputs_options.append((250,25))\n",
    "inputs_options.append((250,50))\n",
    "inputs_options.append((500,0))\n",
    "inputs_options.append((500,25))\n",
    "inputs_options.append((500,50))"
   ]
  },
  {
   "cell_type": "code",
   "execution_count": null,
   "metadata": {},
   "outputs": [
    {
     "name": "stdout",
     "output_type": "stream",
     "text": [
      "Progress: |███████████████████████████████████████████████████████████████████████████████████████████████████-| 100.0 \r"
     ]
    }
   ],
   "source": [
    "low_predictor = load('Instances_TransfertPredictor')\n",
    "for size, overlap in inputs_options:\n",
    "    inputs = Dermatology.sliding_images(size=size, overlap=overlap/100, modality='Microscopy')\n",
    "    Tools.transform(inputs, {'datum': 'Datum'}, HaralickImageTransform(), 'Transfert')\n",
    "    # Transform groups\n",
    "    group_encoder = LabelEncoder().fit(array(inputs['ID_Patient'].tolist()))\n",
    "    Tools.transform(inputs, {'datum': 'ID_Patient'}, group_encoder, 'GroupEncode')\n",
    "    # Transform labels\n",
    "    label_encoder = OrderedEncoder().fit(['Normal', 'Benign', 'Malignant'])\n",
    "    Tools.transform(inputs, {'datum': 'Label'}, label_encoder, 'LabelEncode')\n",
    "    # Make folds\n",
    "    Folds.build_group_folds(inputs, {'datum': 'Datum', 'label_encode': 'LabelEncode', 'group': 'GroupEncode'}, validation)\n",
    "    IO.save(inputs, f'Instances_Transfert_{size}_{overlap}.pickle')"
   ]
  },
  {
   "cell_type": "markdown",
   "metadata": {},
   "source": [
    "# Low level predictions"
   ]
  },
  {
   "cell_type": "code",
   "execution_count": null,
   "metadata": {},
   "outputs": [],
   "source": [
    "for size, overlap in inputs_options:\n",
    "    inputs = IO.load(f'Instances_Transfert_{size}_{overlap}.pickle')\n",
    "    \n",
    "    # Add scaling\n",
    "    Tools.predict(inputs, {'datum': 'Transfert'}, low_predictor, Tools.PREDICTION, mask=inputs.Type != 'Full')\n",
    "    Tools.predict_proba(inputs, {'datum': 'Transfert'}, low_predictor, Tools.PROBABILITY, mask=inputs.Type != 'Full')\n",
    "\n",
    "    Data.build_bags(inputs, inputs.Type == 'Full', 'Reference', inputs.Type == 'Instance', 'Source', Tools.PREDICTION)\n",
    "    Data.build_bags(inputs, inputs.Type == 'Full', 'Reference', inputs.Type == 'Instance', 'Source', Tools.PROBABILITY)\n",
    "\n",
    "    # Filter elements\n",
    "    inputs = inputs[inputs.Type == 'Full']\n",
    "    \n",
    "    # Low Level\n",
    "    IO.save(inputs, f'Instances_LowTransfert_{size}_{overlap}.pickle')"
   ]
  },
  {
   "cell_type": "markdown",
   "metadata": {},
   "source": [
    "# High level predictions"
   ]
  },
  {
   "cell_type": "code",
   "execution_count": null,
   "metadata": {},
   "outputs": [],
   "source": [
    "for size, overlap in inputs_options:\n",
    "    inputs = IO.load(f'Instances_LowTransfert_{size}_{overlap}.pickle')\n",
    "    \n",
    "    # Decisions\n",
    "    Tools.evaluate(inputs, {'datum': Tools.PREDICTION, 'label_encode': 'LabelEncode'}, DecisionVotingClassifier(mode='at_least_one', metric=f1_score), 'D_ALO')\n",
    "    Tools.evaluate(inputs, {'datum': Tools.PREDICTION, 'label_encode': 'LabelEncode'}, DecisionVotingClassifier(mode='dynamic_thresh', metric=f1_score), 'D_DYN')\n",
    "\n",
    "    # Score\n",
    "    Tools.evaluate(inputs, {'datum': Tools.PROBABILITY, 'label_encode': 'LabelEncode'}, ScoreVotingClassifier(low='max', high='dynamic'), 'S_MAX')\n",
    "    \n",
    "    # SVC\n",
    "    score_svc = Pipeline([('flat', FlattenTransform()), ('clf', SVC(probability=True))])\n",
    "    score_params = {'clf__C': logspace(-2, 3, 6).tolist()}\n",
    "    Tools.evaluate(inputs, {'datum': Tools.PROBABILITY, 'label_encode': 'LabelEncode'}, score_svc, 'High_SVC', distribution=score_params)\n",
    "\n",
    "    # High Level    \n",
    "    IO.save(inputs, f'Instances_HighTransfert_{size}_{overlap}.pickle')"
   ]
  },
  {
   "cell_type": "markdown",
   "metadata": {},
   "source": [
    "## Analysis"
   ]
  },
  {
   "cell_type": "code",
   "execution_count": null,
   "metadata": {},
   "outputs": [],
   "source": [
    "from IPython.display import HTML\n",
    "from IPython.display import display\n",
    "\n",
    "label_encoder = OrderedEncoder().fit(['Normal', 'Benign', 'Malignant'])\n",
    "models = ['D_ALO', 'D_DYN', 'S_MAX', 'High_SVC']\n",
    "\n",
    "for size, overlap in inputs_options:\n",
    "    inputs = IO.load(f'Instances_HighTransfert_{size}_{overlap}.pickle')\n",
    "    \n",
    "    for high_name in models:\n",
    "        name = f'{high_name}_{size}_{overlap}'\n",
    "        # Details and results\n",
    "        display(HTML(ViewsTools.dataframe_renderer([Views.report(inputs, {'label_encode': 'LabelEncode', 'eval': high_name}, label_encoder)],\n",
    "                                                                    title=[f'Test - {name}']))) "
   ]
  }
 ],
 "metadata": {
  "kernelspec": {
   "display_name": "Python 3",
   "language": "python",
   "name": "python3"
  },
  "language_info": {
   "codemirror_mode": {
    "name": "ipython",
    "version": 3
   },
   "file_extension": ".py",
   "mimetype": "text/x-python",
   "name": "python",
   "nbconvert_exporter": "python",
   "pygments_lexer": "ipython3",
   "version": "3.7.6"
  },
  "pycharm": {
   "stem_cell": {
    "cell_type": "raw",
    "metadata": {
     "collapsed": false
    },
    "source": []
   }
  },
  "varInspector": {
   "cols": {
    "lenName": 16,
    "lenType": 16,
    "lenVar": 40
   },
   "kernels_config": {
    "python": {
     "delete_cmd_postfix": "",
     "delete_cmd_prefix": "del ",
     "library": "var_list.py",
     "varRefreshCmd": "print(var_dic_list())"
    },
    "r": {
     "delete_cmd_postfix": ") ",
     "delete_cmd_prefix": "rm(",
     "library": "var_list.r",
     "varRefreshCmd": "cat(var_dic_list()) "
    }
   },
   "types_to_exclude": [
    "module",
    "function",
    "builtin_function_or_method",
    "instance",
    "_Feature"
   ],
   "window_display": true
  }
 },
 "nbformat": 4,
 "nbformat_minor": 2
}
