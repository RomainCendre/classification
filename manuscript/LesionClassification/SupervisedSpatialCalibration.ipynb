{
 "cells": [
  {
   "cell_type": "markdown",
   "metadata": {},
   "source": [
    "# Imports"
   ]
  },
  {
   "cell_type": "code",
   "execution_count": null,
   "metadata": {
    "run_control": {
     "marked": false
    }
   },
   "outputs": [],
   "source": [
    "import sys\n",
    "sys.path.append('/home/rcendre/classification')\n",
    "import os\n",
    "import sys\n",
    "import itertools\n",
    "import webbrowser\n",
    "from pathlib import Path\n",
    "import matplotlib.pyplot as plt\n",
    "from numpy import array, logspace\n",
    "from scipy.stats import randint as randint\n",
    "from sklearn.decomposition import PCA\n",
    "from sklearn.ensemble import ExtraTreesClassifier\n",
    "from sklearn.manifold import TSNE\n",
    "from sklearn.pipeline import Pipeline\n",
    "from sklearn.preprocessing import LabelEncoder, MinMaxScaler\n",
    "from sklearn.svm import SVC\n",
    "from sklearn.tree import DecisionTreeClassifier\n",
    "from sklearn.metrics import davies_bouldin_score\n",
    "from toolbox.classification.common import Data, Folds, IO, Tools\n",
    "from toolbox.classification.parameters import Dermatology, Settings\n",
    "from toolbox.IO import dermatology\n",
    "from toolbox.models.builtin import Applications\n",
    "from toolbox.models.models import DecisionVotingClassifier, ScoreVotingClassifier\n",
    "from toolbox.transforms.common import PredictorTransform\n",
    "from toolbox.transforms.labels import OrderedEncoder\n",
    "from toolbox.transforms.images import DistributionImageTransform, DWTImageTransform, FourierImageTransform, HaralickImageTransform, SpatialImageTransform\n",
    "from toolbox.views.common import Views, ViewsTools\n",
    "from toolbox.views.images import ImagesViews\n",
    "from IPython.display import display\n",
    "import warnings\n",
    "warnings.filterwarnings('ignore') "
   ]
  },
  {
   "cell_type": "markdown",
   "metadata": {},
   "source": [
    "# Parameters"
   ]
  },
  {
   "cell_type": "code",
   "execution_count": null,
   "metadata": {
    "run_control": {
     "marked": false
    }
   },
   "outputs": [],
   "source": [
    "# Advanced parameters\n",
    "data_type = 'Full'\n",
    "extractor = 'Spatial'\n",
    "validation = 4\n",
    "settings = Settings.get_default_dermatology()"
   ]
  },
  {
   "cell_type": "markdown",
   "metadata": {},
   "source": [
    "# Inputs"
   ]
  },
  {
   "cell_type": "code",
   "execution_count": null,
   "metadata": {
    "run_control": {
     "marked": false
    }
   },
   "outputs": [],
   "source": [
    "inputs = IO.load(f'Features.pickle')"
   ]
  },
  {
   "cell_type": "code",
   "execution_count": null,
   "metadata": {},
   "outputs": [],
   "source": [
    "inputs = inputs[(inputs['Binary_Diagnosis'] == 'Benign') |(inputs['Binary_Diagnosis'] == 'Malignant')].reset_index(drop=True)"
   ]
  },
  {
   "cell_type": "markdown",
   "metadata": {},
   "source": [
    "# Low level predictions"
   ]
  },
  {
   "cell_type": "code",
   "execution_count": null,
   "metadata": {},
   "outputs": [],
   "source": [
    "low_file = f'Low_Calibration_Spatial.pickle'"
   ]
  },
  {
   "cell_type": "code",
   "execution_count": null,
   "metadata": {},
   "outputs": [],
   "source": [
    "low_folds = [([1, 2], [3]),\n",
    "             ([2, 3], [4]),\n",
    "             ([3, 4], [1]),\n",
    "             ([4, 1], [2])]"
   ]
  },
  {
   "cell_type": "code",
   "execution_count": null,
   "metadata": {},
   "outputs": [],
   "source": [
    "# Add scaling step\n",
    "supervised = Pipeline([ ('scale', MinMaxScaler()), ('clf', SVC(kernel='linear', class_weight='balanced', probability=True))])\n",
    "supervised_params = {'clf__C': logspace(-2, 3, 6).tolist()}"
   ]
  },
  {
   "cell_type": "code",
   "execution_count": null,
   "metadata": {},
   "outputs": [],
   "source": [
    "# Transform standard inputs\n",
    "Tools.fit_predict(inputs, {'datum': extractor, 'label_encode': 'LesionEncode'}, \n",
    "                  supervised, 'SupervisedIsotonic', folds=low_folds, distribution=supervised_params, calibrate='isotonic')\n",
    "\n",
    "Tools.fit_predict(inputs, {'datum': extractor, 'label_encode': 'LesionEncode'}, \n",
    "                  supervised, 'SupervisedSigmoid', folds=low_folds, distribution=supervised_params, calibrate='sigmoid')"
   ]
  },
  {
   "cell_type": "code",
   "execution_count": null,
   "metadata": {},
   "outputs": [],
   "source": [
    "all_image = [True] * len(inputs.index)\n",
    "single_image = inputs['ID_Image'] == '0M'\n",
    "Data.build_bags(inputs, single_image, 'ID_Lesion', all_image, 'ID_Lesion', f'SupervisedIsotonic_{Tools.PREDICTION}')\n",
    "Data.build_bags(inputs, single_image, 'ID_Lesion', all_image, 'ID_Lesion', f'SupervisedIsotonic_{Tools.PROBABILITY}')\n",
    "\n",
    "Data.build_bags(inputs, single_image, 'ID_Lesion', all_image, 'ID_Lesion', f'SupervisedSigmoid_{Tools.PREDICTION}')\n",
    "Data.build_bags(inputs, single_image, 'ID_Lesion', all_image, 'ID_Lesion', f'SupervisedSigmoid_{Tools.PROBABILITY}')\n",
    "inputs = inputs[single_image].reset_index()"
   ]
  },
  {
   "cell_type": "code",
   "execution_count": null,
   "metadata": {},
   "outputs": [],
   "source": [
    "# Save\n",
    "IO.save(inputs, low_file)"
   ]
  },
  {
   "cell_type": "markdown",
   "metadata": {},
   "source": [
    "# High level predictions"
   ]
  },
  {
   "cell_type": "code",
   "execution_count": null,
   "metadata": {},
   "outputs": [],
   "source": [
    "inputs = IO.load(low_file)"
   ]
  },
  {
   "cell_type": "code",
   "execution_count": null,
   "metadata": {},
   "outputs": [],
   "source": [
    "high_file = f'High_Calibration_Spatial.pickle'"
   ]
  },
  {
   "cell_type": "code",
   "execution_count": null,
   "metadata": {},
   "outputs": [],
   "source": [
    "high_folds = [([4], [1]),\n",
    "             ([1], [2]),\n",
    "             ([2], [3]),\n",
    "             ([3], [4])]"
   ]
  },
  {
   "cell_type": "code",
   "execution_count": null,
   "metadata": {},
   "outputs": [],
   "source": [
    "# Isotonic\n",
    "# Decisions\n",
    "Tools.evaluate(inputs, {'datum': f'SupervisedIsotonic_{Tools.PREDICTION}', 'label_encode': 'LesionEncode'}, DecisionVotingClassifier(mode='at_least_one'), 'D_ALOIsotonic', folds=high_folds)\n",
    "Tools.evaluate(inputs, {'datum': f'SupervisedIsotonic_{Tools.PREDICTION}', 'label_encode': 'LesionEncode'}, DecisionVotingClassifier(mode='dynamic_thresh'), 'D_DYNIsotonic', folds=high_folds)\n",
    "\n",
    "# Score\n",
    "Tools.evaluate(inputs, {'datum': f'SupervisedIsotonic_{Tools.PROBABILITY}', 'label_encode': 'LesionEncode'}, ScoreVotingClassifier(low='max', high='dynamic'), 'S_MaxDIsotonic', folds=high_folds)\n",
    "Tools.evaluate(inputs, {'datum': f'SupervisedIsotonic_{Tools.PROBABILITY}', 'label_encode': 'LesionEncode'}, ScoreVotingClassifier(low='mean', high='dynamic'), 'S_MeanDIsotonic', folds=high_folds)\n",
    "\n",
    "# Sigmoid\n",
    "# Decisions\n",
    "Tools.evaluate(inputs, {'datum': f'SupervisedSigmoid_{Tools.PREDICTION}', 'label_encode': 'LesionEncode'}, DecisionVotingClassifier(mode='at_least_one'), 'D_ALOSigmoid', folds=high_folds)\n",
    "Tools.evaluate(inputs, {'datum': f'SupervisedSigmoid_{Tools.PREDICTION}', 'label_encode': 'LesionEncode'}, DecisionVotingClassifier(mode='dynamic_thresh'), 'D_DYNSigmoid', folds=high_folds)\n",
    "\n",
    "# Score\n",
    "Tools.evaluate(inputs, {'datum': f'SupervisedSigmoid_{Tools.PROBABILITY}', 'label_encode': 'LesionEncode'}, ScoreVotingClassifier(low='max', high='dynamic'), 'S_MaxDSigmoid', folds=high_folds)\n",
    "Tools.evaluate(inputs, {'datum': f'SupervisedSigmoid_{Tools.PROBABILITY}', 'label_encode': 'LesionEncode'}, ScoreVotingClassifier(low='mean', high='dynamic'), 'S_MeanDSigmoid', folds=high_folds)\n",
    "\n",
    "# High Level\n",
    "IO.save(inputs, high_file)"
   ]
  },
  {
   "cell_type": "markdown",
   "metadata": {},
   "source": [
    "# Analysis"
   ]
  },
  {
   "cell_type": "markdown",
   "metadata": {},
   "source": [
    "## Scores and ROC"
   ]
  },
  {
   "cell_type": "code",
   "execution_count": null,
   "metadata": {},
   "outputs": [],
   "source": [
    "from IPython.display import HTML\n",
    "from IPython.display import display\n",
    "\n",
    "inputs = IO.load(high_file)\n",
    "\n",
    "diagnosis_encoder = OrderedEncoder().fit(['Benign', 'Malignant'])\n",
    "# ROC Curve\n",
    "ViewsTools.plot_size((8,8))\n",
    "high_models = ['D_ALOIsotonic', 'D_DYNIsotonic', 'S_MaxDIsotonic', 'S_MeanDIsotonic',\n",
    "               'D_ALOSigmoid', 'D_DYNSigmoid', 'S_MaxDSigmoid', 'S_MeanDSigmoid']\n",
    "for name in high_models: \n",
    "    #Label\n",
    "    display(HTML(ViewsTools.dataframe_renderer([Views.report(inputs, {'label_encode': 'LesionEncode', 'eval': name}, diagnosis_encoder)],\n",
    "                                                                        title=[f'Test - {name}'])))"
   ]
  }
 ],
 "metadata": {
  "kernelspec": {
   "display_name": "Python 3",
   "language": "python",
   "name": "python3"
  },
  "language_info": {
   "codemirror_mode": {
    "name": "ipython",
    "version": 3
   },
   "file_extension": ".py",
   "mimetype": "text/x-python",
   "name": "python",
   "nbconvert_exporter": "python",
   "pygments_lexer": "ipython3",
   "version": "3.7.6"
  },
  "varInspector": {
   "cols": {
    "lenName": 16,
    "lenType": 16,
    "lenVar": 40
   },
   "kernels_config": {
    "python": {
     "delete_cmd_postfix": "",
     "delete_cmd_prefix": "del ",
     "library": "var_list.py",
     "varRefreshCmd": "print(var_dic_list())"
    },
    "r": {
     "delete_cmd_postfix": ") ",
     "delete_cmd_prefix": "rm(",
     "library": "var_list.r",
     "varRefreshCmd": "cat(var_dic_list()) "
    }
   },
   "position": {
    "height": "501.398px",
    "left": "1406px",
    "right": "20px",
    "top": "134px",
    "width": "350px"
   },
   "types_to_exclude": [
    "module",
    "function",
    "builtin_function_or_method",
    "instance",
    "_Feature"
   ],
   "window_display": false
  },
  "pycharm": {
   "stem_cell": {
    "cell_type": "raw",
    "source": [],
    "metadata": {
     "collapsed": false
    }
   }
  }
 },
 "nbformat": 4,
 "nbformat_minor": 2
}