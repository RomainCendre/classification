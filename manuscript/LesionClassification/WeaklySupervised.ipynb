{
 "cells": [
  {
   "cell_type": "markdown",
   "metadata": {},
   "source": [
    "# Sheet properties"
   ]
  },
  {
   "cell_type": "code",
   "execution_count": null,
   "metadata": {
    "run_control": {
     "marked": false
    }
   },
   "outputs": [],
   "source": [
    "from IPython.display import HTML\n",
    "\n",
    "HTML('''<script>\n",
    "code_show=true; \n",
    "function code_toggle() {\n",
    " if (code_show){\n",
    " $('div.input').hide();\n",
    " } else {\n",
    " $('div.input').show();\n",
    " }\n",
    " code_show = !code_show\n",
    "} \n",
    "$( document ).ready(code_toggle);\n",
    "</script>\n",
    "<form action=\"javascript:code_toggle()\"><input type=\"submit\" value=\"Click here to toggle on/off the raw code.\"></form>''')"
   ]
  },
  {
   "cell_type": "code",
   "execution_count": null,
   "metadata": {
    "run_control": {
     "marked": false
    }
   },
   "outputs": [],
   "source": [
    "%%javascript\n",
    "IPython.OutputArea.prototype._should_scroll = function(lines) {\n",
    "    return false;\n",
    "}"
   ]
  },
  {
   "cell_type": "code",
   "execution_count": null,
   "metadata": {
    "run_control": {
     "marked": false
    }
   },
   "outputs": [],
   "source": [
    "%matplotlib inline\n",
    "# produce vector inline graphics\n",
    "from IPython.display import set_matplotlib_formats\n",
    "set_matplotlib_formats('pdf', 'svg')\n",
    "import matplotlib.pyplot as plt"
   ]
  },
  {
   "cell_type": "markdown",
   "metadata": {},
   "source": [
    "# Start with local"
   ]
  },
  {
   "cell_type": "code",
   "execution_count": null,
   "metadata": {
    "run_control": {
     "marked": false
    }
   },
   "outputs": [],
   "source": [
    "import sys\n",
    "from IPython.display import HTML\n",
    "sys.path.append('/home/rcendre/classification')"
   ]
  },
  {
   "cell_type": "markdown",
   "metadata": {},
   "source": [
    "# Imports"
   ]
  },
  {
   "cell_type": "code",
   "execution_count": null,
   "metadata": {
    "run_control": {
     "marked": false
    }
   },
   "outputs": [],
   "source": [
    "import webbrowser\n",
    "from pathlib import Path\n",
    "from IPython.display import display\n",
    "from numpy import array, logspace\n",
    "from misvm import SIL, MISVM\n",
    "from scipy.stats import randint as randint\n",
    "from sklearn.ensemble import ExtraTreesClassifier\n",
    "from sklearn.pipeline import Pipeline\n",
    "from sklearn.preprocessing import LabelEncoder, StandardScaler\n",
    "from sklearn.svm import SVC\n",
    "from toolbox.classification.common import Data, Folds, IO, Tools\n",
    "from toolbox.classification.parameters import Dermatology, Settings\n",
    "from toolbox.IO import dermatology\n",
    "from toolbox.transforms.common import PredictorTransform, FlattenTransform\n",
    "from toolbox.transforms.labels import OrderedEncoder\n",
    "from toolbox.views.common import Views, ViewsTools\n",
    "from toolbox.views.images import ImagesViews, PatchViews\n",
    "from toolbox.models.models import CustomMIL\n",
    "from toolbox.transforms.common import BagScaler\n",
    "import warnings\n",
    "warnings.filterwarnings('ignore') "
   ]
  },
  {
   "cell_type": "markdown",
   "metadata": {},
   "source": [
    "# Parameters"
   ]
  },
  {
   "cell_type": "code",
   "execution_count": null,
   "metadata": {
    "run_control": {
     "marked": false
    }
   },
   "outputs": [],
   "source": [
    "# Advanced parameters\n",
    "data_type = 'Full'\n",
    "validation = 4\n",
    "settings = Settings.get_default_dermatology()"
   ]
  },
  {
   "cell_type": "code",
   "execution_count": null,
   "metadata": {},
   "outputs": [],
   "source": [
    "extractor = 'Wiltgen'"
   ]
  },
  {
   "cell_type": "markdown",
   "metadata": {},
   "source": [
    "# Inputs"
   ]
  },
  {
   "cell_type": "code",
   "execution_count": null,
   "metadata": {
    "run_control": {
     "marked": false
    }
   },
   "outputs": [],
   "source": [
    "inputs = IO.load(f'Features.pickle')"
   ]
  },
  {
   "cell_type": "code",
   "execution_count": null,
   "metadata": {},
   "outputs": [],
   "source": [
    "inputs = inputs[(inputs['Binary_Diagnosis'] == 'Benign') |(inputs['Binary_Diagnosis'] == 'Malignant')].reset_index(drop=True)"
   ]
  },
  {
   "cell_type": "markdown",
   "metadata": {},
   "source": [
    "# Model evaluation"
   ]
  },
  {
   "cell_type": "markdown",
   "metadata": {},
   "source": [
    "## Models"
   ]
  },
  {
   "cell_type": "code",
   "execution_count": null,
   "metadata": {},
   "outputs": [],
   "source": [
    "models = []\n",
    "models.append(('SIL', \n",
    "               CustomMIL(SIL(kernel='linear', C=1.0, verbose=False)),\n",
    "               {'estimator__C': logspace(-2, 3, 6).tolist()}))\n",
    "models.append(('MISVM', \n",
    "               CustomMIL(MISVM(kernel='linear', C=1.0, verbose=False)),\n",
    "               {'estimator__C': logspace(-2, 3, 6).tolist()}))"
   ]
  },
  {
   "cell_type": "markdown",
   "metadata": {},
   "source": [
    "## Evaluation"
   ]
  },
  {
   "cell_type": "code",
   "execution_count": null,
   "metadata": {},
   "outputs": [],
   "source": [
    "weak_file = f'Weak_Transfer.pickle'"
   ]
  },
  {
   "cell_type": "code",
   "execution_count": null,
   "metadata": {
    "run_control": {
     "marked": false
    },
    "scrolled": true
   },
   "outputs": [],
   "source": [
    "low_folds = [([1], [2,3]),\n",
    "             ([2], [3,4]),\n",
    "             ([3], [4,1]),\n",
    "             ([4], [1,2])]\n",
    "Tools.fit_predict(inputs, {'datum': extractor, 'label_encode': 'DiagnosisEncode'}, StandardScaler(), 'Scaled', folds=low_folds)\n",
    "\n",
    "# Simple labels\n",
    "all_image = [True] * len(inputs.index)\n",
    "single_image = inputs['ID_Image'] == '0M'\n",
    "Data.build_bags(inputs, single_image, 'Reference', all_image, 'Reference', extractor)\n",
    "Data.build_bags(inputs, single_image, 'Reference', all_image, 'Reference', 'Scaled')\n",
    "inputs = inputs[single_image].reset_index()"
   ]
  },
  {
   "cell_type": "code",
   "execution_count": null,
   "metadata": {},
   "outputs": [],
   "source": [
    "high_folds = [([2,3], [4]),\n",
    "             ([3,4], [1]),\n",
    "             ([4,1], [2]),\n",
    "             ([1,2], [3])]\n",
    "for model in models:\n",
    "    model_name, model_kernel,model_params = model\n",
    "    # MIL evaluation\n",
    "    Tools.evaluate(inputs, {'datum': extractor, 'label_encode': 'DiagnosisEncode'}, model_kernel, model_name, distribution=model_params, folds=high_folds)\n",
    "\n",
    "    # Save\n",
    "    IO.save(inputs, weak_file)\n",
    "    \n",
    "for model in models:\n",
    "    model_name, model_kernel,model_params = model\n",
    "    # MIL evaluation\n",
    "    Tools.evaluate(inputs, {'datum': 'Scaled', 'label_encode': 'DiagnosisEncode'}, model_kernel, f'Scale{model_name}', distribution=model_params, folds=high_folds)\n",
    "\n",
    "    # Save\n",
    "    IO.save(inputs, weak_file)"
   ]
  },
  {
   "cell_type": "markdown",
   "metadata": {},
   "source": [
    "## Scores and ROC"
   ]
  },
  {
   "cell_type": "code",
   "execution_count": 28,
   "metadata": {},
   "outputs": [
    {
     "data": {
      "text/html": [
       "\n",
       "<style  type=\"text/css\" >\n",
       "\n",
       "\n",
       "\n",
       "\n",
       "</style>\n",
       "<h1>Test - ScaleSIL</h1>\n",
       "\n",
       "<table id=\"T_90786348_b338_11ea_85da_ad51b7e16146\" >\n",
       "<thead>\n",
       "    <tr>\n",
       "        <th class=\"blank level0\" ></th>\n",
       "        <th class=\"col_heading level0 col0\" >f1-score</th>\n",
       "        <th class=\"col_heading level0 col1\" >precision</th>\n",
       "        <th class=\"col_heading level0 col2\" >recall</th>\n",
       "        <th class=\"col_heading level0 col3\" >support</th>\n",
       "    </tr>\n",
       "</thead>\n",
       "<tbody>\n",
       "    \n",
       "    \n",
       "    \n",
       "    <tr>\n",
       "        \n",
       "        \n",
       "        <th id=\"T_90786348_b338_11ea_85da_ad51b7e16146level0_row0\" class=\"row_heading level0 row0\" >Benign</th>\n",
       "        \n",
       "        \n",
       "        <td id=\"T_90786348_b338_11ea_85da_ad51b7e16146row0_col0\" class=\"data row0 col0\" >0.67±0.15</td>\n",
       "        \n",
       "        \n",
       "        <td id=\"T_90786348_b338_11ea_85da_ad51b7e16146row0_col1\" class=\"data row0 col1\" >0.69±0.13</td>\n",
       "        \n",
       "        \n",
       "        <td id=\"T_90786348_b338_11ea_85da_ad51b7e16146row0_col2\" class=\"data row0 col2\" >0.66±0.17</td>\n",
       "        \n",
       "        \n",
       "        <td id=\"T_90786348_b338_11ea_85da_ad51b7e16146row0_col3\" class=\"data row0 col3\" >114.00±3.35</td>\n",
       "        \n",
       "    </tr>\n",
       "    \n",
       "    \n",
       "    <tr>\n",
       "        \n",
       "        \n",
       "        <th id=\"T_90786348_b338_11ea_85da_ad51b7e16146level0_row1\" class=\"row_heading level0 row1\" >Malignant</th>\n",
       "        \n",
       "        \n",
       "        <td id=\"T_90786348_b338_11ea_85da_ad51b7e16146row1_col0\" class=\"data row1 col0\" >0.74±0.10</td>\n",
       "        \n",
       "        \n",
       "        <td id=\"T_90786348_b338_11ea_85da_ad51b7e16146row1_col1\" class=\"data row1 col1\" >0.73±0.12</td>\n",
       "        \n",
       "        \n",
       "        <td id=\"T_90786348_b338_11ea_85da_ad51b7e16146row1_col2\" class=\"data row1 col2\" >0.75±0.09</td>\n",
       "        \n",
       "        \n",
       "        <td id=\"T_90786348_b338_11ea_85da_ad51b7e16146row1_col3\" class=\"data row1 col3\" >138.00±1.80</td>\n",
       "        \n",
       "    </tr>\n",
       "    \n",
       "    \n",
       "    <tr>\n",
       "        \n",
       "        \n",
       "        <th id=\"T_90786348_b338_11ea_85da_ad51b7e16146level0_row2\" class=\"row_heading level0 row2\" >accuracy</th>\n",
       "        \n",
       "        \n",
       "        <td id=\"T_90786348_b338_11ea_85da_ad51b7e16146row2_col0\" class=\"data row2 col0\" >0.71±0.12</td>\n",
       "        \n",
       "        \n",
       "        <td id=\"T_90786348_b338_11ea_85da_ad51b7e16146row2_col1\" class=\"data row2 col1\" >0.71±0.12</td>\n",
       "        \n",
       "        \n",
       "        <td id=\"T_90786348_b338_11ea_85da_ad51b7e16146row2_col2\" class=\"data row2 col2\" >0.71±0.12</td>\n",
       "        \n",
       "        \n",
       "        <td id=\"T_90786348_b338_11ea_85da_ad51b7e16146row2_col3\" class=\"data row2 col3\" >0.71±0.12</td>\n",
       "        \n",
       "    </tr>\n",
       "    \n",
       "    \n",
       "    <tr>\n",
       "        \n",
       "        \n",
       "        <th id=\"T_90786348_b338_11ea_85da_ad51b7e16146level0_row3\" class=\"row_heading level0 row3\" >macro avg</th>\n",
       "        \n",
       "        \n",
       "        <td id=\"T_90786348_b338_11ea_85da_ad51b7e16146row3_col0\" class=\"data row3 col0\" >0.71±0.12</td>\n",
       "        \n",
       "        \n",
       "        <td id=\"T_90786348_b338_11ea_85da_ad51b7e16146row3_col1\" class=\"data row3 col1\" >0.71±0.12</td>\n",
       "        \n",
       "        \n",
       "        <td id=\"T_90786348_b338_11ea_85da_ad51b7e16146row3_col2\" class=\"data row3 col2\" >0.71±0.12</td>\n",
       "        \n",
       "        \n",
       "        <td id=\"T_90786348_b338_11ea_85da_ad51b7e16146row3_col3\" class=\"data row3 col3\" >252.00±4.24</td>\n",
       "        \n",
       "    </tr>\n",
       "    \n",
       "    \n",
       "    <tr>\n",
       "        \n",
       "        \n",
       "        <th id=\"T_90786348_b338_11ea_85da_ad51b7e16146level0_row4\" class=\"row_heading level0 row4\" >weighted avg</th>\n",
       "        \n",
       "        \n",
       "        <td id=\"T_90786348_b338_11ea_85da_ad51b7e16146row4_col0\" class=\"data row4 col0\" >0.71±0.12</td>\n",
       "        \n",
       "        \n",
       "        <td id=\"T_90786348_b338_11ea_85da_ad51b7e16146row4_col1\" class=\"data row4 col1\" >0.71±0.12</td>\n",
       "        \n",
       "        \n",
       "        <td id=\"T_90786348_b338_11ea_85da_ad51b7e16146row4_col2\" class=\"data row4 col2\" >0.71±0.12</td>\n",
       "        \n",
       "        \n",
       "        <td id=\"T_90786348_b338_11ea_85da_ad51b7e16146row4_col3\" class=\"data row4 col3\" >252.00±4.24</td>\n",
       "        \n",
       "    </tr>\n",
       "    \n",
       "</tbody>\n",
       "</table>\n",
       "<br/>"
      ],
      "text/plain": [
       "<IPython.core.display.HTML object>"
      ]
     },
     "metadata": {},
     "output_type": "display_data"
    },
    {
     "data": {
      "text/html": [
       "\n",
       "<style  type=\"text/css\" >\n",
       "\n",
       "\n",
       "\n",
       "\n",
       "</style>\n",
       "<h1>Test - MISVM</h1>\n",
       "\n",
       "<table id=\"T_907c63b2_b338_11ea_85da_ad51b7e16146\" >\n",
       "<thead>\n",
       "    <tr>\n",
       "        <th class=\"blank level0\" ></th>\n",
       "        <th class=\"col_heading level0 col0\" >f1-score</th>\n",
       "        <th class=\"col_heading level0 col1\" >precision</th>\n",
       "        <th class=\"col_heading level0 col2\" >recall</th>\n",
       "        <th class=\"col_heading level0 col3\" >support</th>\n",
       "    </tr>\n",
       "</thead>\n",
       "<tbody>\n",
       "    \n",
       "    \n",
       "    \n",
       "    <tr>\n",
       "        \n",
       "        \n",
       "        <th id=\"T_907c63b2_b338_11ea_85da_ad51b7e16146level0_row0\" class=\"row_heading level0 row0\" >Benign</th>\n",
       "        \n",
       "        \n",
       "        <td id=\"T_907c63b2_b338_11ea_85da_ad51b7e16146row0_col0\" class=\"data row0 col0\" >0.67±0.10</td>\n",
       "        \n",
       "        \n",
       "        <td id=\"T_907c63b2_b338_11ea_85da_ad51b7e16146row0_col1\" class=\"data row0 col1\" >0.65±0.09</td>\n",
       "        \n",
       "        \n",
       "        <td id=\"T_907c63b2_b338_11ea_85da_ad51b7e16146row0_col2\" class=\"data row0 col2\" >0.69±0.12</td>\n",
       "        \n",
       "        \n",
       "        <td id=\"T_907c63b2_b338_11ea_85da_ad51b7e16146row0_col3\" class=\"data row0 col3\" >114.00±3.35</td>\n",
       "        \n",
       "    </tr>\n",
       "    \n",
       "    \n",
       "    <tr>\n",
       "        \n",
       "        \n",
       "        <th id=\"T_907c63b2_b338_11ea_85da_ad51b7e16146level0_row1\" class=\"row_heading level0 row1\" >Malignant</th>\n",
       "        \n",
       "        \n",
       "        <td id=\"T_907c63b2_b338_11ea_85da_ad51b7e16146row1_col0\" class=\"data row1 col0\" >0.71±0.08</td>\n",
       "        \n",
       "        \n",
       "        <td id=\"T_907c63b2_b338_11ea_85da_ad51b7e16146row1_col1\" class=\"data row1 col1\" >0.73±0.08</td>\n",
       "        \n",
       "        \n",
       "        <td id=\"T_907c63b2_b338_11ea_85da_ad51b7e16146row1_col2\" class=\"data row1 col2\" >0.70±0.08</td>\n",
       "        \n",
       "        \n",
       "        <td id=\"T_907c63b2_b338_11ea_85da_ad51b7e16146row1_col3\" class=\"data row1 col3\" >138.00±1.80</td>\n",
       "        \n",
       "    </tr>\n",
       "    \n",
       "    \n",
       "    <tr>\n",
       "        \n",
       "        \n",
       "        <th id=\"T_907c63b2_b338_11ea_85da_ad51b7e16146level0_row2\" class=\"row_heading level0 row2\" >accuracy</th>\n",
       "        \n",
       "        \n",
       "        <td id=\"T_907c63b2_b338_11ea_85da_ad51b7e16146row2_col0\" class=\"data row2 col0\" >0.69±0.08</td>\n",
       "        \n",
       "        \n",
       "        <td id=\"T_907c63b2_b338_11ea_85da_ad51b7e16146row2_col1\" class=\"data row2 col1\" >0.69±0.08</td>\n",
       "        \n",
       "        \n",
       "        <td id=\"T_907c63b2_b338_11ea_85da_ad51b7e16146row2_col2\" class=\"data row2 col2\" >0.69±0.08</td>\n",
       "        \n",
       "        \n",
       "        <td id=\"T_907c63b2_b338_11ea_85da_ad51b7e16146row2_col3\" class=\"data row2 col3\" >0.69±0.08</td>\n",
       "        \n",
       "    </tr>\n",
       "    \n",
       "    \n",
       "    <tr>\n",
       "        \n",
       "        \n",
       "        <th id=\"T_907c63b2_b338_11ea_85da_ad51b7e16146level0_row3\" class=\"row_heading level0 row3\" >macro avg</th>\n",
       "        \n",
       "        \n",
       "        <td id=\"T_907c63b2_b338_11ea_85da_ad51b7e16146row3_col0\" class=\"data row3 col0\" >0.69±0.08</td>\n",
       "        \n",
       "        \n",
       "        <td id=\"T_907c63b2_b338_11ea_85da_ad51b7e16146row3_col1\" class=\"data row3 col1\" >0.69±0.08</td>\n",
       "        \n",
       "        \n",
       "        <td id=\"T_907c63b2_b338_11ea_85da_ad51b7e16146row3_col2\" class=\"data row3 col2\" >0.69±0.08</td>\n",
       "        \n",
       "        \n",
       "        <td id=\"T_907c63b2_b338_11ea_85da_ad51b7e16146row3_col3\" class=\"data row3 col3\" >252.00±4.24</td>\n",
       "        \n",
       "    </tr>\n",
       "    \n",
       "    \n",
       "    <tr>\n",
       "        \n",
       "        \n",
       "        <th id=\"T_907c63b2_b338_11ea_85da_ad51b7e16146level0_row4\" class=\"row_heading level0 row4\" >weighted avg</th>\n",
       "        \n",
       "        \n",
       "        <td id=\"T_907c63b2_b338_11ea_85da_ad51b7e16146row4_col0\" class=\"data row4 col0\" >0.70±0.08</td>\n",
       "        \n",
       "        \n",
       "        <td id=\"T_907c63b2_b338_11ea_85da_ad51b7e16146row4_col1\" class=\"data row4 col1\" >0.70±0.08</td>\n",
       "        \n",
       "        \n",
       "        <td id=\"T_907c63b2_b338_11ea_85da_ad51b7e16146row4_col2\" class=\"data row4 col2\" >0.69±0.08</td>\n",
       "        \n",
       "        \n",
       "        <td id=\"T_907c63b2_b338_11ea_85da_ad51b7e16146row4_col3\" class=\"data row4 col3\" >252.00±4.24</td>\n",
       "        \n",
       "    </tr>\n",
       "    \n",
       "</tbody>\n",
       "</table>\n",
       "<br/>"
      ],
      "text/plain": [
       "<IPython.core.display.HTML object>"
      ]
     },
     "metadata": {},
     "output_type": "display_data"
    },
    {
     "data": {
      "text/html": [
       "\n",
       "<style  type=\"text/css\" >\n",
       "\n",
       "\n",
       "\n",
       "\n",
       "</style>\n",
       "<h1>Test - ScaleMISVM</h1>\n",
       "\n",
       "<table id=\"T_90805ddc_b338_11ea_85da_ad51b7e16146\" >\n",
       "<thead>\n",
       "    <tr>\n",
       "        <th class=\"blank level0\" ></th>\n",
       "        <th class=\"col_heading level0 col0\" >f1-score</th>\n",
       "        <th class=\"col_heading level0 col1\" >precision</th>\n",
       "        <th class=\"col_heading level0 col2\" >recall</th>\n",
       "        <th class=\"col_heading level0 col3\" >support</th>\n",
       "    </tr>\n",
       "</thead>\n",
       "<tbody>\n",
       "    \n",
       "    \n",
       "    \n",
       "    <tr>\n",
       "        \n",
       "        \n",
       "        <th id=\"T_90805ddc_b338_11ea_85da_ad51b7e16146level0_row0\" class=\"row_heading level0 row0\" >Benign</th>\n",
       "        \n",
       "        \n",
       "        <td id=\"T_90805ddc_b338_11ea_85da_ad51b7e16146row0_col0\" class=\"data row0 col0\" >0.67±0.15</td>\n",
       "        \n",
       "        \n",
       "        <td id=\"T_90805ddc_b338_11ea_85da_ad51b7e16146row0_col1\" class=\"data row0 col1\" >0.69±0.13</td>\n",
       "        \n",
       "        \n",
       "        <td id=\"T_90805ddc_b338_11ea_85da_ad51b7e16146row0_col2\" class=\"data row0 col2\" >0.66±0.17</td>\n",
       "        \n",
       "        \n",
       "        <td id=\"T_90805ddc_b338_11ea_85da_ad51b7e16146row0_col3\" class=\"data row0 col3\" >114.00±3.35</td>\n",
       "        \n",
       "    </tr>\n",
       "    \n",
       "    \n",
       "    <tr>\n",
       "        \n",
       "        \n",
       "        <th id=\"T_90805ddc_b338_11ea_85da_ad51b7e16146level0_row1\" class=\"row_heading level0 row1\" >Malignant</th>\n",
       "        \n",
       "        \n",
       "        <td id=\"T_90805ddc_b338_11ea_85da_ad51b7e16146row1_col0\" class=\"data row1 col0\" >0.74±0.10</td>\n",
       "        \n",
       "        \n",
       "        <td id=\"T_90805ddc_b338_11ea_85da_ad51b7e16146row1_col1\" class=\"data row1 col1\" >0.73±0.12</td>\n",
       "        \n",
       "        \n",
       "        <td id=\"T_90805ddc_b338_11ea_85da_ad51b7e16146row1_col2\" class=\"data row1 col2\" >0.75±0.09</td>\n",
       "        \n",
       "        \n",
       "        <td id=\"T_90805ddc_b338_11ea_85da_ad51b7e16146row1_col3\" class=\"data row1 col3\" >138.00±1.80</td>\n",
       "        \n",
       "    </tr>\n",
       "    \n",
       "    \n",
       "    <tr>\n",
       "        \n",
       "        \n",
       "        <th id=\"T_90805ddc_b338_11ea_85da_ad51b7e16146level0_row2\" class=\"row_heading level0 row2\" >accuracy</th>\n",
       "        \n",
       "        \n",
       "        <td id=\"T_90805ddc_b338_11ea_85da_ad51b7e16146row2_col0\" class=\"data row2 col0\" >0.71±0.12</td>\n",
       "        \n",
       "        \n",
       "        <td id=\"T_90805ddc_b338_11ea_85da_ad51b7e16146row2_col1\" class=\"data row2 col1\" >0.71±0.12</td>\n",
       "        \n",
       "        \n",
       "        <td id=\"T_90805ddc_b338_11ea_85da_ad51b7e16146row2_col2\" class=\"data row2 col2\" >0.71±0.12</td>\n",
       "        \n",
       "        \n",
       "        <td id=\"T_90805ddc_b338_11ea_85da_ad51b7e16146row2_col3\" class=\"data row2 col3\" >0.71±0.12</td>\n",
       "        \n",
       "    </tr>\n",
       "    \n",
       "    \n",
       "    <tr>\n",
       "        \n",
       "        \n",
       "        <th id=\"T_90805ddc_b338_11ea_85da_ad51b7e16146level0_row3\" class=\"row_heading level0 row3\" >macro avg</th>\n",
       "        \n",
       "        \n",
       "        <td id=\"T_90805ddc_b338_11ea_85da_ad51b7e16146row3_col0\" class=\"data row3 col0\" >0.71±0.12</td>\n",
       "        \n",
       "        \n",
       "        <td id=\"T_90805ddc_b338_11ea_85da_ad51b7e16146row3_col1\" class=\"data row3 col1\" >0.71±0.12</td>\n",
       "        \n",
       "        \n",
       "        <td id=\"T_90805ddc_b338_11ea_85da_ad51b7e16146row3_col2\" class=\"data row3 col2\" >0.71±0.12</td>\n",
       "        \n",
       "        \n",
       "        <td id=\"T_90805ddc_b338_11ea_85da_ad51b7e16146row3_col3\" class=\"data row3 col3\" >252.00±4.24</td>\n",
       "        \n",
       "    </tr>\n",
       "    \n",
       "    \n",
       "    <tr>\n",
       "        \n",
       "        \n",
       "        <th id=\"T_90805ddc_b338_11ea_85da_ad51b7e16146level0_row4\" class=\"row_heading level0 row4\" >weighted avg</th>\n",
       "        \n",
       "        \n",
       "        <td id=\"T_90805ddc_b338_11ea_85da_ad51b7e16146row4_col0\" class=\"data row4 col0\" >0.71±0.12</td>\n",
       "        \n",
       "        \n",
       "        <td id=\"T_90805ddc_b338_11ea_85da_ad51b7e16146row4_col1\" class=\"data row4 col1\" >0.71±0.12</td>\n",
       "        \n",
       "        \n",
       "        <td id=\"T_90805ddc_b338_11ea_85da_ad51b7e16146row4_col2\" class=\"data row4 col2\" >0.71±0.12</td>\n",
       "        \n",
       "        \n",
       "        <td id=\"T_90805ddc_b338_11ea_85da_ad51b7e16146row4_col3\" class=\"data row4 col3\" >252.00±4.24</td>\n",
       "        \n",
       "    </tr>\n",
       "    \n",
       "</tbody>\n",
       "</table>\n",
       "<br/>"
      ],
      "text/plain": [
       "<IPython.core.display.HTML object>"
      ]
     },
     "metadata": {},
     "output_type": "display_data"
    }
   ],
   "source": [
    "inputs = IO.load(weak_file)\n",
    "\n",
    "diagnosis_encoder = OrderedEncoder().fit(['Benign', 'Malignant'])\n",
    "\n",
    "# ROC Curve\n",
    "ViewsTools.plot_size((8,8))\n",
    "    \n",
    "for model in models:  \n",
    "    # Decompose model\n",
    "    model_name, model_process, model_params = model        \n",
    "    \n",
    "    name = model_name\n",
    "    # Label\n",
    "    display(HTML(ViewsTools.dataframe_renderer([Views.report(inputs, {'label_encode': 'DiagnosisEncode', 'eval': name}, diagnosis_encoder)],\n",
    "                                                                        title=[f'Test - {name}'])))\n",
    "    \n",
    "    name = f'Scale{model_name}'\n",
    "    display(HTML(ViewsTools.dataframe_renderer([Views.report(inputs, {'label_encode': 'DiagnosisEncode', 'eval': name}, diagnosis_encoder)],\n",
    "                                                                        title=[f'Test - {name}'])))"
   ]
  },
  {
   "cell_type": "code",
   "execution_count": null,
   "metadata": {},
   "outputs": [],
   "source": []
  }
 ],
 "metadata": {
  "kernelspec": {
   "display_name": "Python 3",
   "language": "python",
   "name": "python3"
  },
  "language_info": {
   "codemirror_mode": {
    "name": "ipython",
    "version": 3
   },
   "file_extension": ".py",
   "mimetype": "text/x-python",
   "name": "python",
   "nbconvert_exporter": "python",
   "pygments_lexer": "ipython3",
   "version": "3.6.7"
  },
  "varInspector": {
   "cols": {
    "lenName": 16,
    "lenType": 16,
    "lenVar": 40
   },
   "kernels_config": {
    "python": {
     "delete_cmd_postfix": "",
     "delete_cmd_prefix": "del ",
     "library": "var_list.py",
     "varRefreshCmd": "print(var_dic_list())"
    },
    "r": {
     "delete_cmd_postfix": ") ",
     "delete_cmd_prefix": "rm(",
     "library": "var_list.r",
     "varRefreshCmd": "cat(var_dic_list()) "
    }
   },
   "oldHeight": 479.78799999999995,
   "position": {
    "height": "40px",
    "left": "1406px",
    "right": "20px",
    "top": "134px",
    "width": "350px"
   },
   "types_to_exclude": [
    "module",
    "function",
    "builtin_function_or_method",
    "instance",
    "_Feature"
   ],
   "varInspector_section_display": "none",
   "window_display": true
  }
 },
 "nbformat": 4,
 "nbformat_minor": 2
}
