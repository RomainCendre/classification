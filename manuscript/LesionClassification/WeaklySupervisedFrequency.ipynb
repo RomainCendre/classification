{
 "cells": [
  {
   "cell_type": "markdown",
   "metadata": {},
   "source": [
    "# Imports"
   ]
  },
  {
   "cell_type": "code",
   "execution_count": 1,
   "metadata": {
    "pycharm": {
     "name": "#%%\n"
    },
    "run_control": {
     "marked": false
    }
   },
   "outputs": [
    {
     "name": "stderr",
     "output_type": "stream",
     "text": [
      "Using TensorFlow backend.\n"
     ]
    }
   ],
   "source": [
    "import sys\n",
    "sys.path.append('/home/rcendre/classification')\n",
    "from numpy import logspace\n",
    "from misvm import SIL, MISVM\n",
    "from sklearn.preprocessing import MinMaxScaler\n",
    "from toolbox.classification.common import Data,  IO, Tools\n",
    "from toolbox.classification.parameters import Settings\n",
    "from toolbox.models.models import CustomMIL\n",
    "from toolbox.transforms.labels import OrderedEncoder\n",
    "from toolbox.views.common import ViewsTools, Views\n",
    "import warnings\n",
    "warnings.filterwarnings('ignore') \n"
   ]
  },
  {
   "cell_type": "markdown",
   "metadata": {
    "pycharm": {
     "name": "#%% md\n"
    }
   },
   "source": [
    "# Parameters"
   ]
  },
  {
   "cell_type": "code",
   "execution_count": 2,
   "metadata": {
    "pycharm": {
     "name": "#%%\n"
    },
    "run_control": {
     "marked": false
    }
   },
   "outputs": [],
   "source": [
    "# Advanced parameters\n",
    "data_type = 'Full'\n",
    "extractor = 'Frequency'\n",
    "validation = 4\n",
    "settings = Settings.get_default_dermatology()"
   ]
  },
  {
   "cell_type": "markdown",
   "metadata": {
    "pycharm": {
     "name": "#%% md\n"
    }
   },
   "source": [
    "# Inputs"
   ]
  },
  {
   "cell_type": "code",
   "execution_count": 3,
   "metadata": {
    "pycharm": {
     "name": "#%%\n"
    },
    "run_control": {
     "marked": false
    }
   },
   "outputs": [],
   "source": [
    "inputs = IO.load(f'Features.pickle')"
   ]
  },
  {
   "cell_type": "code",
   "execution_count": 4,
   "metadata": {},
   "outputs": [],
   "source": [
    "inputs = inputs[(inputs['Binary_Diagnosis'] == 'Benign') |(inputs['Binary_Diagnosis'] == 'Malignant')].reset_index(drop=True)"
   ]
  },
  {
   "cell_type": "markdown",
   "metadata": {
    "pycharm": {
     "name": "#%% md\n"
    }
   },
   "source": [
    "# Model evaluation"
   ]
  },
  {
   "cell_type": "markdown",
   "metadata": {},
   "source": [
    "## Models"
   ]
  },
  {
   "cell_type": "code",
   "execution_count": 5,
   "metadata": {},
   "outputs": [],
   "source": [
    "models = []\n",
    "models.append(('SIL',\n",
    "               CustomMIL(SIL(kernel='linear', C=1.0, verbose=False)),\n",
    "               {'estimator__C': logspace(-2, 3, 6).tolist()}))\n",
    "models.append(('MISVM',\n",
    "               CustomMIL(MISVM(kernel='linear', C=1.0, verbose=False)),\n",
    "               {'estimator__C': logspace(-2, 3, 6).tolist()}))\n",
    "models.append(('ScaleSIL',\n",
    "               CustomMIL(SIL(kernel='linear', C=1.0, verbose=False), data_preparation=MinMaxScaler()),\n",
    "               {'estimator__C': logspace(-2, 3, 6).tolist()}))\n",
    "models.append(('ScaleMISVM',\n",
    "               CustomMIL(MISVM(kernel='linear', C=1.0, verbose=False), data_preparation=MinMaxScaler()),\n",
    "               {'estimator__C': logspace(-2, 3, 6).tolist()}))"
   ]
  },
  {
   "cell_type": "markdown",
   "metadata": {
    "pycharm": {
     "name": "#%% md\n"
    }
   },
   "source": [
    "# Scaling"
   ]
  },
  {
   "cell_type": "code",
   "execution_count": 6,
   "metadata": {
    "pycharm": {
     "name": "#%%\n"
    }
   },
   "outputs": [],
   "source": [
    "weak_file = f'Weak_Frequency.pickle'"
   ]
  },
  {
   "cell_type": "code",
   "execution_count": 8,
   "metadata": {},
   "outputs": [],
   "source": [
    "# Simple labels\n",
    "all_image = [True] * len(inputs.index)\n",
    "single_image = inputs['ID_Image'] == '0M'\n",
    "Data.build_bags(inputs, single_image, 'ID_Lesion', all_image, 'ID_Lesion', extractor)\n",
    "Data.build_bags(inputs, single_image, 'ID_Lesion', all_image, 'ID_Lesion', 'Scaled')\n",
    "inputs = inputs[single_image].reset_index()\n"
   ]
  },
  {
   "cell_type": "code",
   "execution_count": 10,
   "metadata": {},
   "outputs": [
    {
     "name": "stdout",
     "output_type": "stream",
     "text": [
      "Fold 0 performed...\r"
     ]
    },
    {
     "name": "stderr",
     "output_type": "stream",
     "text": [
      "Warning: termination of qp with status: unknown\n"
     ]
    },
    {
     "name": "stdout",
     "output_type": "stream",
     "text": [
      "Fold 1 performed...\r"
     ]
    },
    {
     "name": "stderr",
     "output_type": "stream",
     "text": [
      "Warning: termination of qp with status: unknown\n"
     ]
    },
    {
     "name": "stdout",
     "output_type": "stream",
     "text": [
      "Fold 2 performed...\r"
     ]
    },
    {
     "name": "stderr",
     "output_type": "stream",
     "text": [
      "Warning: termination of qp with status: unknown\n"
     ]
    },
    {
     "name": "stdout",
     "output_type": "stream",
     "text": [
      "Fold 3 performed...\r"
     ]
    },
    {
     "name": "stderr",
     "output_type": "stream",
     "text": [
      "Warning: termination of qp with status: unknown\n"
     ]
    },
    {
     "name": "stdout",
     "output_type": "stream",
     "text": [
      "Evaluation achieved!\r",
      "Fold 0 performed...\r"
     ]
    },
    {
     "name": "stderr",
     "output_type": "stream",
     "text": [
      "Warning: termination of qp with status: unknown\n",
      "Warning: termination of qp with status: unknown\n",
      "Warning: termination of qp with status: unknown\n",
      "Warning: termination of qp with status: unknown\n",
      "Warning: termination of qp with status: unknown\n",
      "Warning: termination of qp with status: unknown\n",
      "Warning: termination of qp with status: unknown\n",
      "Warning: termination of qp with status: unknown\n"
     ]
    },
    {
     "name": "stdout",
     "output_type": "stream",
     "text": [
      "Fold 1 performed...\r"
     ]
    },
    {
     "name": "stderr",
     "output_type": "stream",
     "text": [
      "Warning: termination of qp with status: unknown\n",
      "Warning: termination of qp with status: unknown\n",
      "Warning: termination of qp with status: unknown\n",
      "Warning: termination of qp with status: unknown\n",
      "Warning: termination of qp with status: unknown\n",
      "Warning: termination of qp with status: unknown\n",
      "Warning: termination of qp with status: unknown\n",
      "Warning: termination of qp with status: unknown\n",
      "Warning: termination of qp with status: unknown\n",
      "Warning: termination of qp with status: unknown\n",
      "Warning: termination of qp with status: unknown\n",
      "Warning: termination of qp with status: unknown\n",
      "Warning: termination of qp with status: unknown\n",
      "Warning: termination of qp with status: unknown\n",
      "Warning: termination of qp with status: unknown\n",
      "Warning: termination of qp with status: unknown\n",
      "Warning: termination of qp with status: unknown\n",
      "Warning: termination of qp with status: unknown\n",
      "Warning: termination of qp with status: unknown\n",
      "Warning: termination of qp with status: unknown\n",
      "Warning: termination of qp with status: unknown\n",
      "Warning: termination of qp with status: unknown\n",
      "Warning: termination of qp with status: unknown\n",
      "Warning: termination of qp with status: unknown\n"
     ]
    },
    {
     "name": "stdout",
     "output_type": "stream",
     "text": [
      "Fold 2 performed...\r"
     ]
    },
    {
     "name": "stderr",
     "output_type": "stream",
     "text": [
      "Warning: termination of qp with status: unknown\n",
      "Warning: termination of qp with status: unknown\n",
      "Warning: termination of qp with status: unknown\n",
      "Warning: termination of qp with status: unknown\n",
      "Warning: termination of qp with status: unknown\n"
     ]
    },
    {
     "name": "stdout",
     "output_type": "stream",
     "text": [
      "Evaluation achieved!\r"
     ]
    }
   ],
   "source": [
    "for model in models:\n",
    "    model_name, model_kernel,model_params = model\n",
    "    # MIL evaluation\n",
    "    Tools.evaluate(inputs, {'datum': extractor, 'label_encode': 'LesionEncode'}, model_kernel, model_name, distribution=model_params)\n",
    "\n",
    "    # Save\n",
    "    IO.save(inputs, weak_file)\n"
   ]
  },
  {
   "cell_type": "markdown",
   "metadata": {},
   "source": [
    "## Scores and ROC"
   ]
  },
  {
   "cell_type": "code",
   "execution_count": 12,
   "metadata": {
    "pycharm": {
     "name": "#%%\n"
    }
   },
   "outputs": [
    {
     "data": {
      "text/html": [
       "\n",
       "<style  type=\"text/css\" >\n",
       "\n",
       "\n",
       "\n",
       "\n",
       "</style>\n",
       "<h1>Test - SIL</h1>\n",
       "\n",
       "<table id=\"T_f964fa90_b718_11ea_81c3_09101f93ae22\" >\n",
       "<thead>\n",
       "    <tr>\n",
       "        <th class=\"blank level0\" ></th>\n",
       "        <th class=\"col_heading level0 col0\" >precision</th>\n",
       "        <th class=\"col_heading level0 col1\" >recall</th>\n",
       "        <th class=\"col_heading level0 col2\" >f1-score</th>\n",
       "        <th class=\"col_heading level0 col3\" >support</th>\n",
       "    </tr>\n",
       "</thead>\n",
       "<tbody>\n",
       "    \n",
       "    \n",
       "    \n",
       "    <tr>\n",
       "        \n",
       "        \n",
       "        <th id=\"T_f964fa90_b718_11ea_81c3_09101f93ae22level0_row0\" class=\"row_heading level0 row0\" >Benign</th>\n",
       "        \n",
       "        \n",
       "        <td id=\"T_f964fa90_b718_11ea_81c3_09101f93ae22row0_col0\" class=\"data row0 col0\" >0.75±0.33</td>\n",
       "        \n",
       "        \n",
       "        <td id=\"T_f964fa90_b718_11ea_81c3_09101f93ae22row0_col1\" class=\"data row0 col1\" >0.21±0.15</td>\n",
       "        \n",
       "        \n",
       "        <td id=\"T_f964fa90_b718_11ea_81c3_09101f93ae22row0_col2\" class=\"data row0 col2\" >0.33±0.19</td>\n",
       "        \n",
       "        \n",
       "        <td id=\"T_f964fa90_b718_11ea_81c3_09101f93ae22row0_col3\" class=\"data row0 col3\" >86.00±6.18</td>\n",
       "        \n",
       "    </tr>\n",
       "    \n",
       "    \n",
       "    <tr>\n",
       "        \n",
       "        \n",
       "        <th id=\"T_f964fa90_b718_11ea_81c3_09101f93ae22level0_row1\" class=\"row_heading level0 row1\" >Malignant</th>\n",
       "        \n",
       "        \n",
       "        <td id=\"T_f964fa90_b718_11ea_81c3_09101f93ae22row1_col0\" class=\"data row1 col0\" >0.66±0.09</td>\n",
       "        \n",
       "        \n",
       "        <td id=\"T_f964fa90_b718_11ea_81c3_09101f93ae22row1_col1\" class=\"data row1 col1\" >0.96±0.03</td>\n",
       "        \n",
       "        \n",
       "        <td id=\"T_f964fa90_b718_11ea_81c3_09101f93ae22row1_col2\" class=\"data row1 col2\" >0.78±0.06</td>\n",
       "        \n",
       "        \n",
       "        <td id=\"T_f964fa90_b718_11ea_81c3_09101f93ae22row1_col3\" class=\"data row1 col3\" >138.00±4.56</td>\n",
       "        \n",
       "    </tr>\n",
       "    \n",
       "    \n",
       "    <tr>\n",
       "        \n",
       "        \n",
       "        <th id=\"T_f964fa90_b718_11ea_81c3_09101f93ae22level0_row2\" class=\"row_heading level0 row2\" >accuracy</th>\n",
       "        \n",
       "        \n",
       "        <td id=\"T_f964fa90_b718_11ea_81c3_09101f93ae22row2_col0\" class=\"data row2 col0\" >0.67±0.07</td>\n",
       "        \n",
       "        \n",
       "        <td id=\"T_f964fa90_b718_11ea_81c3_09101f93ae22row2_col1\" class=\"data row2 col1\" >0.67±0.07</td>\n",
       "        \n",
       "        \n",
       "        <td id=\"T_f964fa90_b718_11ea_81c3_09101f93ae22row2_col2\" class=\"data row2 col2\" >0.67±0.07</td>\n",
       "        \n",
       "        \n",
       "        <td id=\"T_f964fa90_b718_11ea_81c3_09101f93ae22row2_col3\" class=\"data row2 col3\" >0.67±0.07</td>\n",
       "        \n",
       "    </tr>\n",
       "    \n",
       "    \n",
       "    <tr>\n",
       "        \n",
       "        \n",
       "        <th id=\"T_f964fa90_b718_11ea_81c3_09101f93ae22level0_row3\" class=\"row_heading level0 row3\" >macro avg</th>\n",
       "        \n",
       "        \n",
       "        <td id=\"T_f964fa90_b718_11ea_81c3_09101f93ae22row3_col0\" class=\"data row3 col0\" >0.71±0.18</td>\n",
       "        \n",
       "        \n",
       "        <td id=\"T_f964fa90_b718_11ea_81c3_09101f93ae22row3_col1\" class=\"data row3 col1\" >0.58±0.06</td>\n",
       "        \n",
       "        \n",
       "        <td id=\"T_f964fa90_b718_11ea_81c3_09101f93ae22row3_col2\" class=\"data row3 col2\" >0.55±0.11</td>\n",
       "        \n",
       "        \n",
       "        <td id=\"T_f964fa90_b718_11ea_81c3_09101f93ae22row3_col3\" class=\"data row3 col3\" >224.00±4.30</td>\n",
       "        \n",
       "    </tr>\n",
       "    \n",
       "    \n",
       "    <tr>\n",
       "        \n",
       "        \n",
       "        <th id=\"T_f964fa90_b718_11ea_81c3_09101f93ae22level0_row4\" class=\"row_heading level0 row4\" >weighted avg</th>\n",
       "        \n",
       "        \n",
       "        <td id=\"T_f964fa90_b718_11ea_81c3_09101f93ae22row4_col0\" class=\"data row4 col0\" >0.69±0.16</td>\n",
       "        \n",
       "        \n",
       "        <td id=\"T_f964fa90_b718_11ea_81c3_09101f93ae22row4_col1\" class=\"data row4 col1\" >0.67±0.07</td>\n",
       "        \n",
       "        \n",
       "        <td id=\"T_f964fa90_b718_11ea_81c3_09101f93ae22row4_col2\" class=\"data row4 col2\" >0.61±0.11</td>\n",
       "        \n",
       "        \n",
       "        <td id=\"T_f964fa90_b718_11ea_81c3_09101f93ae22row4_col3\" class=\"data row4 col3\" >224.00±4.30</td>\n",
       "        \n",
       "    </tr>\n",
       "    \n",
       "</tbody>\n",
       "</table>\n",
       "<br/>"
      ],
      "text/plain": [
       "<IPython.core.display.HTML object>"
      ]
     },
     "metadata": {},
     "output_type": "display_data"
    },
    {
     "data": {
      "text/html": [
       "\n",
       "<style  type=\"text/css\" >\n",
       "\n",
       "\n",
       "\n",
       "\n",
       "</style>\n",
       "<h1>Test - ScaleSIL</h1>\n",
       "\n",
       "<table id=\"T_f96b8d9c_b718_11ea_81c3_09101f93ae22\" >\n",
       "<thead>\n",
       "    <tr>\n",
       "        <th class=\"blank level0\" ></th>\n",
       "        <th class=\"col_heading level0 col0\" >precision</th>\n",
       "        <th class=\"col_heading level0 col1\" >recall</th>\n",
       "        <th class=\"col_heading level0 col2\" >f1-score</th>\n",
       "        <th class=\"col_heading level0 col3\" >support</th>\n",
       "    </tr>\n",
       "</thead>\n",
       "<tbody>\n",
       "    \n",
       "    \n",
       "    \n",
       "    <tr>\n",
       "        \n",
       "        \n",
       "        <th id=\"T_f96b8d9c_b718_11ea_81c3_09101f93ae22level0_row0\" class=\"row_heading level0 row0\" >Benign</th>\n",
       "        \n",
       "        \n",
       "        <td id=\"T_f96b8d9c_b718_11ea_81c3_09101f93ae22row0_col0\" class=\"data row0 col0\" >0.59±0.27</td>\n",
       "        \n",
       "        \n",
       "        <td id=\"T_f96b8d9c_b718_11ea_81c3_09101f93ae22row0_col1\" class=\"data row0 col1\" >0.12±0.25</td>\n",
       "        \n",
       "        \n",
       "        <td id=\"T_f96b8d9c_b718_11ea_81c3_09101f93ae22row0_col2\" class=\"data row0 col2\" >0.19±0.26</td>\n",
       "        \n",
       "        \n",
       "        <td id=\"T_f96b8d9c_b718_11ea_81c3_09101f93ae22row0_col3\" class=\"data row0 col3\" >86.00±6.18</td>\n",
       "        \n",
       "    </tr>\n",
       "    \n",
       "    \n",
       "    <tr>\n",
       "        \n",
       "        \n",
       "        <th id=\"T_f96b8d9c_b718_11ea_81c3_09101f93ae22level0_row1\" class=\"row_heading level0 row1\" >Malignant</th>\n",
       "        \n",
       "        \n",
       "        <td id=\"T_f96b8d9c_b718_11ea_81c3_09101f93ae22row1_col0\" class=\"data row1 col0\" >0.63±0.13</td>\n",
       "        \n",
       "        \n",
       "        <td id=\"T_f96b8d9c_b718_11ea_81c3_09101f93ae22row1_col1\" class=\"data row1 col1\" >0.95±0.06</td>\n",
       "        \n",
       "        \n",
       "        <td id=\"T_f96b8d9c_b718_11ea_81c3_09101f93ae22row1_col2\" class=\"data row1 col2\" >0.76±0.07</td>\n",
       "        \n",
       "        \n",
       "        <td id=\"T_f96b8d9c_b718_11ea_81c3_09101f93ae22row1_col3\" class=\"data row1 col3\" >138.00±4.56</td>\n",
       "        \n",
       "    </tr>\n",
       "    \n",
       "    \n",
       "    <tr>\n",
       "        \n",
       "        \n",
       "        <th id=\"T_f96b8d9c_b718_11ea_81c3_09101f93ae22level0_row2\" class=\"row_heading level0 row2\" >accuracy</th>\n",
       "        \n",
       "        \n",
       "        <td id=\"T_f96b8d9c_b718_11ea_81c3_09101f93ae22row2_col0\" class=\"data row2 col0\" >0.63±0.11</td>\n",
       "        \n",
       "        \n",
       "        <td id=\"T_f96b8d9c_b718_11ea_81c3_09101f93ae22row2_col1\" class=\"data row2 col1\" >0.63±0.11</td>\n",
       "        \n",
       "        \n",
       "        <td id=\"T_f96b8d9c_b718_11ea_81c3_09101f93ae22row2_col2\" class=\"data row2 col2\" >0.63±0.11</td>\n",
       "        \n",
       "        \n",
       "        <td id=\"T_f96b8d9c_b718_11ea_81c3_09101f93ae22row2_col3\" class=\"data row2 col3\" >0.63±0.11</td>\n",
       "        \n",
       "    </tr>\n",
       "    \n",
       "    \n",
       "    <tr>\n",
       "        \n",
       "        \n",
       "        <th id=\"T_f96b8d9c_b718_11ea_81c3_09101f93ae22level0_row3\" class=\"row_heading level0 row3\" >macro avg</th>\n",
       "        \n",
       "        \n",
       "        <td id=\"T_f96b8d9c_b718_11ea_81c3_09101f93ae22row3_col0\" class=\"data row3 col0\" >0.61±0.19</td>\n",
       "        \n",
       "        \n",
       "        <td id=\"T_f96b8d9c_b718_11ea_81c3_09101f93ae22row3_col1\" class=\"data row3 col1\" >0.53±0.10</td>\n",
       "        \n",
       "        \n",
       "        <td id=\"T_f96b8d9c_b718_11ea_81c3_09101f93ae22row3_col2\" class=\"data row3 col2\" >0.48±0.16</td>\n",
       "        \n",
       "        \n",
       "        <td id=\"T_f96b8d9c_b718_11ea_81c3_09101f93ae22row3_col3\" class=\"data row3 col3\" >224.00±4.30</td>\n",
       "        \n",
       "    </tr>\n",
       "    \n",
       "    \n",
       "    <tr>\n",
       "        \n",
       "        \n",
       "        <th id=\"T_f96b8d9c_b718_11ea_81c3_09101f93ae22level0_row4\" class=\"row_heading level0 row4\" >weighted avg</th>\n",
       "        \n",
       "        \n",
       "        <td id=\"T_f96b8d9c_b718_11ea_81c3_09101f93ae22row4_col0\" class=\"data row4 col0\" >0.62±0.20</td>\n",
       "        \n",
       "        \n",
       "        <td id=\"T_f96b8d9c_b718_11ea_81c3_09101f93ae22row4_col1\" class=\"data row4 col1\" >0.63±0.11</td>\n",
       "        \n",
       "        \n",
       "        <td id=\"T_f96b8d9c_b718_11ea_81c3_09101f93ae22row4_col2\" class=\"data row4 col2\" >0.54±0.17</td>\n",
       "        \n",
       "        \n",
       "        <td id=\"T_f96b8d9c_b718_11ea_81c3_09101f93ae22row4_col3\" class=\"data row4 col3\" >224.00±4.30</td>\n",
       "        \n",
       "    </tr>\n",
       "    \n",
       "</tbody>\n",
       "</table>\n",
       "<br/>"
      ],
      "text/plain": [
       "<IPython.core.display.HTML object>"
      ]
     },
     "metadata": {},
     "output_type": "display_data"
    },
    {
     "data": {
      "text/html": [
       "\n",
       "<style  type=\"text/css\" >\n",
       "\n",
       "\n",
       "\n",
       "\n",
       "</style>\n",
       "<h1>Test - MISVM</h1>\n",
       "\n",
       "<table id=\"T_f96ee442_b718_11ea_81c3_09101f93ae22\" >\n",
       "<thead>\n",
       "    <tr>\n",
       "        <th class=\"blank level0\" ></th>\n",
       "        <th class=\"col_heading level0 col0\" >precision</th>\n",
       "        <th class=\"col_heading level0 col1\" >recall</th>\n",
       "        <th class=\"col_heading level0 col2\" >f1-score</th>\n",
       "        <th class=\"col_heading level0 col3\" >support</th>\n",
       "    </tr>\n",
       "</thead>\n",
       "<tbody>\n",
       "    \n",
       "    \n",
       "    \n",
       "    <tr>\n",
       "        \n",
       "        \n",
       "        <th id=\"T_f96ee442_b718_11ea_81c3_09101f93ae22level0_row0\" class=\"row_heading level0 row0\" >Benign</th>\n",
       "        \n",
       "        \n",
       "        <td id=\"T_f96ee442_b718_11ea_81c3_09101f93ae22row0_col0\" class=\"data row0 col0\" >0.67±0.15</td>\n",
       "        \n",
       "        \n",
       "        <td id=\"T_f96ee442_b718_11ea_81c3_09101f93ae22row0_col1\" class=\"data row0 col1\" >0.74±0.08</td>\n",
       "        \n",
       "        \n",
       "        <td id=\"T_f96ee442_b718_11ea_81c3_09101f93ae22row0_col2\" class=\"data row0 col2\" >0.70±0.11</td>\n",
       "        \n",
       "        \n",
       "        <td id=\"T_f96ee442_b718_11ea_81c3_09101f93ae22row0_col3\" class=\"data row0 col3\" >86.00±6.18</td>\n",
       "        \n",
       "    </tr>\n",
       "    \n",
       "    \n",
       "    <tr>\n",
       "        \n",
       "        \n",
       "        <th id=\"T_f96ee442_b718_11ea_81c3_09101f93ae22level0_row1\" class=\"row_heading level0 row1\" >Malignant</th>\n",
       "        \n",
       "        \n",
       "        <td id=\"T_f96ee442_b718_11ea_81c3_09101f93ae22row1_col0\" class=\"data row1 col0\" >0.83±0.05</td>\n",
       "        \n",
       "        \n",
       "        <td id=\"T_f96ee442_b718_11ea_81c3_09101f93ae22row1_col1\" class=\"data row1 col1\" >0.77±0.11</td>\n",
       "        \n",
       "        \n",
       "        <td id=\"T_f96ee442_b718_11ea_81c3_09101f93ae22row1_col2\" class=\"data row1 col2\" >0.80±0.08</td>\n",
       "        \n",
       "        \n",
       "        <td id=\"T_f96ee442_b718_11ea_81c3_09101f93ae22row1_col3\" class=\"data row1 col3\" >138.00±4.56</td>\n",
       "        \n",
       "    </tr>\n",
       "    \n",
       "    \n",
       "    <tr>\n",
       "        \n",
       "        \n",
       "        <th id=\"T_f96ee442_b718_11ea_81c3_09101f93ae22level0_row2\" class=\"row_heading level0 row2\" >accuracy</th>\n",
       "        \n",
       "        \n",
       "        <td id=\"T_f96ee442_b718_11ea_81c3_09101f93ae22row2_col0\" class=\"data row2 col0\" >0.76±0.07</td>\n",
       "        \n",
       "        \n",
       "        <td id=\"T_f96ee442_b718_11ea_81c3_09101f93ae22row2_col1\" class=\"data row2 col1\" >0.76±0.07</td>\n",
       "        \n",
       "        \n",
       "        <td id=\"T_f96ee442_b718_11ea_81c3_09101f93ae22row2_col2\" class=\"data row2 col2\" >0.76±0.07</td>\n",
       "        \n",
       "        \n",
       "        <td id=\"T_f96ee442_b718_11ea_81c3_09101f93ae22row2_col3\" class=\"data row2 col3\" >0.76±0.07</td>\n",
       "        \n",
       "    </tr>\n",
       "    \n",
       "    \n",
       "    <tr>\n",
       "        \n",
       "        \n",
       "        <th id=\"T_f96ee442_b718_11ea_81c3_09101f93ae22level0_row3\" class=\"row_heading level0 row3\" >macro avg</th>\n",
       "        \n",
       "        \n",
       "        <td id=\"T_f96ee442_b718_11ea_81c3_09101f93ae22row3_col0\" class=\"data row3 col0\" >0.75±0.09</td>\n",
       "        \n",
       "        \n",
       "        <td id=\"T_f96ee442_b718_11ea_81c3_09101f93ae22row3_col1\" class=\"data row3 col1\" >0.76±0.07</td>\n",
       "        \n",
       "        \n",
       "        <td id=\"T_f96ee442_b718_11ea_81c3_09101f93ae22row3_col2\" class=\"data row3 col2\" >0.75±0.08</td>\n",
       "        \n",
       "        \n",
       "        <td id=\"T_f96ee442_b718_11ea_81c3_09101f93ae22row3_col3\" class=\"data row3 col3\" >224.00±4.30</td>\n",
       "        \n",
       "    </tr>\n",
       "    \n",
       "    \n",
       "    <tr>\n",
       "        \n",
       "        \n",
       "        <th id=\"T_f96ee442_b718_11ea_81c3_09101f93ae22level0_row4\" class=\"row_heading level0 row4\" >weighted avg</th>\n",
       "        \n",
       "        \n",
       "        <td id=\"T_f96ee442_b718_11ea_81c3_09101f93ae22row4_col0\" class=\"data row4 col0\" >0.77±0.07</td>\n",
       "        \n",
       "        \n",
       "        <td id=\"T_f96ee442_b718_11ea_81c3_09101f93ae22row4_col1\" class=\"data row4 col1\" >0.76±0.07</td>\n",
       "        \n",
       "        \n",
       "        <td id=\"T_f96ee442_b718_11ea_81c3_09101f93ae22row4_col2\" class=\"data row4 col2\" >0.76±0.07</td>\n",
       "        \n",
       "        \n",
       "        <td id=\"T_f96ee442_b718_11ea_81c3_09101f93ae22row4_col3\" class=\"data row4 col3\" >224.00±4.30</td>\n",
       "        \n",
       "    </tr>\n",
       "    \n",
       "</tbody>\n",
       "</table>\n",
       "<br/>"
      ],
      "text/plain": [
       "<IPython.core.display.HTML object>"
      ]
     },
     "metadata": {},
     "output_type": "display_data"
    },
    {
     "data": {
      "text/html": [
       "\n",
       "<style  type=\"text/css\" >\n",
       "\n",
       "\n",
       "\n",
       "\n",
       "</style>\n",
       "<h1>Test - ScaleMISVM</h1>\n",
       "\n",
       "<table id=\"T_f97241dc_b718_11ea_81c3_09101f93ae22\" >\n",
       "<thead>\n",
       "    <tr>\n",
       "        <th class=\"blank level0\" ></th>\n",
       "        <th class=\"col_heading level0 col0\" >precision</th>\n",
       "        <th class=\"col_heading level0 col1\" >recall</th>\n",
       "        <th class=\"col_heading level0 col2\" >f1-score</th>\n",
       "        <th class=\"col_heading level0 col3\" >support</th>\n",
       "    </tr>\n",
       "</thead>\n",
       "<tbody>\n",
       "    \n",
       "    \n",
       "    \n",
       "    <tr>\n",
       "        \n",
       "        \n",
       "        <th id=\"T_f97241dc_b718_11ea_81c3_09101f93ae22level0_row0\" class=\"row_heading level0 row0\" >Benign</th>\n",
       "        \n",
       "        \n",
       "        <td id=\"T_f97241dc_b718_11ea_81c3_09101f93ae22row0_col0\" class=\"data row0 col0\" >0.69±0.09</td>\n",
       "        \n",
       "        \n",
       "        <td id=\"T_f97241dc_b718_11ea_81c3_09101f93ae22row0_col1\" class=\"data row0 col1\" >0.64±0.26</td>\n",
       "        \n",
       "        \n",
       "        <td id=\"T_f97241dc_b718_11ea_81c3_09101f93ae22row0_col2\" class=\"data row0 col2\" >0.66±0.20</td>\n",
       "        \n",
       "        \n",
       "        <td id=\"T_f97241dc_b718_11ea_81c3_09101f93ae22row0_col3\" class=\"data row0 col3\" >86.00±6.18</td>\n",
       "        \n",
       "    </tr>\n",
       "    \n",
       "    \n",
       "    <tr>\n",
       "        \n",
       "        \n",
       "        <th id=\"T_f97241dc_b718_11ea_81c3_09101f93ae22level0_row1\" class=\"row_heading level0 row1\" >Malignant</th>\n",
       "        \n",
       "        \n",
       "        <td id=\"T_f97241dc_b718_11ea_81c3_09101f93ae22row1_col0\" class=\"data row1 col0\" >0.78±0.04</td>\n",
       "        \n",
       "        \n",
       "        <td id=\"T_f97241dc_b718_11ea_81c3_09101f93ae22row1_col1\" class=\"data row1 col1\" >0.82±0.12</td>\n",
       "        \n",
       "        \n",
       "        <td id=\"T_f97241dc_b718_11ea_81c3_09101f93ae22row1_col2\" class=\"data row1 col2\" >0.80±0.05</td>\n",
       "        \n",
       "        \n",
       "        <td id=\"T_f97241dc_b718_11ea_81c3_09101f93ae22row1_col3\" class=\"data row1 col3\" >138.00±4.56</td>\n",
       "        \n",
       "    </tr>\n",
       "    \n",
       "    \n",
       "    <tr>\n",
       "        \n",
       "        \n",
       "        <th id=\"T_f97241dc_b718_11ea_81c3_09101f93ae22level0_row2\" class=\"row_heading level0 row2\" >accuracy</th>\n",
       "        \n",
       "        \n",
       "        <td id=\"T_f97241dc_b718_11ea_81c3_09101f93ae22row2_col0\" class=\"data row2 col0\" >0.75±0.03</td>\n",
       "        \n",
       "        \n",
       "        <td id=\"T_f97241dc_b718_11ea_81c3_09101f93ae22row2_col1\" class=\"data row2 col1\" >0.75±0.03</td>\n",
       "        \n",
       "        \n",
       "        <td id=\"T_f97241dc_b718_11ea_81c3_09101f93ae22row2_col2\" class=\"data row2 col2\" >0.75±0.03</td>\n",
       "        \n",
       "        \n",
       "        <td id=\"T_f97241dc_b718_11ea_81c3_09101f93ae22row2_col3\" class=\"data row2 col3\" >0.75±0.03</td>\n",
       "        \n",
       "    </tr>\n",
       "    \n",
       "    \n",
       "    <tr>\n",
       "        \n",
       "        \n",
       "        <th id=\"T_f97241dc_b718_11ea_81c3_09101f93ae22level0_row3\" class=\"row_heading level0 row3\" >macro avg</th>\n",
       "        \n",
       "        \n",
       "        <td id=\"T_f97241dc_b718_11ea_81c3_09101f93ae22row3_col0\" class=\"data row3 col0\" >0.74±0.06</td>\n",
       "        \n",
       "        \n",
       "        <td id=\"T_f97241dc_b718_11ea_81c3_09101f93ae22row3_col1\" class=\"data row3 col1\" >0.73±0.09</td>\n",
       "        \n",
       "        \n",
       "        <td id=\"T_f97241dc_b718_11ea_81c3_09101f93ae22row3_col2\" class=\"data row3 col2\" >0.73±0.09</td>\n",
       "        \n",
       "        \n",
       "        <td id=\"T_f97241dc_b718_11ea_81c3_09101f93ae22row3_col3\" class=\"data row3 col3\" >224.00±4.30</td>\n",
       "        \n",
       "    </tr>\n",
       "    \n",
       "    \n",
       "    <tr>\n",
       "        \n",
       "        \n",
       "        <th id=\"T_f97241dc_b718_11ea_81c3_09101f93ae22level0_row4\" class=\"row_heading level0 row4\" >weighted avg</th>\n",
       "        \n",
       "        \n",
       "        <td id=\"T_f97241dc_b718_11ea_81c3_09101f93ae22row4_col0\" class=\"data row4 col0\" >0.75±0.04</td>\n",
       "        \n",
       "        \n",
       "        <td id=\"T_f97241dc_b718_11ea_81c3_09101f93ae22row4_col1\" class=\"data row4 col1\" >0.75±0.03</td>\n",
       "        \n",
       "        \n",
       "        <td id=\"T_f97241dc_b718_11ea_81c3_09101f93ae22row4_col2\" class=\"data row4 col2\" >0.75±0.05</td>\n",
       "        \n",
       "        \n",
       "        <td id=\"T_f97241dc_b718_11ea_81c3_09101f93ae22row4_col3\" class=\"data row4 col3\" >224.00±4.30</td>\n",
       "        \n",
       "    </tr>\n",
       "    \n",
       "</tbody>\n",
       "</table>\n",
       "<br/>"
      ],
      "text/plain": [
       "<IPython.core.display.HTML object>"
      ]
     },
     "metadata": {},
     "output_type": "display_data"
    }
   ],
   "source": [
    "from IPython.display import HTML\n",
    "from IPython.display import display\n",
    "\n",
    "inputs = IO.load(weak_file)\n",
    "\n",
    "diagnosis_encoder = OrderedEncoder().fit(['Benign', 'Malignant'])\n",
    "\n",
    "# ROC Curve\n",
    "ViewsTools.plot_size((8,8))\n",
    "    \n",
    "for model in models:  \n",
    "    # Decompose model\n",
    "    model_name, model_process, model_params = model        \n",
    "    \n",
    "    name = model_name\n",
    "    # Label\n",
    "    display(HTML(ViewsTools.dataframe_renderer([Views.report(inputs, {'label_encode': 'LesionEncode', 'eval': name}, diagnosis_encoder)],\n",
    "                                                                        title=[f'Test - {name}'])))\n",
    "    \n",
    "    name = f'Scale{model_name}'\n",
    "    display(HTML(ViewsTools.dataframe_renderer([Views.report(inputs, {'label_encode': 'LesionEncode', 'eval': name}, diagnosis_encoder)],\n",
    "                                                                        title=[f'Test - {name}'])))"
   ]
  }
 ],
 "metadata": {
  "kernelspec": {
   "display_name": "Python 3",
   "language": "python",
   "name": "python3"
  },
  "language_info": {
   "codemirror_mode": {
    "name": "ipython",
    "version": 3
   },
   "file_extension": ".py",
   "mimetype": "text/x-python",
   "name": "python",
   "nbconvert_exporter": "python",
   "pygments_lexer": "ipython3",
   "version": "3.7.6"
  },
  "pycharm": {
   "stem_cell": {
    "cell_type": "raw",
    "source": [],
    "metadata": {
     "collapsed": false
    }
   }
  },
  "varInspector": {
   "cols": {
    "lenName": 16,
    "lenType": 16,
    "lenVar": 40
   },
   "kernels_config": {
    "python": {
     "delete_cmd_postfix": "",
     "delete_cmd_prefix": "del ",
     "library": "var_list.py",
     "varRefreshCmd": "print(var_dic_list())"
    },
    "r": {
     "delete_cmd_postfix": ") ",
     "delete_cmd_prefix": "rm(",
     "library": "var_list.r",
     "varRefreshCmd": "cat(var_dic_list()) "
    }
   },
   "oldHeight": 479.78799999999995,
   "position": {
    "height": "40px",
    "left": "1406px",
    "right": "20px",
    "top": "134px",
    "width": "350px"
   },
   "types_to_exclude": [
    "module",
    "function",
    "builtin_function_or_method",
    "instance",
    "_Feature"
   ],
   "varInspector_section_display": "none",
   "window_display": true
  }
 },
 "nbformat": 4,
 "nbformat_minor": 2
}