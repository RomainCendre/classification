{
 "cells": [
  {
   "cell_type": "markdown",
   "metadata": {},
   "source": [
    "# Imports"
   ]
  },
  {
   "cell_type": "code",
   "execution_count": null,
   "metadata": {
    "pycharm": {
     "name": "#%%\n"
    },
    "run_control": {
     "marked": false
    }
   },
   "outputs": [],
   "source": [
    "import sys\n",
    "sys.path.append('/home/rcendre/classification')\n",
    "from numpy import logspace, concatenate\n",
    "from misvm import SIL, MICA, MISVM, miSVM, NSK, stMIL, sMIL, sbMIL, STK\n",
    "from sklearn.preprocessing import MinMaxScaler\n",
    "from toolbox.classification.common import Data,  IO, Tools\n",
    "from toolbox.classification.parameters import Settings\n",
    "from toolbox.models.models import CustomMIL\n",
    "from toolbox.transforms.labels import OrderedEncoder\n",
    "from toolbox.views.common import ViewsTools, Views\n",
    "import warnings\n",
    "warnings.filterwarnings('ignore') "
   ]
  },
  {
   "cell_type": "markdown",
   "metadata": {
    "pycharm": {
     "name": "#%% md\n"
    }
   },
   "source": [
    "# Parameters"
   ]
  },
  {
   "cell_type": "code",
   "execution_count": null,
   "metadata": {
    "pycharm": {
     "name": "#%%\n"
    },
    "run_control": {
     "marked": false
    }
   },
   "outputs": [],
   "source": [
    "# Advanced parameters\n",
    "data_type = 'Full'\n",
    "extractor = 'Frequency'\n",
    "settings = Settings.get_default_dermatology()"
   ]
  },
  {
   "cell_type": "markdown",
   "metadata": {
    "pycharm": {
     "name": "#%% md\n"
    }
   },
   "source": [
    "# Inputs"
   ]
  },
  {
   "cell_type": "code",
   "execution_count": null,
   "metadata": {
    "pycharm": {
     "name": "#%%\n"
    },
    "run_control": {
     "marked": false
    }
   },
   "outputs": [],
   "source": [
    "inputs_instances = IO.load(f'Features.pickle')\n",
    "inputs_bags = IO.load(f'Features.pickle')"
   ]
  },
  {
   "cell_type": "code",
   "execution_count": null,
   "metadata": {},
   "outputs": [],
   "source": [
    "inputs_instances = inputs_instances[(inputs_instances['Binary_Diagnosis'] == 'Benign') |(inputs_instances['Binary_Diagnosis'] == 'Malignant')].reset_index(drop=True)"
   ]
  },
  {
   "cell_type": "code",
   "execution_count": null,
   "metadata": {},
   "outputs": [],
   "source": [
    "inputs_bags = inputs_bags[(inputs_bags['Binary_Diagnosis'] == 'Benign') |(inputs_bags['Binary_Diagnosis'] == 'Malignant')].reset_index(drop=True)"
   ]
  },
  {
   "cell_type": "markdown",
   "metadata": {
    "pycharm": {
     "name": "#%% md\n"
    }
   },
   "source": [
    "# Model evaluation"
   ]
  },
  {
   "cell_type": "markdown",
   "metadata": {},
   "source": [
    "## Models"
   ]
  },
  {
   "cell_type": "code",
   "execution_count": null,
   "metadata": {},
   "outputs": [],
   "source": [
    "models = []\n",
    "models.append(('MISVM',\n",
    "               CustomMIL(MISVM(kernel='linear', C=1.0, verbose=False)),\n",
    "               {'estimator__C': logspace(-2, 3, 6).tolist()}))\n",
    "models.append(('Scale_MISVM',\n",
    "               CustomMIL(MISVM(kernel='linear', C=1.0, verbose=False), data_preparation=MinMaxScaler()),\n",
    "               {'estimator__C': logspace(-2, 3, 6).tolist()}))"
   ]
  },
  {
   "cell_type": "code",
   "execution_count": null,
   "metadata": {
    "pycharm": {
     "name": "#%%\n"
    }
   },
   "outputs": [],
   "source": [
    "weak_file = f'Weak_Frequency_Instances.pickle'"
   ]
  },
  {
   "cell_type": "code",
   "execution_count": null,
   "metadata": {},
   "outputs": [],
   "source": [
    "# Simple labels\n",
    "all_image = [True] * len(inputs_bags.index)\n",
    "single_image = inputs_bags['ID_Image'] == '0M'\n",
    "Data.build_bags(inputs_bags, single_image, 'ID_Lesion', all_image, 'ID_Lesion', extractor)\n",
    "inputs_bags = inputs_bags[single_image].reset_index()"
   ]
  },
  {
   "cell_type": "code",
   "execution_count": null,
   "metadata": {},
   "outputs": [],
   "source": [
    "# for model in models:\n",
    "#     model_name, model_kernel,model_params = model\n",
    "#     # MIL evaluation\n",
    "#     Tools.evaluate(inputs_bags, {'datum': extractor, 'label_encode': 'LesionEncode'}, model_kernel, model_name, distribution=model_params, instance=True)\n",
    "\n",
    "# for model in models:\n",
    "#     model_name, model_kernel,model_params = model\n",
    "#     inputs_instances[f'{model_name}_Prediction'] = concatenate(inputs_bags[f'{model_name}_Prediction'])\n",
    "#     inputs_instances[f'{model_name}_Probability'] = [x for x in concatenate(inputs_bags[f'{model_name}_Probability'])]\n",
    "\n",
    "# # Save\n",
    "# IO.save(inputs_instances, weak_file)"
   ]
  },
  {
   "cell_type": "markdown",
   "metadata": {},
   "source": [
    "## Scores and ROC"
   ]
  },
  {
   "cell_type": "code",
   "execution_count": null,
   "metadata": {
    "pycharm": {
     "name": "#%%\n"
    }
   },
   "outputs": [],
   "source": [
    "from IPython.display import HTML\n",
    "from IPython.display import display\n",
    "\n",
    "inputs_inst = IO.load(weak_file)\n",
    "inputs_inst = inputs_inst[inputs_inst['Label']!='Unknown'].reset_index(drop=True)\n",
    "\n",
    "malignant_encoder = OrderedEncoder().fit(['Rest', 'Malignant'])\n",
    "Tools.transform(inputs_inst, {'datum': 'Malignant'}, malignant_encoder, 'MalignantEncode')\n",
    "\n",
    "# ROC Curve\n",
    "ViewsTools.plot_size((8,8))\n",
    "    \n",
    "for model in models:  \n",
    "    # Decompose model\n",
    "    model_name, model_process, model_params = model        \n",
    "    \n",
    "    name = model_name\n",
    "    # Label\n",
    "    display(HTML(ViewsTools.dataframe_renderer([Views.report(inputs_inst, {'label_encode': 'MalignantEncode', 'eval': name}, malignant_encoder)],\n",
    "                                                                        title=[f'Test - {name}'])))"
   ]
  },
  {
   "cell_type": "code",
   "execution_count": null,
   "metadata": {},
   "outputs": [],
   "source": [
    "inputs_inst = IO.load(weak_file)\n",
    "inputs_inst = inputs_inst[inputs_inst['Label']!='Unknown'].reset_index(drop=True)\n",
    "\n",
    "malignant_encoder = OrderedEncoder().fit(['Rest', 'Malignant'])\n",
    "Tools.transform(inputs_inst, {'datum': 'Malignant'}, malignant_encoder, 'MalignantEncode')\n",
    "\n",
    "# ROC Curve\n",
    "ViewsTools.plot_size((8,8))\n",
    "    \n",
    "for model in models:  \n",
    "    # Decompose model\n",
    "    model_name, model_process, model_params = model        \n",
    "    \n",
    "    name = model_name\n",
    "    # Label\n",
    "    inputs_lm = inputs_inst[(inputs_inst['Diagnosis']=='LM/LMM')]\n",
    "    display(HTML(ViewsTools.dataframe_renderer([Views.report(inputs_lm, {'label_encode': 'MalignantEncode', 'eval': name}, malignant_encoder)],\n",
    "                                                                        title=[f'Test LM- {name}'])))"
   ]
  },
  {
   "cell_type": "code",
   "execution_count": null,
   "metadata": {},
   "outputs": [],
   "source": []
  }
 ],
 "metadata": {
  "kernelspec": {
   "display_name": "Python 3",
   "language": "python",
   "name": "python3"
  },
  "language_info": {
   "codemirror_mode": {
    "name": "ipython",
    "version": 3
   },
   "file_extension": ".py",
   "mimetype": "text/x-python",
   "name": "python",
   "nbconvert_exporter": "python",
   "pygments_lexer": "ipython3",
   "version": "3.7.6"
  },
  "pycharm": {
   "stem_cell": {
    "cell_type": "raw",
    "metadata": {
     "collapsed": false
    },
    "source": []
   }
  },
  "varInspector": {
   "cols": {
    "lenName": 16,
    "lenType": 16,
    "lenVar": 40
   },
   "kernels_config": {
    "python": {
     "delete_cmd_postfix": "",
     "delete_cmd_prefix": "del ",
     "library": "var_list.py",
     "varRefreshCmd": "print(var_dic_list())"
    },
    "r": {
     "delete_cmd_postfix": ") ",
     "delete_cmd_prefix": "rm(",
     "library": "var_list.r",
     "varRefreshCmd": "cat(var_dic_list()) "
    }
   },
   "oldHeight": 479.78799999999995,
   "position": {
    "height": "40px",
    "left": "1406px",
    "right": "20px",
    "top": "134px",
    "width": "350px"
   },
   "types_to_exclude": [
    "module",
    "function",
    "builtin_function_or_method",
    "instance",
    "_Feature"
   ],
   "varInspector_section_display": "none",
   "window_display": true
  }
 },
 "nbformat": 4,
 "nbformat_minor": 2
}
